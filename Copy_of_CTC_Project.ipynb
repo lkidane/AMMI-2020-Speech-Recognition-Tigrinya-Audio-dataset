{
  "nbformat": 4,
  "nbformat_minor": 0,
  "metadata": {
    "accelerator": "GPU",
    "colab": {
      "name": "Copy of CTC Project.ipynb",
      "provenance": [],
      "collapsed_sections": [],
      "toc_visible": true,
      "include_colab_link": true
    },
    "kernelspec": {
      "display_name": "Python 3",
      "language": "python",
      "name": "python3"
    },
    "language_info": {
      "codemirror_mode": {
        "name": "ipython",
        "version": 3
      },
      "file_extension": ".py",
      "mimetype": "text/x-python",
      "name": "python",
      "nbconvert_exporter": "python",
      "pygments_lexer": "ipython3",
      "version": "3.7.3"
    }
  },
  "cells": [
    {
      "cell_type": "markdown",
      "metadata": {
        "id": "view-in-github",
        "colab_type": "text"
      },
      "source": [
        "<a href=\"https://colab.research.google.com/github/lkidane/AMMI-2020-Speech-Recognition-Tigrinya-Audio-dataset/blob/master/Copy_of_CTC_Project.ipynb\" target=\"_parent\"><img src=\"https://colab.research.google.com/assets/colab-badge.svg\" alt=\"Open In Colab\"/></a>"
      ]
    },
    {
      "cell_type": "code",
      "metadata": {
        "colab_type": "code",
        "id": "jzzuGAMna4NG",
        "colab": {}
      },
      "source": [
        "from pydrive.auth import GoogleAuth\n",
        "from pydrive.drive import GoogleDrive\n",
        "from google.colab import auth\n",
        "from oauth2client.client import GoogleCredentials\n",
        "auth.authenticate_user()\n",
        "gauth = GoogleAuth()\n",
        "gauth.credentials = GoogleCredentials.get_application_default()\n",
        "drive = GoogleDrive(gauth)\n",
        "import matplotlib.pyplot as plt\n"
      ],
      "execution_count": 1,
      "outputs": []
    },
    {
      "cell_type": "code",
      "metadata": {
        "id": "7MYDQlReQGJ4",
        "colab_type": "code",
        "colab": {
          "base_uri": "https://localhost:8080/",
          "height": 124
        },
        "outputId": "58395b49-7cfd-452b-d8d6-7a0e4a0ee212"
      },
      "source": [
        "\n",
        "\n",
        "from google.colab import drive\n",
        "drive.mount('/content/drive')"
      ],
      "execution_count": 2,
      "outputs": [
        {
          "output_type": "stream",
          "text": [
            "Go to this URL in a browser: https://accounts.google.com/o/oauth2/auth?client_id=947318989803-6bn6qk8qdgf4n4g3pfee6491hc0brc4i.apps.googleusercontent.com&redirect_uri=urn%3aietf%3awg%3aoauth%3a2.0%3aoob&response_type=code&scope=email%20https%3a%2f%2fwww.googleapis.com%2fauth%2fdocs.test%20https%3a%2f%2fwww.googleapis.com%2fauth%2fdrive%20https%3a%2f%2fwww.googleapis.com%2fauth%2fdrive.photos.readonly%20https%3a%2f%2fwww.googleapis.com%2fauth%2fpeopleapi.readonly\n",
            "\n",
            "Enter your authorization code:\n",
            "··········\n",
            "Mounted at /content/drive\n"
          ],
          "name": "stdout"
        }
      ]
    },
    {
      "cell_type": "code",
      "metadata": {
        "id": "Rnawpgb5BMRe",
        "colab_type": "code",
        "colab": {
          "base_uri": "https://localhost:8080/",
          "height": 523
        },
        "outputId": "4d37b87d-5bdc-44ed-905a-9817759bc90c"
      },
      "source": [
        "!pip install torchaudio\n",
        "!pip install PyDrive\n",
        "!pip install soundfile"
      ],
      "execution_count": 3,
      "outputs": [
        {
          "output_type": "stream",
          "text": [
            "Collecting torchaudio\n",
            "\u001b[?25l  Downloading https://files.pythonhosted.org/packages/e9/0a/40e53c686c2af65b2a4e818d11d9b76fa79178440caf99f3ceb2a32c3b04/torchaudio-0.5.1-cp36-cp36m-manylinux1_x86_64.whl (3.2MB)\n",
            "\u001b[K     |████████████████████████████████| 3.2MB 5.8MB/s \n",
            "\u001b[?25hRequirement already satisfied: torch==1.5.1 in /usr/local/lib/python3.6/dist-packages (from torchaudio) (1.5.1+cu101)\n",
            "Requirement already satisfied: future in /usr/local/lib/python3.6/dist-packages (from torch==1.5.1->torchaudio) (0.16.0)\n",
            "Requirement already satisfied: numpy in /usr/local/lib/python3.6/dist-packages (from torch==1.5.1->torchaudio) (1.18.5)\n",
            "Installing collected packages: torchaudio\n",
            "Successfully installed torchaudio-0.5.1\n",
            "Requirement already satisfied: PyDrive in /usr/local/lib/python3.6/dist-packages (1.3.1)\n",
            "Requirement already satisfied: google-api-python-client>=1.2 in /usr/local/lib/python3.6/dist-packages (from PyDrive) (1.7.12)\n",
            "Requirement already satisfied: oauth2client>=4.0.0 in /usr/local/lib/python3.6/dist-packages (from PyDrive) (4.1.3)\n",
            "Requirement already satisfied: PyYAML>=3.0 in /usr/local/lib/python3.6/dist-packages (from PyDrive) (3.13)\n",
            "Requirement already satisfied: google-auth>=1.4.1 in /usr/local/lib/python3.6/dist-packages (from google-api-python-client>=1.2->PyDrive) (1.17.2)\n",
            "Requirement already satisfied: uritemplate<4dev,>=3.0.0 in /usr/local/lib/python3.6/dist-packages (from google-api-python-client>=1.2->PyDrive) (3.0.1)\n",
            "Requirement already satisfied: google-auth-httplib2>=0.0.3 in /usr/local/lib/python3.6/dist-packages (from google-api-python-client>=1.2->PyDrive) (0.0.3)\n",
            "Requirement already satisfied: six<2dev,>=1.6.1 in /usr/local/lib/python3.6/dist-packages (from google-api-python-client>=1.2->PyDrive) (1.12.0)\n",
            "Requirement already satisfied: httplib2<1dev,>=0.17.0 in /usr/local/lib/python3.6/dist-packages (from google-api-python-client>=1.2->PyDrive) (0.17.4)\n",
            "Requirement already satisfied: pyasn1-modules>=0.0.5 in /usr/local/lib/python3.6/dist-packages (from oauth2client>=4.0.0->PyDrive) (0.2.8)\n",
            "Requirement already satisfied: rsa>=3.1.4 in /usr/local/lib/python3.6/dist-packages (from oauth2client>=4.0.0->PyDrive) (4.6)\n",
            "Requirement already satisfied: pyasn1>=0.1.7 in /usr/local/lib/python3.6/dist-packages (from oauth2client>=4.0.0->PyDrive) (0.4.8)\n",
            "Requirement already satisfied: cachetools<5.0,>=2.0.0 in /usr/local/lib/python3.6/dist-packages (from google-auth>=1.4.1->google-api-python-client>=1.2->PyDrive) (4.1.0)\n",
            "Requirement already satisfied: setuptools>=40.3.0 in /usr/local/lib/python3.6/dist-packages (from google-auth>=1.4.1->google-api-python-client>=1.2->PyDrive) (47.3.1)\n",
            "Collecting soundfile\n",
            "  Downloading https://files.pythonhosted.org/packages/eb/f2/3cbbbf3b96fb9fa91582c438b574cff3f45b29c772f94c400e2c99ef5db9/SoundFile-0.10.3.post1-py2.py3-none-any.whl\n",
            "Requirement already satisfied: cffi>=1.0 in /usr/local/lib/python3.6/dist-packages (from soundfile) (1.14.0)\n",
            "Requirement already satisfied: pycparser in /usr/local/lib/python3.6/dist-packages (from cffi>=1.0->soundfile) (2.20)\n",
            "Installing collected packages: soundfile\n",
            "Successfully installed soundfile-0.10.3.post1\n"
          ],
          "name": "stdout"
        }
      ]
    },
    {
      "cell_type": "code",
      "metadata": {
        "colab_type": "code",
        "id": "ppRP3ZqP8vZP",
        "colab": {}
      },
      "source": [
        "import torch\n",
        "import torchaudio"
      ],
      "execution_count": 4,
      "outputs": []
    },
    {
      "cell_type": "code",
      "metadata": {
        "id": "7QYBWruDBgvL",
        "colab_type": "code",
        "colab": {
          "base_uri": "https://localhost:8080/",
          "height": 121
        },
        "outputId": "af8831d7-9987-4bf4-c728-5da125548bb7"
      },
      "source": [
        "! git clone https://github.com/facebookresearch/CPC_audio.git"
      ],
      "execution_count": 5,
      "outputs": [
        {
          "output_type": "stream",
          "text": [
            "Cloning into 'CPC_audio'...\n",
            "remote: Enumerating objects: 84, done.\u001b[K\n",
            "remote: Counting objects:   1% (1/84)\u001b[K\rremote: Counting objects:   2% (2/84)\u001b[K\rremote: Counting objects:   3% (3/84)\u001b[K\rremote: Counting objects:   4% (4/84)\u001b[K\rremote: Counting objects:   5% (5/84)\u001b[K\rremote: Counting objects:   7% (6/84)\u001b[K\rremote: Counting objects:   8% (7/84)\u001b[K\rremote: Counting objects:   9% (8/84)\u001b[K\rremote: Counting objects:  10% (9/84)\u001b[K\rremote: Counting objects:  11% (10/84)\u001b[K\rremote: Counting objects:  13% (11/84)\u001b[K\rremote: Counting objects:  14% (12/84)\u001b[K\rremote: Counting objects:  15% (13/84)\u001b[K\rremote: Counting objects:  16% (14/84)\u001b[K\rremote: Counting objects:  17% (15/84)\u001b[K\rremote: Counting objects:  19% (16/84)\u001b[K\rremote: Counting objects:  20% (17/84)\u001b[K\rremote: Counting objects:  21% (18/84)\u001b[K\rremote: Counting objects:  22% (19/84)\u001b[K\rremote: Counting objects:  23% (20/84)\u001b[K\rremote: Counting objects:  25% (21/84)\u001b[K\rremote: Counting objects:  26% (22/84)\u001b[K\rremote: Counting objects:  27% (23/84)\u001b[K\rremote: Counting objects:  28% (24/84)\u001b[K\rremote: Counting objects:  29% (25/84)\u001b[K\rremote: Counting objects:  30% (26/84)\u001b[K\rremote: Counting objects:  32% (27/84)\u001b[K\rremote: Counting objects:  33% (28/84)\u001b[K\rremote: Counting objects:  34% (29/84)\u001b[K\rremote: Counting objects:  35% (30/84)\u001b[K\rremote: Counting objects:  36% (31/84)\u001b[K\rremote: Counting objects:  38% (32/84)\u001b[K\rremote: Counting objects:  39% (33/84)\u001b[K\rremote: Counting objects:  40% (34/84)\u001b[K\rremote: Counting objects:  41% (35/84)\u001b[K\rremote: Counting objects:  42% (36/84)\u001b[K\rremote: Counting objects:  44% (37/84)\u001b[K\rremote: Counting objects:  45% (38/84)\u001b[K\rremote: Counting objects:  46% (39/84)\u001b[K\rremote: Counting objects:  47% (40/84)\u001b[K\rremote: Counting objects:  48% (41/84)\u001b[K\rremote: Counting objects:  50% (42/84)\u001b[K\rremote: Counting objects:  51% (43/84)\u001b[K\rremote: Counting objects:  52% (44/84)\u001b[K\rremote: Counting objects:  53% (45/84)\u001b[K\rremote: Counting objects:  54% (46/84)\u001b[K\rremote: Counting objects:  55% (47/84)\u001b[K\rremote: Counting objects:  57% (48/84)\u001b[K\rremote: Counting objects:  58% (49/84)\u001b[K\rremote: Counting objects:  59% (50/84)\u001b[K\rremote: Counting objects:  60% (51/84)\u001b[K\rremote: Counting objects:  61% (52/84)\u001b[K\rremote: Counting objects:  63% (53/84)\u001b[K\rremote: Counting objects:  64% (54/84)\u001b[K\rremote: Counting objects:  65% (55/84)\u001b[K\rremote: Counting objects:  66% (56/84)\u001b[K\rremote: Counting objects:  67% (57/84)\u001b[K\rremote: Counting objects:  69% (58/84)\u001b[K\rremote: Counting objects:  70% (59/84)\u001b[K\rremote: Counting objects:  71% (60/84)\u001b[K\rremote: Counting objects:  72% (61/84)\u001b[K\rremote: Counting objects:  73% (62/84)\u001b[K\rremote: Counting objects:  75% (63/84)\u001b[K\rremote: Counting objects:  76% (64/84)\u001b[K\rremote: Counting objects:  77% (65/84)\u001b[K\rremote: Counting objects:  78% (66/84)\u001b[K\rremote: Counting objects:  79% (67/84)\u001b[K\rremote: Counting objects:  80% (68/84)\u001b[K\rremote: Counting objects:  82% (69/84)\u001b[K\rremote: Counting objects:  83% (70/84)\u001b[K\rremote: Counting objects:  84% (71/84)\u001b[K\rremote: Counting objects:  85% (72/84)\u001b[K\rremote: Counting objects:  86% (73/84)\u001b[K\rremote: Counting objects:  88% (74/84)\u001b[K\rremote: Counting objects:  89% (75/84)\u001b[K\rremote: Counting objects:  90% (76/84)\u001b[K\rremote: Counting objects:  91% (77/84)\u001b[K\rremote: Counting objects:  92% (78/84)\u001b[K\rremote: Counting objects:  94% (79/84)\u001b[K\rremote: Counting objects:  95% (80/84)\u001b[K\rremote: Counting objects:  96% (81/84)\u001b[K\rremote: Counting objects:  97% (82/84)\u001b[K\rremote: Counting objects:  98% (83/84)\u001b[K\rremote: Counting objects: 100% (84/84)\u001b[K\rremote: Counting objects: 100% (84/84), done.\u001b[K\n",
            "remote: Compressing objects: 100% (65/65), done.\u001b[K\n",
            "remote: Total 84 (delta 13), reused 75 (delta 6), pack-reused 0\u001b[K\n",
            "Unpacking objects: 100% (84/84), done.\n"
          ],
          "name": "stdout"
        }
      ]
    },
    {
      "cell_type": "code",
      "metadata": {
        "id": "UZpCkWglBk5M",
        "colab_type": "code",
        "colab": {
          "base_uri": "https://localhost:8080/",
          "height": 697
        },
        "outputId": "2715d4fd-0b9e-4cf5-a995-a428d9680300"
      },
      "source": [
        "%cd /content/CPC_audio\n",
        "!python setup.py develop"
      ],
      "execution_count": 6,
      "outputs": [
        {
          "output_type": "stream",
          "text": [
            "/content/CPC_audio\n",
            "Compiling cpc/eval/ABX/dtw.pyx because it changed.\n",
            "[1/1] Cythonizing cpc/eval/ABX/dtw.pyx\n",
            "running develop\n",
            "running egg_info\n",
            "creating CPC_audio.egg-info\n",
            "writing CPC_audio.egg-info/PKG-INFO\n",
            "writing dependency_links to CPC_audio.egg-info/dependency_links.txt\n",
            "writing top-level names to CPC_audio.egg-info/top_level.txt\n",
            "writing manifest file 'CPC_audio.egg-info/SOURCES.txt'\n",
            "writing manifest file 'CPC_audio.egg-info/SOURCES.txt'\n",
            "running build_ext\n",
            "building 'cpc.eval.ABX.dtw' extension\n",
            "creating build\n",
            "creating build/temp.linux-x86_64-3.6\n",
            "creating build/temp.linux-x86_64-3.6/cpc\n",
            "creating build/temp.linux-x86_64-3.6/cpc/eval\n",
            "creating build/temp.linux-x86_64-3.6/cpc/eval/ABX\n",
            "x86_64-linux-gnu-gcc -pthread -DNDEBUG -g -fwrapv -O2 -Wall -g -fstack-protector-strong -Wformat -Werror=format-security -Wdate-time -D_FORTIFY_SOURCE=2 -fPIC -I/usr/local/lib/python3.6/dist-packages/numpy/core/include -I/usr/include/python3.6m -c cpc/eval/ABX/dtw.c -o build/temp.linux-x86_64-3.6/cpc/eval/ABX/dtw.o\n",
            "In file included from \u001b[01m\u001b[K/usr/local/lib/python3.6/dist-packages/numpy/core/include/numpy/ndarraytypes.h:1832:0\u001b[m\u001b[K,\n",
            "                 from \u001b[01m\u001b[K/usr/local/lib/python3.6/dist-packages/numpy/core/include/numpy/ndarrayobject.h:12\u001b[m\u001b[K,\n",
            "                 from \u001b[01m\u001b[K/usr/local/lib/python3.6/dist-packages/numpy/core/include/numpy/arrayobject.h:4\u001b[m\u001b[K,\n",
            "                 from \u001b[01m\u001b[Kcpc/eval/ABX/dtw.c:625\u001b[m\u001b[K:\n",
            "\u001b[01m\u001b[K/usr/local/lib/python3.6/dist-packages/numpy/core/include/numpy/npy_1_7_deprecated_api.h:17:2:\u001b[m\u001b[K \u001b[01;35m\u001b[Kwarning: \u001b[m\u001b[K#warning \"Using deprecated NumPy API, disable it with \" \"#define NPY_NO_DEPRECATED_API NPY_1_7_API_VERSION\" [\u001b[01;35m\u001b[K-Wcpp\u001b[m\u001b[K]\n",
            " #\u001b[01;35m\u001b[Kwarning\u001b[m\u001b[K \"Using deprecated NumPy API, disable it with \" \\\n",
            "  \u001b[01;35m\u001b[K^~~~~~~\u001b[m\u001b[K\n",
            "creating build/lib.linux-x86_64-3.6\n",
            "creating build/lib.linux-x86_64-3.6/cpc\n",
            "creating build/lib.linux-x86_64-3.6/cpc/eval\n",
            "creating build/lib.linux-x86_64-3.6/cpc/eval/ABX\n",
            "x86_64-linux-gnu-gcc -pthread -shared -Wl,-O1 -Wl,-Bsymbolic-functions -Wl,-Bsymbolic-functions -Wl,-z,relro -Wl,-Bsymbolic-functions -Wl,-z,relro -g -fstack-protector-strong -Wformat -Werror=format-security -Wdate-time -D_FORTIFY_SOURCE=2 build/temp.linux-x86_64-3.6/cpc/eval/ABX/dtw.o -o build/lib.linux-x86_64-3.6/cpc/eval/ABX/dtw.cpython-36m-x86_64-linux-gnu.so\n",
            "copying build/lib.linux-x86_64-3.6/cpc/eval/ABX/dtw.cpython-36m-x86_64-linux-gnu.so -> cpc/eval/ABX\n",
            "Creating /usr/local/lib/python3.6/dist-packages/CPC-audio.egg-link (link to .)\n",
            "Adding CPC-audio 1.0 to easy-install.pth file\n",
            "\n",
            "Installed /content/CPC_audio\n",
            "Processing dependencies for CPC-audio==1.0\n",
            "Finished processing dependencies for CPC-audio==1.0\n"
          ],
          "name": "stdout"
        }
      ]
    },
    {
      "cell_type": "markdown",
      "metadata": {
        "colab_type": "text",
        "id": "YZ1Wywx3BNGS"
      },
      "source": [
        "# Part 1 : contrastive predictive coding\n",
        "\n",
        "Contrastive Predictive Coding (CPC) is a method of unsupervised training for speech models. The idea behind it is pretty simple:\n",
        "\n",
        "\n",
        "1.   The raw audio wave is passed through a convolutional network: the ```encoder```\n",
        "2.   Then, the encoder's output is given to a recurrent network the ```context```\n",
        "3. A third party network, the ```prediction_network``` will try to predict the  future embeddings of the encoder using the output of the context network.\n",
        "\n",
        "In order to avoid a collapse to trivial solutions, the prediction_network doesn't try to reconstruct the future features. Instead, using the context output $c_t$ at time $t$ it is trained to discriminate the real  encoder representatioin $g_{t+k}$ at time $t+k$ from several other features $(g_n)_n$ taken elsewhere in the batch. Thus the loss becomes:\n",
        "\n",
        "\\\\[ \\mathcal{L}_c = - \\frac{1}{K} \\sum_{k=1}^K \\text{Cross_entropy}(\\phi_k(c_t), g_{t+k}) \\\\]\n",
        "\n",
        "Or:\n",
        "\n",
        "\\\\[ \\mathcal{L}_c = - \\frac{1}{K} \\sum_{k=1}^K \\log \\frac{ \\exp\\left(\\phi_k(c_t)^\\top g_{t+k}\\right) }{  \\sum_{\\mathbf{n}\\in\\mathcal{N}_t} \\exp\\left(\\phi_k(c_t)^\\top g_n\\right)} \\\\]\n",
        "\n",
        "Where:\n",
        "\n",
        "\n",
        "*   $\\phi_k$ is the prediction network for the kth timestep\n",
        "*   $\\mathcal{N}_t$ is the set of all negative examples sampled for timestep $t$\n",
        "\n",
        "\n"
      ]
    },
    {
      "cell_type": "markdown",
      "metadata": {
        "colab_type": "text",
        "id": "frPFYXuPfNPs"
      },
      "source": [
        "## Exercice 1 : Building the model\n",
        "\n",
        "In this exercise, we will build and train a small CPC model using the repository CPC_audio.\n",
        "\n",
        "The code below loads a context and an encoder newtorks."
      ]
    },
    {
      "cell_type": "code",
      "metadata": {
        "colab_type": "code",
        "id": "8g-xPSdLRdui",
        "colab": {
          "base_uri": "https://localhost:8080/",
          "height": 34
        },
        "outputId": "4491059c-d96d-49c6-dbd8-cb9e987aec8e"
      },
      "source": [
        "%cd /content/CPC_audio\n",
        "from cpc.model import CPCEncoder, CPCAR\n",
        "device = torch.device(\"cuda:0\" if torch.cuda.is_available() else \"cpu\")\n",
        "\n",
        "DIM_ENCODER=256\n",
        "DIM_CONTEXT=256\n",
        "KEEP_HIDDEN_VECTOR=False\n",
        "N_LEVELS_CONTEXT=1\n",
        "CONTEXT_RNN=\"LSTM\"\n",
        "N_PREDICTIONS=12\n",
        "LEARNING_RATE=2e-4\n",
        "N_NEGATIVE_SAMPLE =128"
      ],
      "execution_count": 13,
      "outputs": [
        {
          "output_type": "stream",
          "text": [
            "/content/CPC_audio\n"
          ],
          "name": "stdout"
        }
      ]
    },
    {
      "cell_type": "code",
      "metadata": {
        "colab_type": "code",
        "id": "7Wx8WkrQk9bQ",
        "colab": {}
      },
      "source": [
        "encoder = CPCEncoder(DIM_ENCODER).to(device)\n",
        "context = CPCAR(DIM_ENCODER, DIM_CONTEXT, KEEP_HIDDEN_VECTOR, 1, mode=CONTEXT_RNN).to(device)"
      ],
      "execution_count": 14,
      "outputs": []
    },
    {
      "cell_type": "code",
      "metadata": {
        "colab_type": "code",
        "id": "f9BrweAIla4J",
        "colab": {}
      },
      "source": [
        "# Several functions that will be necessary to load the data later\n",
        "from cpc.dataset import findAllSeqs, AudioBatchData, parseSeqLabels\n",
        "SIZE_WINDOW = 20480\n",
        "BATCH_SIZE=8\n",
        "def load_dataset(path_dataset, file_extension='.wav', phone_label_dict=None):\n",
        "  data_list, speakers = findAllSeqs(path_dataset, extension=file_extension)\n",
        "  dataset = AudioBatchData(path_dataset, SIZE_WINDOW, data_list, phone_label_dict, len(speakers))\n",
        "  return dataset"
      ],
      "execution_count": 15,
      "outputs": []
    },
    {
      "cell_type": "markdown",
      "metadata": {
        "colab_type": "text",
        "id": "58pQ7ysXk9ZO"
      },
      "source": [
        "Now build a new class, ```CPCModel``` which will"
      ]
    },
    {
      "cell_type": "code",
      "metadata": {
        "colab_type": "code",
        "id": "rR5IYRTpRF8T",
        "colab": {}
      },
      "source": [
        "class CPCModel(torch.nn.Module):\n",
        "\n",
        "    def __init__(self,\n",
        "                 encoder,\n",
        "                 AR):\n",
        "\n",
        "        super(CPCModel, self).__init__()\n",
        "        self.gEncoder = encoder\n",
        "        self.gAR = AR\n",
        "\n",
        "    def forward(self, batch_data):\n",
        "        \n",
        "\n",
        "        encoder_output = self.gEncoder(batch_data)\n",
        "        #print(encoder_output.shape)\n",
        "        # The output of the encoder data does not have the good format \n",
        "        # indeed it is Batch_size x Hidden_size x temp size\n",
        "        # while the context requires Batch_size  x temp size x Hidden_size\n",
        "        # thus you need to permute\n",
        "        context_input = encoder_output.permute(0, 2, 1)\n",
        "\n",
        "        context_output = self.gAR(context_input)\n",
        "        #print(context_output.shape)\n",
        "        return context_output, encoder_output"
      ],
      "execution_count": 16,
      "outputs": []
    },
    {
      "cell_type": "markdown",
      "metadata": {
        "colab_type": "text",
        "id": "XUJgm6Rl4vS4"
      },
      "source": [
        "Let's test your code !\n"
      ]
    },
    {
      "cell_type": "code",
      "metadata": {
        "colab_type": "code",
        "id": "D1x1n4mv4y03",
        "colab": {}
      },
      "source": [
        "audio = torchaudio.load(\"/content/drive/My Drive/Speech Rec Project/data/0/200630-192328_tir_c85_elicit_0 (copy).wav\")[0]\n",
        "audio = audio.view(1, 1, -1)\n",
        "cpc_model = CPCModel(encoder, context).to(device)\n",
        "context_output, encoder_output = cpc_model(audio.to(device))"
      ],
      "execution_count": 17,
      "outputs": []
    },
    {
      "cell_type": "markdown",
      "metadata": {
        "colab_type": "text",
        "id": "X27ce8Hy3C2p"
      },
      "source": [
        "## Exercise 2 : CPC loss\n",
        "\n",
        "We will define a class ```CPCCriterion``` which will hold the prediction networks $\\phi_k$ defined above and perform the classification loss $\\mathcal{L}_c$.\n",
        "\n",
        "a) In this exercise, the $\\phi_k$ will be a linear transform, ie:\n",
        "\n",
        "\\\\[ \\phi_k(c_t) = \\mathbf{A}_k c_t\\\\]\n",
        "\n",
        "Using the class [torch.nn.Linear](https://pytorch.org/docs/stable/nn.html#torch.nn.Linear), define the transformations $\\phi_k$ in the code below and complete the function ```get_prediction_k``` which computes $\\phi_k(c_t)$ for a given batch of vectors $c_t$.\n",
        "\n",
        "b) Using both ```get_prediction_k```  and ```sample_negatives``` defined below, write the forward function which will take as input two batches of features $c_t$ and $g_t$ and outputs the classification loss $\\mathcal{L}_c$ and the average acuracy for all predictions. "
      ]
    },
    {
      "cell_type": "code",
      "metadata": {
        "colab_type": "code",
        "id": "UlAs-z1fBc3W",
        "colab": {}
      },
      "source": [
        "# Exercice 2: write the CPC loss\n",
        "# a) Write the negative sampling (with some help)\n",
        "# ERRATUM: it's really hard, the sampling will be provided\n",
        "\n",
        "class CPCCriterion(torch.nn.Module):\n",
        "\n",
        "  def __init__(self,\n",
        "               K,\n",
        "               dim_context,\n",
        "               dim_encoder,\n",
        "               n_negative):\n",
        "    super(CPCCriterion, self).__init__()\n",
        "    self.K_ = K\n",
        "    self.dim_context = dim_context\n",
        "    self.dim_encoder = dim_encoder\n",
        "    self.n_negative = n_negative\n",
        "\n",
        "    self.predictors = torch.nn.ModuleList() \n",
        "    for k in range(self.K_):\n",
        "      # TO COMPLETE !\n",
        "      \n",
        "      # A affine transformation in pytorch is equivalent to a nn.Linear layer\n",
        "      # To get a linear transformation you must set bias=False\n",
        "      # input dimension of the layer = dimension of the encoder\n",
        "      # output dimension of the layer = dimension of the context\n",
        "      self.predictors.append(torch.nn.Linear(dim_context, dim_encoder, bias=False))\n",
        "\n",
        "  def get_prediction_k(self, context_data):\n",
        "\n",
        "    #TO COMPLETE !\n",
        "    output = [] \n",
        "    # For each time step k\n",
        "    for k in range(self.K_):\n",
        "\n",
        "      # We need to compute phi_k = A_k * c_t\n",
        "      phi_k = self.predictors[k](context_data)\n",
        "      output.append(phi_k)\n",
        "\n",
        "    return output\n",
        "\n",
        "\n",
        "  def sample_negatives(self, encoded_data):\n",
        "    r\"\"\"\n",
        "    Sample some negative examples in the given encoded data.\n",
        "    Input:\n",
        "    - encoded_data size: B x T x H\n",
        "    Returns\n",
        "    - outputs of size B x (n_negative + 1) x (T - K_) x H\n",
        "      outputs[:, 0, :, :] contains the positive example\n",
        "      outputs[:, 1:, :, :] contains negative example sampled in the batch\n",
        "    - labels, long tensor of size B x (T - K_)\n",
        "      Since the positive example is always at coordinates 0 for all sequences \n",
        "      in the batch and all timestep in the sequence, labels is just a tensor\n",
        "      full of zeros !\n",
        "    \"\"\"\n",
        "    batch_size, time_size, dim_encoded = encoded_data.size()\n",
        "    window_size = time_size - self.K_\n",
        "    outputs = []\n",
        "\n",
        "    neg_ext = encoded_data.contiguous().view(-1, dim_encoded)\n",
        "    n_elem_sampled = self.n_negative * window_size * batch_size\n",
        "    # Draw nNegativeExt * batchSize negative samples anywhere in the batch\n",
        "    batch_idx = torch.randint(low=0, high=batch_size,\n",
        "                              size=(n_elem_sampled, ),\n",
        "                              device=encoded_data.device)\n",
        "\n",
        "    seq_idx = torch.randint(low=1, high=time_size,\n",
        "                            size=(n_elem_sampled, ),\n",
        "                            device=encoded_data.device)\n",
        "\n",
        "    base_idx = torch.arange(0, window_size, device=encoded_data.device)\n",
        "    base_idx = base_idx.view(1, 1, window_size)\n",
        "    base_idx = base_idx.expand(1, self.n_negative, window_size)\n",
        "    base_idx = base_idx.expand(batch_size, self.n_negative, window_size)\n",
        "    seq_idx += base_idx.contiguous().view(-1)\n",
        "    seq_idx = torch.remainder(seq_idx, time_size)\n",
        "\n",
        "    ext_idx = seq_idx + batch_idx * time_size\n",
        "    neg_ext = neg_ext[ext_idx].view(batch_size, self.n_negative,\n",
        "                                    window_size, dim_encoded)\n",
        "    label_loss = torch.zeros((batch_size, window_size),\n",
        "                              dtype=torch.long,\n",
        "                              device=encoded_data.device)\n",
        "\n",
        "    for k in range(1, self.K_ + 1):\n",
        "\n",
        "      # Positive samples\n",
        "      if k < self.K_:\n",
        "          pos_seq = encoded_data[:, k:-(self.K_-k)]\n",
        "      else:\n",
        "          pos_seq = encoded_data[:, k:]\n",
        "\n",
        "      pos_seq = pos_seq.view(batch_size, 1, pos_seq.size(1), dim_encoded)\n",
        "      full_seq = torch.cat((pos_seq, neg_ext), dim=1)\n",
        "      outputs.append(full_seq)\n",
        "\n",
        "    return outputs, label_loss\n",
        "\n",
        "  def forward(self, encoded_data, context_data):\n",
        "\n",
        "    # TO COMPLETE:\n",
        "    # Perform the full cpc criterion\n",
        "    # Returns 2 values:\n",
        "    # - the average classification loss avg_loss\n",
        "    # - the average classification acuracy avg_acc\n",
        "\n",
        "    # Reminder : The permuation !\n",
        "    encoded_data = encoded_data.permute(0, 2, 1)\n",
        "\n",
        "    # First we need to sample the negative examples\n",
        "    negative_samples, labels = self.sample_negatives(encoded_data)\n",
        "\n",
        "    # Then we must compute phi_k\n",
        "    phi_k = self.get_prediction_k(context_data)\n",
        "\n",
        "    # Finally we must get the dot product between phi_k and negative_samples \n",
        "    # for each k\n",
        "\n",
        "    #The total loss is the average of all losses\n",
        "    avg_loss = 0\n",
        "\n",
        "    # Average acuracy\n",
        "    avg_acc = 0\n",
        "\n",
        "    for k in range(self.K_):\n",
        "      B, N_sampled, S_small, H = negative_samples[k].size() \n",
        "      B, S, H = phi_k[k].size()\n",
        "\n",
        "      # As told before S = S_small + K. For segments too far in the sequence\n",
        "      # there are no positive exmples anyway, so we must shorten phi_k\n",
        "      phi = phi_k[k][:, :S_small]\n",
        "\n",
        "      # Now the dot product\n",
        "      # You have several ways to do that, let's do the simple but non optimal \n",
        "      # one\n",
        "      # pytorch has a matrix product function https://pytorch.org/docs/stable/torch.html#torch.bmm\n",
        "      # But it takes only 3D tensors of the same batch size !\n",
        "      # To begin negative_samples is a 4D tensor ! \n",
        "      # We want to compute the dot product for each features, of each sequence\n",
        "      # of the batch. Thus we are trying to compute a dot product for all\n",
        "      # B* N_sampled * S_small 1D vector of negative_samples[k]\n",
        "      # Or, a 1D tensor of size H is also a matrix of size 1 x H\n",
        "      # Then, we must view it as a 3D tensor of size (B* N_sampled * S_small, 1, H)\n",
        "      negative_sample_k  =  negative_samples[k].view(B* N_sampled* S_small, 1, H)\n",
        "\n",
        "      # But now phi and negative_sample_k no longer have the same batch size !\n",
        "      # No worries, we can expand phi so that each sequence of the batch\n",
        "      # is repeated N_sampled times\n",
        "      phi = phi.view(B, 1,S_small, H).expand(B, N_sampled, S_small, H)\n",
        "\n",
        "      # And now we can view it as a 3D tensor \n",
        "      phi  = phi.contiguous().view(B * N_sampled * S_small, H, 1)\n",
        "\n",
        "      # We can finally get the dot product !\n",
        "      scores = torch.bmm(negative_sample_k, phi)\n",
        "\n",
        "      # Dot_product has a size (B * N_sampled * S_small , 1, 1)\n",
        "      # Let's reorder it a bit\n",
        "      scores = scores.reshape(B, N_sampled, S_small)\n",
        "\n",
        "      # For each elements of the sequence, and each elements sampled, it gives \n",
        "      # a floating score stating the likelihood of this element being the \n",
        "      # true one.\n",
        "      # Now the classification loss, we need to use the Cross Entropy loss\n",
        "      # https://pytorch.org/docs/master/generated/torch.nn.CrossEntropyLoss.html\n",
        "\n",
        "      # For each time-step of each sequence of the batch \n",
        "      # we have N_sampled possible predictions. \n",
        "      # Looking at the documentation of torch.nn.CrossEntropyLoss\n",
        "      # we can see that this loss expect a tensor of size M x C where \n",
        "      # - M is the number of elements with a classification score\n",
        "      # - C is the number of possible classes\n",
        "      # There are N_sampled candidates for each predictions so\n",
        "      # C = N_sampled \n",
        "      # Each timestep of each sequence of the batch has a prediction so\n",
        "      # M = B * S_small\n",
        "      # Thus we need an input vector of size B * S_small, N_sampled\n",
        "      # To begin, we need to permute the axis\n",
        "      scores = scores.permute(0, 2, 1) # Now it has size B , S_small, N_sampled\n",
        "\n",
        "      # Then we can cast it into a 2D tensor\n",
        "      scores = scores.reshape(B * S_small, N_sampled)\n",
        "\n",
        "      # Same thing for the labels \n",
        "      labels = labels.reshape(B * S_small)\n",
        "\n",
        "      # Finally we can get the classification loss\n",
        "      loss_criterion = torch.nn.CrossEntropyLoss()\n",
        "      loss_k = loss_criterion(scores, labels)\n",
        "      avg_loss+= loss_k\n",
        "\n",
        "      # And for the acuracy\n",
        "      # The prediction for each elements is the sample with the highest score\n",
        "      # Thus the tensors of all predictions is the tensors of the index of the \n",
        "      # maximal score for each time-step of each sequence of the batch\n",
        "      predictions = torch.argmax(scores, 1)\n",
        "      acc_k  = (labels == predictions).sum() / (B * S_small)\n",
        "      avg_acc += acc_k\n",
        "\n",
        "    # Normalization\n",
        "    avg_loss = avg_loss / self.K_\n",
        "    avg_acc = avg_acc / self.K_\n",
        "      \n",
        "    return avg_loss , avg_acc"
      ],
      "execution_count": 18,
      "outputs": []
    },
    {
      "cell_type": "markdown",
      "metadata": {
        "colab_type": "text",
        "id": "0cqGXhLf-_O1"
      },
      "source": [
        "Don't forget to test !"
      ]
    },
    {
      "cell_type": "code",
      "metadata": {
        "colab_type": "code",
        "id": "sYJSMh5I_QCf",
        "colab": {
          "base_uri": "https://localhost:8080/",
          "height": 54
        },
        "outputId": "d46f312e-5c60-405d-a43a-bc4ae28a4dc3"
      },
      "source": [
        "audio = torchaudio.load(\"/content/drive/My Drive/Speech Rec Project/data/0/200630-192328_tir_c85_elicit_0 (copy).wav\")[0]\n",
        "audio = audio.view(1, 1, -1)\n",
        "cpc_criterion = CPCCriterion(N_PREDICTIONS, DIM_CONTEXT, \n",
        "                             DIM_ENCODER, N_NEGATIVE_SAMPLE).to(device)\n",
        "context_output, encoder_output = cpc_model(audio.to(device))\n",
        "loss, avg = cpc_criterion(encoder_output,context_output)"
      ],
      "execution_count": 19,
      "outputs": [
        {
          "output_type": "stream",
          "text": [
            "/pytorch/aten/src/ATen/native/BinaryOps.cpp:81: UserWarning: Integer division of tensors using div or / is deprecated, and in a future release div will perform true division as in Python 3. Use true_divide or floor_divide (// in Python) instead.\n"
          ],
          "name": "stderr"
        }
      ]
    },
    {
      "cell_type": "markdown",
      "metadata": {
        "colab_type": "text",
        "id": "zLv7GoE0_4C3"
      },
      "source": [
        "## Exercise 3: Full training loop !\n",
        "\n",
        "You have the model, you have the criterion. All you need now are a data loader and an optimizer to run your training loop.\n",
        "\n",
        "We will use an Adam optimizer:"
      ]
    },
    {
      "cell_type": "code",
      "metadata": {
        "colab_type": "code",
        "id": "zcg29tqPAIR1",
        "colab": {}
      },
      "source": [
        "parameters = list(cpc_criterion.parameters()) + list(cpc_model.parameters())\n",
        "optimizer = torch.optim.Adam(parameters, lr=LEARNING_RATE)"
      ],
      "execution_count": 21,
      "outputs": []
    },
    {
      "cell_type": "markdown",
      "metadata": {
        "colab_type": "text",
        "id": "hETDwSfTAuF4"
      },
      "source": [
        "And as far as the data loader is concerned, we will rely on the data loader provided by the CPC_audio library."
      ]
    },
    {
      "cell_type": "code",
      "metadata": {
        "id": "8pWKBYv8RYeC",
        "colab_type": "code",
        "colab": {
          "base_uri": "https://localhost:8080/",
          "height": 34
        },
        "outputId": "f372d055-afa3-40ea-8d14-ff3a9065db54"
      },
      "source": [
        "ls '/content/gdrive/My Drive/Speech Rec Project/data/train/0/audio'"
      ],
      "execution_count": 22,
      "outputs": [
        {
          "output_type": "stream",
          "text": [
            "ls: cannot access '/content/gdrive/My Drive/Speech Rec Project/data/train/0/audio': No such file or directory\n"
          ],
          "name": "stdout"
        }
      ]
    },
    {
      "cell_type": "code",
      "metadata": {
        "colab_type": "code",
        "id": "O6KES4RXA0tU",
        "colab": {
          "base_uri": "https://localhost:8080/",
          "height": 330
        },
        "outputId": "ffcf118a-5d0c-4b1d-bb9d-334686acda8e"
      },
      "source": [
        "dataset_train = load_dataset('/content/drive/My Drive/Speech Rec Project/data/train/')\n",
        "dataset_val = load_dataset('/content/drive/My Drive/Speech Rec Project/data/validation')\n",
        "data_loader_train = dataset_train.getDataLoader(BATCH_SIZE, \"speaker\", True)\n",
        "data_loader_val = dataset_train.getDataLoader(BATCH_SIZE, \"sequence\", False)"
      ],
      "execution_count": 23,
      "outputs": [
        {
          "output_type": "stream",
          "text": [
            "5it [00:03,  1.66it/s]\n"
          ],
          "name": "stderr"
        },
        {
          "output_type": "stream",
          "text": [
            "Saved cache file at /content/drive/My Drive/Speech Rec Project/data/train/_seqs_cache.txt\n",
            "Checking length...\n"
          ],
          "name": "stdout"
        },
        {
          "output_type": "stream",
          "text": [
            "293it [00:00, 372629.19it/s]\n"
          ],
          "name": "stderr"
        },
        {
          "output_type": "stream",
          "text": [
            "Done, elapsed: 10.434 seconds\n",
            "Scanned 293 sequences in 10.43 seconds\n",
            "1 chunks computed\n",
            "Joining pool\n"
          ],
          "name": "stdout"
        },
        {
          "output_type": "stream",
          "text": [
            "\r0it [00:00, ?it/s]"
          ],
          "name": "stderr"
        },
        {
          "output_type": "stream",
          "text": [
            "Joined process, elapsed=1.237 secs\n"
          ],
          "name": "stdout"
        },
        {
          "output_type": "stream",
          "text": [
            "3it [00:01,  2.46it/s]\n"
          ],
          "name": "stderr"
        },
        {
          "output_type": "stream",
          "text": [
            "Saved cache file at /content/drive/My Drive/Speech Rec Project/data/validation/_seqs_cache.txt\n",
            "Checking length...\n"
          ],
          "name": "stdout"
        },
        {
          "output_type": "stream",
          "text": [
            "68it [00:00, 23663.21it/s]\n"
          ],
          "name": "stderr"
        },
        {
          "output_type": "stream",
          "text": [
            "Done, elapsed: 2.570 seconds\n",
            "Scanned 68 sequences in 2.57 seconds\n",
            "1 chunks computed\n",
            "Joining pool\n",
            "Joined process, elapsed=0.425 secs\n"
          ],
          "name": "stdout"
        }
      ]
    },
    {
      "cell_type": "code",
      "metadata": {
        "id": "Lk0LN1QwU3Tw",
        "colab_type": "code",
        "colab": {}
      },
      "source": [
        ""
      ],
      "execution_count": null,
      "outputs": []
    },
    {
      "cell_type": "markdown",
      "metadata": {
        "colab_type": "text",
        "id": "uCoMCPL0A8VI"
      },
      "source": [
        "Now that everything is ready, complete and test the ```train_step``` function below which trains the model for one epoch."
      ]
    },
    {
      "cell_type": "code",
      "metadata": {
        "colab_type": "code",
        "id": "U-hIH3p8BsZr",
        "colab": {}
      },
      "source": [
        "def train_step(data_loader,\n",
        "               cpc_model,\n",
        "               cpc_criterion,\n",
        "               optimizer):\n",
        "  \n",
        "  avg_loss = 0\n",
        "  avg_acc = 0\n",
        "  n_items = 0\n",
        "\n",
        "  for step, data in enumerate(data_loader):\n",
        "    x,y = data\n",
        "    bs = len(x)\n",
        "    optimizer.zero_grad()\n",
        "    context_output, encoder_output = cpc_model(x.to(device))\n",
        "    loss , acc = cpc_criterion(encoder_output, context_output)\n",
        "    loss.backward()\n",
        "    n_items+=bs\n",
        "    avg_loss+=loss.item()*bs\n",
        "    avg_acc +=acc.item()*bs\n",
        "  \n",
        "  avg_loss/=n_items\n",
        "  avg_acc/=n_items\n",
        "  return avg_loss, avg_acc"
      ],
      "execution_count": 24,
      "outputs": []
    },
    {
      "cell_type": "markdown",
      "metadata": {
        "colab_type": "text",
        "id": "rIj06giJE_bZ"
      },
      "source": [
        "## Exercise 4 : Validation loop\n",
        "\n",
        "Now complete the validation loop."
      ]
    },
    {
      "cell_type": "code",
      "metadata": {
        "colab_type": "code",
        "id": "Q7Qwi6jDByyt",
        "colab": {}
      },
      "source": [
        "def validation_step(data_loader,\n",
        "                    cpc_model,\n",
        "                    cpc_criterion):\n",
        "  \n",
        "  avg_loss = 0\n",
        "  avg_acc = 0\n",
        "  n_items = 0\n",
        "\n",
        "  for step, data in enumerate(data_loader):\n",
        "    x,y = data\n",
        "    bs = len(x)\n",
        "    context_output, encoder_output = cpc_model(x.to(device))\n",
        "    loss , acc = cpc_criterion(encoder_output, context_output)\n",
        "    n_items+=bs\n",
        "    avg_loss+=loss.item()*bs\n",
        "    avg_acc+=acc.item()*bs\n",
        "  \n",
        "  avg_loss/=n_items\n",
        "  avg_acc/=n_items\n",
        "  return avg_loss, avg_acc"
      ],
      "execution_count": 25,
      "outputs": []
    },
    {
      "cell_type": "markdown",
      "metadata": {
        "colab_type": "text",
        "id": "OBVUPKKs2_0U"
      },
      "source": [
        "## Exercise 5: Run everything"
      ]
    },
    {
      "cell_type": "code",
      "metadata": {
        "colab_type": "code",
        "id": "ZbXsZIRiB1tm",
        "colab": {}
      },
      "source": [
        "def run(train_loader,\n",
        "        val_loader,\n",
        "        cpc_model,\n",
        "        cpc_criterion,\n",
        "        optimizer,\n",
        "        n_epochs):\n",
        "  t_acc = []\n",
        "  v_acc = []\n",
        "  t_losses = []\n",
        "  v_losses = []\n",
        "  epoches = []\n",
        "  \n",
        "  for epoch in range(n_epochs):\n",
        "\n",
        "    \n",
        "    print(f\"Running epoch {epoch+1} / {n_epochs}\")\n",
        "    avg_loss_train, avg_acc_train = train_step(train_loader, cpc_model, cpc_criterion, optimizer)\n",
        "    print(\"----------------------\")\n",
        "    print(f\"Training dataset\")\n",
        "    print(f\"- average loss : {avg_loss_train}\")\n",
        "    print(f\"- average acuracy : {avg_acc_train}\")\n",
        "    print(\"----------------------\")\n",
        "    t_acc.append(avg_acc_train)\n",
        "    t_losses.append(avg_loss_train)\n",
        "    with torch.no_grad():\n",
        "      cpc_model.eval()\n",
        "      cpc_criterion.eval()\n",
        "      avg_loss_val, avg_acc_val = validation_step(val_loader, cpc_model, cpc_criterion)\n",
        "      print(f\"Validation dataset\")\n",
        "      print(f\"- average loss : {avg_loss_val}\")\n",
        "      print(f\"- average acuracy : {avg_acc_val}\")\n",
        "      v_acc.append(avg_acc_val)\n",
        "      v_losses.append(avg_loss_val)\n",
        "      print(\"----------------------\")\n",
        "      print()\n",
        "      cpc_model.train()\n",
        "      cpc_criterion.train()\n",
        "  plt.plot(t_losses)\n",
        "  plt.plot(v_losses)\n",
        "  plt.title('Model Loss')\n",
        "  plt.ylabel('loss')\n",
        "  plt.xlabel('epoch')\n",
        "  plt.legend(['train', 'Validation'], loc='upper left')\n",
        "  plt.show()\n",
        "  plt.plot(t_acc)\n",
        "  plt.plot(v_acc)\n",
        "  plt.title('Model Accuracy')\n",
        "  plt.ylabel('Accuracy')\n",
        "  plt.xlabel('epoch')\n",
        "  plt.legend(['train', 'Validation'], loc='upper left')\n",
        "  plt.show()"
      ],
      "execution_count": 26,
      "outputs": []
    },
    {
      "cell_type": "code",
      "metadata": {
        "colab_type": "code",
        "id": "5xx8vN2wpECC",
        "colab": {
          "base_uri": "https://localhost:8080/",
          "height": 764
        },
        "outputId": "504e1b09-d6a6-4ab4-ab4d-dde8a04b31c4"
      },
      "source": [
        "run(data_loader_train, data_loader_val, cpc_model,cpc_criterion,optimizer,1)"
      ],
      "execution_count": 18,
      "outputs": [
        {
          "output_type": "stream",
          "text": [
            "Running epoch 1 / 1\n",
            "----------------------\n",
            "Training dataset\n",
            "- average loss : 4.884684005536531\n",
            "- average acuracy : 0.0\n",
            "----------------------\n",
            "Validation dataset\n",
            "- average loss : 4.884570390194446\n",
            "- average acuracy : 0.0\n",
            "----------------------\n",
            "\n"
          ],
          "name": "stdout"
        },
        {
          "output_type": "display_data",
          "data": {
            "image/png": "[encoded data removed]",
            "text/plain": [
              "<Figure size 432x288 with 1 Axes>"
            ]
          },
          "metadata": {
            "tags": [],
            "needs_background": "light"
          }
        },
        {
          "output_type": "display_data",
          "data": {
            "image/png": "[encoded data removed]",
            "text/plain": [
              "<Figure size 432x288 with 1 Axes>"
            ]
          },
          "metadata": {
            "tags": [],
            "needs_background": "light"
          }
        }
      ]
    },
    {
      "cell_type": "markdown",
      "metadata": {
        "id": "smiWt5QssuAR",
        "colab_type": "text"
      },
      "source": [
        "Test"
      ]
    },
    {
      "cell_type": "code",
      "metadata": {
        "id": "K-ov5ZXpr1XQ",
        "colab_type": "code",
        "colab": {
          "base_uri": "https://localhost:8080/",
          "height": 173
        },
        "outputId": "90848ba5-69eb-414f-d511-28811894ced4"
      },
      "source": [
        "dataset_test = load_dataset('/content/drive/My Drive/Speech Rec Project/data/test/')\n",
        "data_loader_test = dataset_test.getDataLoader(BATCH_SIZE, \"speaker\", True)\n"
      ],
      "execution_count": 19,
      "outputs": [
        {
          "output_type": "stream",
          "text": [
            "4it [00:00, 160.97it/s]"
          ],
          "name": "stderr"
        },
        {
          "output_type": "stream",
          "text": [
            "Saved cache file at /content/drive/My Drive/Speech Rec Project/data/test/_seqs_cache.txt\n"
          ],
          "name": "stdout"
        },
        {
          "output_type": "stream",
          "text": [
            "\n"
          ],
          "name": "stderr"
        },
        {
          "output_type": "stream",
          "text": [
            "Checking length...\n"
          ],
          "name": "stdout"
        },
        {
          "output_type": "stream",
          "text": [
            "543it [00:00, 511339.71it/s]\n"
          ],
          "name": "stderr"
        },
        {
          "output_type": "stream",
          "text": [
            "Done, elapsed: 0.671 seconds\n",
            "Scanned 543 sequences in 0.67 seconds\n",
            "1 chunks computed\n",
            "Joining pool\n",
            "Joined process, elapsed=1.843 secs\n"
          ],
          "name": "stdout"
        }
      ]
    },
    {
      "cell_type": "code",
      "metadata": {
        "id": "dn_127oUsED6",
        "colab_type": "code",
        "colab": {
          "base_uri": "https://localhost:8080/",
          "height": 367
        },
        "outputId": "a59ded41-4106-456a-9832-1970b44367f2"
      },
      "source": [
        "loss,acc = validation_step(data_loader_test ,cpc_model,cpc_criterion)\n",
        "print(f\"- average test acuracy : {acc}\") \n",
        "print(f\"- average test loass : {loss}\") "
      ],
      "execution_count": 21,
      "outputs": [
        {
          "output_type": "error",
          "ename": "RuntimeError",
          "evalue": "ignored",
          "traceback": [
            "\u001b[0;31m---------------------------------------------------------------------------\u001b[0m",
            "\u001b[0;31mRuntimeError\u001b[0m                              Traceback (most recent call last)",
            "\u001b[0;32m<ipython-input-21-9cc9f8c687f6>\u001b[0m in \u001b[0;36m<module>\u001b[0;34m()\u001b[0m\n\u001b[0;32m----> 1\u001b[0;31m \u001b[0mloss\u001b[0m\u001b[0;34m,\u001b[0m\u001b[0macc\u001b[0m \u001b[0;34m=\u001b[0m \u001b[0mvalidation_step\u001b[0m\u001b[0;34m(\u001b[0m\u001b[0mdata_loader_test\u001b[0m \u001b[0;34m,\u001b[0m\u001b[0mcpc_model\u001b[0m\u001b[0;34m,\u001b[0m\u001b[0mcpc_criterion\u001b[0m\u001b[0;34m)\u001b[0m\u001b[0;34m\u001b[0m\u001b[0;34m\u001b[0m\u001b[0m\n\u001b[0m\u001b[1;32m      2\u001b[0m \u001b[0mprint\u001b[0m\u001b[0;34m(\u001b[0m\u001b[0;34mf\"- average test acuracy : {acc}\"\u001b[0m\u001b[0;34m)\u001b[0m\u001b[0;34m\u001b[0m\u001b[0;34m\u001b[0m\u001b[0m\n\u001b[1;32m      3\u001b[0m \u001b[0mprint\u001b[0m\u001b[0;34m(\u001b[0m\u001b[0;34mf\"- average test loass : {loss}\"\u001b[0m\u001b[0;34m)\u001b[0m\u001b[0;34m\u001b[0m\u001b[0;34m\u001b[0m\u001b[0m\n",
            "\u001b[0;32m<ipython-input-16-d03464a773e9>\u001b[0m in \u001b[0;36mvalidation_step\u001b[0;34m(data_loader, cpc_model, cpc_criterion)\u001b[0m\n\u001b[1;32m     11\u001b[0m     \u001b[0mbs\u001b[0m \u001b[0;34m=\u001b[0m \u001b[0mlen\u001b[0m\u001b[0;34m(\u001b[0m\u001b[0mx\u001b[0m\u001b[0;34m)\u001b[0m\u001b[0;34m\u001b[0m\u001b[0;34m\u001b[0m\u001b[0m\n\u001b[1;32m     12\u001b[0m     \u001b[0mcontext_output\u001b[0m\u001b[0;34m,\u001b[0m \u001b[0mencoder_output\u001b[0m \u001b[0;34m=\u001b[0m \u001b[0mcpc_model\u001b[0m\u001b[0;34m(\u001b[0m\u001b[0mx\u001b[0m\u001b[0;34m.\u001b[0m\u001b[0mto\u001b[0m\u001b[0;34m(\u001b[0m\u001b[0mdevice\u001b[0m\u001b[0;34m)\u001b[0m\u001b[0;34m)\u001b[0m\u001b[0;34m\u001b[0m\u001b[0;34m\u001b[0m\u001b[0m\n\u001b[0;32m---> 13\u001b[0;31m     \u001b[0mloss\u001b[0m \u001b[0;34m,\u001b[0m \u001b[0macc\u001b[0m \u001b[0;34m=\u001b[0m \u001b[0mcpc_criterion\u001b[0m\u001b[0;34m(\u001b[0m\u001b[0mencoder_output\u001b[0m\u001b[0;34m,\u001b[0m \u001b[0mcontext_output\u001b[0m\u001b[0;34m)\u001b[0m\u001b[0;34m\u001b[0m\u001b[0;34m\u001b[0m\u001b[0m\n\u001b[0m\u001b[1;32m     14\u001b[0m     \u001b[0mn_items\u001b[0m\u001b[0;34m+=\u001b[0m\u001b[0mbs\u001b[0m\u001b[0;34m\u001b[0m\u001b[0;34m\u001b[0m\u001b[0m\n\u001b[1;32m     15\u001b[0m     \u001b[0mavg_loss\u001b[0m\u001b[0;34m+=\u001b[0m\u001b[0mloss\u001b[0m\u001b[0;34m.\u001b[0m\u001b[0mitem\u001b[0m\u001b[0;34m(\u001b[0m\u001b[0;34m)\u001b[0m\u001b[0;34m*\u001b[0m\u001b[0mbs\u001b[0m\u001b[0;34m\u001b[0m\u001b[0;34m\u001b[0m\u001b[0m\n",
            "\u001b[0;32m/usr/local/lib/python3.6/dist-packages/torch/nn/modules/module.py\u001b[0m in \u001b[0;36m__call__\u001b[0;34m(self, *input, **kwargs)\u001b[0m\n\u001b[1;32m    548\u001b[0m             \u001b[0mresult\u001b[0m \u001b[0;34m=\u001b[0m \u001b[0mself\u001b[0m\u001b[0;34m.\u001b[0m\u001b[0m_slow_forward\u001b[0m\u001b[0;34m(\u001b[0m\u001b[0;34m*\u001b[0m\u001b[0minput\u001b[0m\u001b[0;34m,\u001b[0m \u001b[0;34m**\u001b[0m\u001b[0mkwargs\u001b[0m\u001b[0;34m)\u001b[0m\u001b[0;34m\u001b[0m\u001b[0;34m\u001b[0m\u001b[0m\n\u001b[1;32m    549\u001b[0m         \u001b[0;32melse\u001b[0m\u001b[0;34m:\u001b[0m\u001b[0;34m\u001b[0m\u001b[0;34m\u001b[0m\u001b[0m\n\u001b[0;32m--> 550\u001b[0;31m             \u001b[0mresult\u001b[0m \u001b[0;34m=\u001b[0m \u001b[0mself\u001b[0m\u001b[0;34m.\u001b[0m\u001b[0mforward\u001b[0m\u001b[0;34m(\u001b[0m\u001b[0;34m*\u001b[0m\u001b[0minput\u001b[0m\u001b[0;34m,\u001b[0m \u001b[0;34m**\u001b[0m\u001b[0mkwargs\u001b[0m\u001b[0;34m)\u001b[0m\u001b[0;34m\u001b[0m\u001b[0;34m\u001b[0m\u001b[0m\n\u001b[0m\u001b[1;32m    551\u001b[0m         \u001b[0;32mfor\u001b[0m \u001b[0mhook\u001b[0m \u001b[0;32min\u001b[0m \u001b[0mself\u001b[0m\u001b[0;34m.\u001b[0m\u001b[0m_forward_hooks\u001b[0m\u001b[0;34m.\u001b[0m\u001b[0mvalues\u001b[0m\u001b[0;34m(\u001b[0m\u001b[0;34m)\u001b[0m\u001b[0;34m:\u001b[0m\u001b[0;34m\u001b[0m\u001b[0;34m\u001b[0m\u001b[0m\n\u001b[1;32m    552\u001b[0m             \u001b[0mhook_result\u001b[0m \u001b[0;34m=\u001b[0m \u001b[0mhook\u001b[0m\u001b[0;34m(\u001b[0m\u001b[0mself\u001b[0m\u001b[0;34m,\u001b[0m \u001b[0minput\u001b[0m\u001b[0;34m,\u001b[0m \u001b[0mresult\u001b[0m\u001b[0;34m)\u001b[0m\u001b[0;34m\u001b[0m\u001b[0;34m\u001b[0m\u001b[0m\n",
            "\u001b[0;32m<ipython-input-11-37467ed9e128>\u001b[0m in \u001b[0;36mforward\u001b[0;34m(self, encoded_data, context_data)\u001b[0m\n\u001b[1;32m    150\u001b[0m \u001b[0;34m\u001b[0m\u001b[0m\n\u001b[1;32m    151\u001b[0m       \u001b[0;31m# And now we can view it as a 3D tensor\u001b[0m\u001b[0;34m\u001b[0m\u001b[0;34m\u001b[0m\u001b[0;34m\u001b[0m\u001b[0m\n\u001b[0;32m--> 152\u001b[0;31m       \u001b[0mphi\u001b[0m  \u001b[0;34m=\u001b[0m \u001b[0mphi\u001b[0m\u001b[0;34m.\u001b[0m\u001b[0mcontiguous\u001b[0m\u001b[0;34m(\u001b[0m\u001b[0;34m)\u001b[0m\u001b[0;34m.\u001b[0m\u001b[0mview\u001b[0m\u001b[0;34m(\u001b[0m\u001b[0mB\u001b[0m \u001b[0;34m*\u001b[0m \u001b[0mN_sampled\u001b[0m \u001b[0;34m*\u001b[0m \u001b[0mS_small\u001b[0m\u001b[0;34m,\u001b[0m \u001b[0mH\u001b[0m\u001b[0;34m,\u001b[0m \u001b[0;36m1\u001b[0m\u001b[0;34m)\u001b[0m\u001b[0;34m\u001b[0m\u001b[0;34m\u001b[0m\u001b[0m\n\u001b[0m\u001b[1;32m    153\u001b[0m \u001b[0;34m\u001b[0m\u001b[0m\n\u001b[1;32m    154\u001b[0m       \u001b[0;31m# We can finally get the dot product !\u001b[0m\u001b[0;34m\u001b[0m\u001b[0;34m\u001b[0m\u001b[0;34m\u001b[0m\u001b[0m\n",
            "\u001b[0;31mRuntimeError\u001b[0m: CUDA out of memory. Tried to allocate 118.00 MiB (GPU 0; 11.17 GiB total capacity; 10.55 GiB already allocated; 51.81 MiB free; 10.81 GiB reserved in total by PyTorch)"
          ]
        }
      ]
    },
    {
      "cell_type": "markdown",
      "metadata": {
        "colab_type": "text",
        "id": "5hoT3_3W6HYY"
      },
      "source": [
        "Once everything is donw, clear the memory."
      ]
    },
    {
      "cell_type": "code",
      "metadata": {
        "colab_type": "code",
        "id": "fU5mDOY46KSG",
        "colab": {}
      },
      "source": [
        "del dataset_train\n",
        "del dataset_val\n",
        "del cpc_model\n",
        "del context\n",
        "del encoder\n",
        "# del dataset_test"
      ],
      "execution_count": 27,
      "outputs": []
    },
    {
      "cell_type": "markdown",
      "metadata": {
        "colab_type": "text",
        "id": "srPM5r_LB9v-"
      },
      "source": [
        "# Part 2 : Fine tuning"
      ]
    },
    {
      "cell_type": "markdown",
      "metadata": {
        "colab_type": "text",
        "id": "0Nb_-0IQiJk9"
      },
      "source": [
        "## Exercice 1 : Phone separability with aligned phonemes.\n",
        "\n",
        "One option to evaluate the quality of the features trained with CPC can be to check if they can be used to recognize phonemes. \n",
        "To do so, we can fine-tune a pre-trained model using a limited amount of labelled speech data.\n",
        "We are going to start with a simple evaluation setting where we have the phone labels for each timestep corresponding to a CPC feature.\n",
        "\n",
        "We will work with a model already pre-trained on English data. As far as the fine-tuning dataset is concerned, we will use a 1h subset of [librispeech-100](http://www.openslr.org/12/). "
      ]
    },
    {
      "cell_type": "code",
      "metadata": {
        "colab_type": "code",
        "id": "N-scDMAasXxc",
        "colab": {
          "base_uri": "https://localhost:8080/",
          "height": 627
        },
        "outputId": "a627bc5b-4db4-41fd-a680-406ceba39e3e"
      },
      "source": [
        "!mkdir checkpoint_data\n",
        "!wget https://dl.fbaipublicfiles.com/librilight/CPC_checkpoints/not_hub/2levels_6k_top_ctc/checkpoint_30.pt -P checkpoint_data\n",
        "!wget https://dl.fbaipublicfiles.com/librilight/CPC_checkpoints/not_hub/2levels_6k_top_ctc/checkpoint_logs.json -P checkpoint_data\n",
        "!wget https://dl.fbaipublicfiles.com/librilight/CPC_checkpoints/not_hub/2levels_6k_top_ctc/checkpoint_args.json -P checkpoint_data\n",
        "!ls checkpoint_data"
      ],
      "execution_count": 28,
      "outputs": [
        {
          "output_type": "stream",
          "text": [
            "--2020-07-06 20:44:47--  https://dl.fbaipublicfiles.com/librilight/CPC_checkpoints/not_hub/2levels_6k_top_ctc/checkpoint_30.pt\n",
            "Resolving dl.fbaipublicfiles.com (dl.fbaipublicfiles.com)... 104.22.74.142, 172.67.9.4, 104.22.75.142, ...\n",
            "Connecting to dl.fbaipublicfiles.com (dl.fbaipublicfiles.com)|104.22.74.142|:443... connected.\n",
            "HTTP request sent, awaiting response... 200 OK\n",
            "Length: 113599715 (108M) [application/octet-stream]\n",
            "Saving to: ‘checkpoint_data/checkpoint_30.pt’\n",
            "\n",
            "checkpoint_30.pt    100%[===================>] 108.34M  4.46MB/s    in 23s     \n",
            "\n",
            "2020-07-06 20:45:11 (4.63 MB/s) - ‘checkpoint_data/checkpoint_30.pt’ saved [113599715/113599715]\n",
            "\n",
            "--2020-07-06 20:45:13--  https://dl.fbaipublicfiles.com/librilight/CPC_checkpoints/not_hub/2levels_6k_top_ctc/checkpoint_logs.json\n",
            "Resolving dl.fbaipublicfiles.com (dl.fbaipublicfiles.com)... 172.67.9.4, 104.22.75.142, 104.22.74.142, ...\n",
            "Connecting to dl.fbaipublicfiles.com (dl.fbaipublicfiles.com)|172.67.9.4|:443... connected.\n",
            "HTTP request sent, awaiting response... 200 OK\n",
            "Length: 20786 (20K) [text/plain]\n",
            "Saving to: ‘checkpoint_data/checkpoint_logs.json’\n",
            "\n",
            "checkpoint_logs.jso 100%[===================>]  20.30K   122KB/s    in 0.2s    \n",
            "\n",
            "2020-07-06 20:45:15 (122 KB/s) - ‘checkpoint_data/checkpoint_logs.json’ saved [20786/20786]\n",
            "\n",
            "--2020-07-06 20:45:21--  https://dl.fbaipublicfiles.com/librilight/CPC_checkpoints/not_hub/2levels_6k_top_ctc/checkpoint_args.json\n",
            "Resolving dl.fbaipublicfiles.com (dl.fbaipublicfiles.com)... 172.67.9.4, 104.22.75.142, 104.22.74.142, ...\n",
            "Connecting to dl.fbaipublicfiles.com (dl.fbaipublicfiles.com)|172.67.9.4|:443... connected.\n",
            "HTTP request sent, awaiting response... 200 OK\n",
            "Length: 2063 (2.0K) [text/plain]\n",
            "Saving to: ‘checkpoint_data/checkpoint_args.json’\n",
            "\n",
            "checkpoint_args.jso 100%[===================>]   2.01K  --.-KB/s    in 0s      \n",
            "\n",
            "2020-07-06 20:45:22 (30.5 MB/s) - ‘checkpoint_data/checkpoint_args.json’ saved [2063/2063]\n",
            "\n",
            "checkpoint_30.pt  checkpoint_args.json\tcheckpoint_logs.json\n"
          ],
          "name": "stdout"
        }
      ]
    },
    {
      "cell_type": "code",
      "metadata": {
        "colab_type": "code",
        "id": "SSSaiYo82_oY",
        "colab": {
          "base_uri": "https://localhost:8080/",
          "height": 382
        },
        "outputId": "fb532a24-51d0-47cf-c0ae-09622546f284"
      },
      "source": [
        "%cd /content/CPC_audio\n",
        "from cpc.dataset import parseSeqLabels\n",
        "from cpc.feature_loader import loadModel\n",
        "\n",
        "checkpoint_path = 'checkpoint_data/checkpoint_30.pt'\n",
        "cpc_model, HIDDEN_CONTEXT_MODEL, HIDDEN_ENCODER_MODEL = loadModel([checkpoint_path])\n",
        "cpc_model = cpc_model.cuda()\n",
        "label_dict, N_PHONES = parseSeqLabels('/content/drive/My Drive/Speech Rec Project/data/all_sessions.txt')\n",
        "dataset_train = load_dataset('/content/drive/My Drive/Speech Rec Project/data/train', file_extension='.wav', phone_label_dict=label_dict)\n",
        "dataset_val = load_dataset('/content/drive/My Drive/Speech Rec Project/data/validation', file_extension='.wav', phone_label_dict=label_dict)\n",
        "data_loader_train = dataset_train.getDataLoader(BATCH_SIZE, \"speaker\", True)\n",
        "data_loader_val = dataset_val.getDataLoader(BATCH_SIZE, \"sequence\", False)"
      ],
      "execution_count": 29,
      "outputs": [
        {
          "output_type": "stream",
          "text": [
            "/content/CPC_audio\n",
            "Loading checkpoint checkpoint_data/checkpoint_30.pt\n",
            "Loading the state dict at checkpoint_data/checkpoint_30.pt\n"
          ],
          "name": "stdout"
        },
        {
          "output_type": "stream",
          "text": [
            "5it [00:00, 375.46it/s]"
          ],
          "name": "stderr"
        },
        {
          "output_type": "stream",
          "text": [
            "Saved cache file at /content/drive/My Drive/Speech Rec Project/data/train/_seqs_cache.txt\n"
          ],
          "name": "stdout"
        },
        {
          "output_type": "stream",
          "text": [
            "\n"
          ],
          "name": "stderr"
        },
        {
          "output_type": "stream",
          "text": [
            "Checking length...\n"
          ],
          "name": "stdout"
        },
        {
          "output_type": "stream",
          "text": [
            "293it [00:00, 107358.35it/s]\n"
          ],
          "name": "stderr"
        },
        {
          "output_type": "stream",
          "text": [
            "Done, elapsed: 0.355 seconds\n",
            "Scanned 293 sequences in 0.35 seconds\n",
            "1 chunks computed\n",
            "Joining pool\n"
          ],
          "name": "stdout"
        },
        {
          "output_type": "stream",
          "text": [
            "3it [00:00, 88.88it/s]"
          ],
          "name": "stderr"
        },
        {
          "output_type": "stream",
          "text": [
            "Joined process, elapsed=1.272 secs\n",
            "Saved cache file at /content/drive/My Drive/Speech Rec Project/data/validation/_seqs_cache.txt\n"
          ],
          "name": "stdout"
        },
        {
          "output_type": "stream",
          "text": [
            "\n",
            "68it [00:00, 41067.34it/s]"
          ],
          "name": "stderr"
        },
        {
          "output_type": "stream",
          "text": [
            "Checking length...\n",
            "Done, elapsed: 0.118 seconds\n",
            "Scanned 68 sequences in 0.12 seconds\n",
            "1 chunks computed\n",
            "Joining pool\n"
          ],
          "name": "stdout"
        },
        {
          "output_type": "stream",
          "text": [
            "\n"
          ],
          "name": "stderr"
        },
        {
          "output_type": "stream",
          "text": [
            "Joined process, elapsed=0.415 secs\n"
          ],
          "name": "stdout"
        }
      ]
    },
    {
      "cell_type": "code",
      "metadata": {
        "colab_type": "code",
        "id": "3ulgYV3nHcoa",
        "colab": {}
      },
      "source": [
        "??cpc_model"
      ],
      "execution_count": null,
      "outputs": []
    },
    {
      "cell_type": "markdown",
      "metadata": {
        "colab_type": "text",
        "id": "xkKi-qfosng2"
      },
      "source": [
        "Then we will use a simple linear classifier to recognize the phonemes from the features produced by ```cpc_model```. \n",
        "\n",
        "### a) Build the phone classifier \n",
        "\n",
        "Design a class of linear classifiers, ```PhoneClassifier``` that will take as input a batch of sequences of CPC features and output a score vector for each phoneme"
      ]
    },
    {
      "cell_type": "code",
      "metadata": {
        "colab_type": "code",
        "id": "4RpAbz-0CXJJ",
        "colab": {}
      },
      "source": [
        "class PhoneClassifier(torch.nn.Module):\n",
        "\n",
        "  def __init__(self,\n",
        "               input_dim : int,\n",
        "               n_phones : int):\n",
        "    super(PhoneClassifier, self).__init__()\n",
        "    self.linear = torch.nn.Linear(input_dim, n_phones)\n",
        "    \n",
        "\n",
        "  def forward(self, x):\n",
        "    return self.linear(x)"
      ],
      "execution_count": 30,
      "outputs": []
    },
    {
      "cell_type": "markdown",
      "metadata": {
        "colab_type": "text",
        "id": "Zt5oa_nqtH-d"
      },
      "source": [
        "Our phone classifier will then be:"
      ]
    },
    {
      "cell_type": "code",
      "metadata": {
        "colab_type": "code",
        "id": "NRBf_83IuLv5",
        "colab": {}
      },
      "source": [
        "phone_classifier = PhoneClassifier(HIDDEN_CONTEXT_MODEL, N_PHONES).to(device)"
      ],
      "execution_count": 31,
      "outputs": []
    },
    {
      "cell_type": "markdown",
      "metadata": {
        "colab_type": "text",
        "id": "z_Vf5AbUhqm4"
      },
      "source": [
        "### b - What would be the correct loss criterion for this task ?\n",
        "\n"
      ]
    },
    {
      "cell_type": "code",
      "metadata": {
        "colab_type": "code",
        "id": "uhyPM-cgjrtw",
        "colab": {}
      },
      "source": [
        "loss_criterion = torch.nn.CrossEntropyLoss()"
      ],
      "execution_count": 32,
      "outputs": []
    },
    {
      "cell_type": "markdown",
      "metadata": {
        "colab_type": "text",
        "id": "Nv4cSxbaplrz"
      },
      "source": [
        "To perform the fine-tuning, we will also need an optimization function.\n",
        "\n",
        "We will use an [Adam optimizer ](https://pytorch.org/docs/stable/optim.html#torch.optim.Adam)."
      ]
    },
    {
      "cell_type": "code",
      "metadata": {
        "colab_type": "code",
        "id": "W5CgYyAlqKxu",
        "colab": {}
      },
      "source": [
        "parameters = list(phone_classifier.parameters()) + list(cpc_model.parameters())\n",
        "LEARNING_RATE = 2e-4\n",
        "optimizer = torch.optim.Adam(parameters, lr=LEARNING_RATE)"
      ],
      "execution_count": 33,
      "outputs": []
    },
    {
      "cell_type": "markdown",
      "metadata": {
        "colab_type": "text",
        "id": "qQB9HS9PvAXc"
      },
      "source": [
        "You might also want to perform this training while freezing the weights of the ```cpc_model```. Indeed, if the pre-training was good enough, then ```cpc_model``` phonemes representation should be linearly separable. In this case the optimizer should be defined like this:"
      ]
    },
    {
      "cell_type": "code",
      "metadata": {
        "colab_type": "code",
        "id": "nRy0gn6awGUQ",
        "colab": {}
      },
      "source": [
        "optimizer_frozen = torch.optim.Adam(list(phone_classifier.parameters()), lr=LEARNING_RATE)"
      ],
      "execution_count": 34,
      "outputs": []
    },
    {
      "cell_type": "markdown",
      "metadata": {
        "colab_type": "text",
        "id": "cO93ngIfj4JW"
      },
      "source": [
        "### c- Now let's build a training loop. \n",
        "Complete the function ```train_one_epoch``` below.\n",
        "\n"
      ]
    },
    {
      "cell_type": "code",
      "metadata": {
        "colab_type": "code",
        "id": "fabqj3wvLwgU",
        "colab": {}
      },
      "source": [
        "def train_one_epoch(cpc_model, \n",
        "                    phone_classifier, \n",
        "                    loss_criterion, \n",
        "                    data_loader, \n",
        "                    optimizer):\n",
        "\n",
        "  cpc_model.train()\n",
        "  loss_criterion.train()\n",
        "\n",
        "  avg_loss = 0\n",
        "  avg_accuracy = 0\n",
        "  n_items = 0\n",
        "  for step, full_data in enumerate(data_loader):\n",
        "    # Each batch is represented by a Tuple of vectors:\n",
        "    # sequence of size : N x 1 x T\n",
        "    # label of size : N x T\n",
        "    # \n",
        "    # With :\n",
        "    # - N number of sequence in the batch\n",
        "    # - T size of each sequence\n",
        "    sequence, label = full_data\n",
        "    \n",
        "    \n",
        "\n",
        "    bs = len(sequence)\n",
        "    seq_len = label.size(1)\n",
        "    optimizer.zero_grad()\n",
        "    context_out, enc_out, _ = cpc_model(sequence.to(device),label.to(device))\n",
        "\n",
        "    scores = phone_classifier(context_out)\n",
        "\n",
        "    scores = scores.permute(0,2,1)\n",
        "    loss = loss_criterion(scores,label.to(device))\n",
        "    loss.backward()\n",
        "    optimizer.step()\n",
        "    avg_loss+=loss.item()*bs\n",
        "    n_items+=bs\n",
        "    correct_labels = scores.argmax(1)\n",
        "    avg_accuracy += ((label==correct_labels.cpu()).float()).mean(1).sum().item()\n",
        "  avg_loss/=n_items\n",
        "  avg_accuracy/=n_items\n",
        "  return avg_loss, avg_accuracy\n",
        "    "
      ],
      "execution_count": 35,
      "outputs": []
    },
    {
      "cell_type": "markdown",
      "metadata": {
        "colab_type": "text",
        "id": "quYtjx_TxIPK"
      },
      "source": [
        "Don't forget to test it !"
      ]
    },
    {
      "cell_type": "code",
      "metadata": {
        "colab_type": "code",
        "id": "50MwxbKhxMKp",
        "colab": {}
      },
      "source": [
        "avg_loss, avg_accuracy = train_one_epoch(cpc_model, phone_classifier, loss_criterion, data_loader_train, optimizer_frozen)"
      ],
      "execution_count": 36,
      "outputs": []
    },
    {
      "cell_type": "code",
      "metadata": {
        "colab_type": "code",
        "id": "_o6yk8XKWnYe",
        "colab": {
          "base_uri": "https://localhost:8080/",
          "height": 34
        },
        "outputId": "54c421b6-8d8f-4e88-d7d7-102860384269"
      },
      "source": [
        "avg_loss, avg_accuracy"
      ],
      "execution_count": 37,
      "outputs": [
        {
          "output_type": "execute_result",
          "data": {
            "text/plain": [
              "(5.480456660775578, 0.01039751838235294)"
            ]
          },
          "metadata": {
            "tags": []
          },
          "execution_count": 37
        }
      ]
    },
    {
      "cell_type": "markdown",
      "metadata": {
        "colab_type": "text",
        "id": "EmUkuJ2bwu4Z"
      },
      "source": [
        "### d- Build the validation loop"
      ]
    },
    {
      "cell_type": "code",
      "metadata": {
        "colab_type": "code",
        "id": "kZJMxj6cwzd3",
        "colab": {}
      },
      "source": [
        "def validation_step(cpc_model, \n",
        "                    phone_classifier, \n",
        "                    loss_criterion, \n",
        "                    data_loader):\n",
        "  \n",
        "  cpc_model.eval()\n",
        "  phone_classifier.eval()\n",
        "\n",
        "  avg_loss = 0\n",
        "  avg_accuracy = 0\n",
        "  n_items = 0\n",
        "  with torch.no_grad():\n",
        "    for step, full_data in enumerate(data_loader):\n",
        "      # Each batch is represented by a Tuple of vectors:\n",
        "      # sequence of size : N x 1 x T\n",
        "      # label of size : N x T\n",
        "      # \n",
        "      # With :\n",
        "      # - N number of sequence in the batch\n",
        "      # - T size of each sequence\n",
        "      sequence, label = full_data\n",
        "      bs = len(sequence)\n",
        "      seq_len = label.size(1)\n",
        "      context_out, enc_out, _ = cpc_model(sequence.to(device),label.to(device))\n",
        "      scores = phone_classifier(context_out)\n",
        "      scores = scores.permute(0,2,1)\n",
        "      loss = loss_criterion(scores,label.to(device))\n",
        "      avg_loss+=loss.item()*bs\n",
        "      n_items+=bs\n",
        "      correct_labels = scores.argmax(1)\n",
        "      avg_accuracy += ((label==correct_labels.cpu()).float()).mean(1).sum().item()\n",
        "  avg_loss/=n_items\n",
        "  avg_accuracy/=n_items\n",
        "  return avg_loss, avg_accuracy"
      ],
      "execution_count": 38,
      "outputs": []
    },
    {
      "cell_type": "markdown",
      "metadata": {
        "colab_type": "text",
        "id": "vownVCt7xbVh"
      },
      "source": [
        "### e- Run everything\n",
        "\n",
        "Test this functiion with both ```optimizer``` and ```optimizer_frozen```."
      ]
    },
    {
      "cell_type": "code",
      "metadata": {
        "colab_type": "code",
        "id": "xvO_4nKUxfQx",
        "colab": {}
      },
      "source": [
        "def run(cpc_model, \n",
        "        phone_classifier, \n",
        "        loss_criterion, \n",
        "        data_loader_train, \n",
        "        data_loader_val, \n",
        "        optimizer,\n",
        "        n_epoch):\n",
        "  t_acc = []\n",
        "  v_acc = []\n",
        "  t_losses = []\n",
        "  v_losses = []\n",
        "  epoches = []\n",
        "\n",
        "  for epoch in range(n_epoch):\n",
        "    \n",
        "\n",
        "    print(f\"Running epoch {epoch + 1} / {n_epoch}\")\n",
        "    loss_train, acc_train = train_one_epoch(cpc_model, phone_classifier, loss_criterion, data_loader_train, optimizer)\n",
        "    print(\"-------------------\")\n",
        "    print(f\"Training dataset :\")\n",
        "    print(f\"Average loss : {loss_train}. Average accuracy {acc_train}\")\n",
        "    t_acc.append(acc_train)\n",
        "    t_losses.append(loss_train)\n",
        "\n",
        "    print(\"-------------------\")\n",
        "    print(\"Validation dataset\")\n",
        "    loss_val, acc_val = validation_step(cpc_model, phone_classifier, loss_criterion, data_loader_val)\n",
        "    print(f\"Average loss : {loss_val}. Average accuracy {acc_val}\")\n",
        "    v_acc.append(acc_val)\n",
        "    v_losses.append(loss_val)\n",
        "    print(\"-------------------\")\n",
        "    print()\n",
        "  plt.plot(t_losses)\n",
        "  plt.plot(v_losses)\n",
        "  plt.title('Model Loss')\n",
        "  plt.ylabel('loss')\n",
        "  plt.xlabel('epoch')\n",
        "  plt.legend(['train', 'Validation'], loc='upper left')\n",
        "  plt.show()\n",
        "  plt.plot(t_acc)\n",
        "  plt.plot(v_acc)\n",
        "  plt.title('Model Accuracy')\n",
        "  plt.ylabel('Accuracy')\n",
        "  plt.xlabel('epoch')\n",
        "  plt.legend(['train', 'Validation'], loc='upper left')\n",
        "  plt.show()"
      ],
      "execution_count": 39,
      "outputs": []
    },
    {
      "cell_type": "code",
      "metadata": {
        "colab_type": "code",
        "id": "ceCEO2h2bxAn",
        "colab": {
          "base_uri": "https://localhost:8080/",
          "height": 1000
        },
        "outputId": "9f0c1c58-1dd8-40a8-cbc3-f735f41d3f72"
      },
      "source": [
        "run(cpc_model,phone_classifier,loss_criterion,data_loader_train,data_loader_val,optimizer_frozen,n_epoch=50)"
      ],
      "execution_count": 40,
      "outputs": [
        {
          "output_type": "stream",
          "text": [
            "Running epoch 1 / 50\n",
            "-------------------\n",
            "Training dataset :\n",
            "Average loss : 5.362294056836297. Average accuracy 0.01579733455882353\n",
            "-------------------\n",
            "Validation dataset\n",
            "Average loss : 5.28042999903361. Average accuracy 0.020833333333333332\n",
            "-------------------\n",
            "\n",
            "Running epoch 2 / 50\n",
            "-------------------\n",
            "Training dataset :\n",
            "Average loss : 5.255551197949578. Average accuracy 0.017578125\n",
            "-------------------\n",
            "Validation dataset\n",
            "Average loss : 5.174440224965413. Average accuracy 0.023763020833333332\n",
            "-------------------\n",
            "\n",
            "Running epoch 3 / 50\n",
            "-------------------\n",
            "Training dataset :\n",
            "Average loss : 5.157839915331672. Average accuracy 0.02004825367647059\n",
            "-------------------\n",
            "Validation dataset\n",
            "Average loss : 5.080156644185384. Average accuracy 0.025065104166666668\n",
            "-------------------\n",
            "\n",
            "Running epoch 4 / 50\n",
            "-------------------\n",
            "Training dataset :\n",
            "Average loss : 5.069716677946203. Average accuracy 0.022575827205882353\n",
            "-------------------\n",
            "Validation dataset\n",
            "Average loss : 4.989701271057129. Average accuracy 0.0263671875\n",
            "-------------------\n",
            "\n",
            "Running epoch 5 / 50\n",
            "-------------------\n",
            "Training dataset :\n",
            "Average loss : 4.991931803086224. Average accuracy 0.02682674632352941\n",
            "-------------------\n",
            "Validation dataset\n",
            "Average loss : 4.913593451182048. Average accuracy 0.032877604166666664\n",
            "-------------------\n",
            "\n",
            "Running epoch 6 / 50\n",
            "-------------------\n",
            "Training dataset :\n",
            "Average loss : 4.921035822700052. Average accuracy 0.034869025735294115\n",
            "-------------------\n",
            "Validation dataset\n",
            "Average loss : 4.842825094858806. Average accuracy 0.052083333333333336\n",
            "-------------------\n",
            "\n",
            "Running epoch 7 / 50\n",
            "-------------------\n",
            "Training dataset :\n",
            "Average loss : 4.861219378078685. Average accuracy 0.047564338235294115\n",
            "-------------------\n",
            "Validation dataset\n",
            "Average loss : 4.782422701517741. Average accuracy 0.053385416666666664\n",
            "-------------------\n",
            "\n",
            "Running epoch 8 / 50\n",
            "-------------------\n",
            "Training dataset :\n",
            "Average loss : 4.804181800169103. Average accuracy 0.04968979779411765\n",
            "-------------------\n",
            "Validation dataset\n",
            "Average loss : 4.727717399597168. Average accuracy 0.055989583333333336\n",
            "-------------------\n",
            "\n",
            "Running epoch 9 / 50\n",
            "-------------------\n",
            "Training dataset :\n",
            "Average loss : 4.756023631376379. Average accuracy 0.050034466911764705\n",
            "-------------------\n",
            "Validation dataset\n",
            "Average loss : 4.68785826365153. Average accuracy 0.052408854166666664\n",
            "-------------------\n",
            "\n",
            "Running epoch 10 / 50\n",
            "-------------------\n",
            "Training dataset :\n",
            "Average loss : 4.70885986440322. Average accuracy 0.04946001838235294\n",
            "-------------------\n",
            "Validation dataset\n",
            "Average loss : 4.644281069437663. Average accuracy 0.0546875\n",
            "-------------------\n",
            "\n",
            "Running epoch 11 / 50\n",
            "-------------------\n",
            "Training dataset :\n",
            "Average loss : 4.671937746160171. Average accuracy 0.05210248161764706\n",
            "-------------------\n",
            "Validation dataset\n",
            "Average loss : 4.610307693481445. Average accuracy 0.054361979166666664\n",
            "-------------------\n",
            "\n",
            "Running epoch 12 / 50\n",
            "-------------------\n",
            "Training dataset :\n",
            "Average loss : 4.633595831253949. Average accuracy 0.05060891544117647\n",
            "-------------------\n",
            "Validation dataset\n",
            "Average loss : 4.568061987559001. Average accuracy 0.0556640625\n",
            "-------------------\n",
            "\n",
            "Running epoch 13 / 50\n",
            "-------------------\n",
            "Training dataset :\n",
            "Average loss : 4.603305171517765. Average accuracy 0.05485983455882353\n",
            "-------------------\n",
            "Validation dataset\n",
            "Average loss : 4.5477573076883955. Average accuracy 0.057942708333333336\n",
            "-------------------\n",
            "\n",
            "Running epoch 14 / 50\n",
            "-------------------\n",
            "Training dataset :\n",
            "Average loss : 4.569884664872113. Average accuracy 0.05474494485294118\n",
            "-------------------\n",
            "Validation dataset\n",
            "Average loss : 4.521177609761556. Average accuracy 0.0615234375\n",
            "-------------------\n",
            "\n",
            "Running epoch 15 / 50\n",
            "-------------------\n",
            "Training dataset :\n",
            "Average loss : 4.547284042134004. Average accuracy 0.05629595588235294\n",
            "-------------------\n",
            "Validation dataset\n",
            "Average loss : 4.511543432871501. Average accuracy 0.0634765625\n",
            "-------------------\n",
            "\n",
            "Running epoch 16 / 50\n",
            "-------------------\n",
            "Training dataset :\n",
            "Average loss : 4.526931117562687. Average accuracy 0.05859375\n",
            "-------------------\n",
            "Validation dataset\n",
            "Average loss : 4.4756574630737305. Average accuracy 0.06282552083333333\n",
            "-------------------\n",
            "\n",
            "Running epoch 17 / 50\n",
            "-------------------\n",
            "Training dataset :\n",
            "Average loss : 4.504702231463264. Average accuracy 0.05612362132352941\n",
            "-------------------\n",
            "Validation dataset\n",
            "Average loss : 4.473166306813558. Average accuracy 0.059895833333333336\n",
            "-------------------\n",
            "\n",
            "Running epoch 18 / 50\n",
            "-------------------\n",
            "Training dataset :\n",
            "Average loss : 4.489618076997645. Average accuracy 0.05583639705882353\n",
            "-------------------\n",
            "Validation dataset\n",
            "Average loss : 4.443532784779866. Average accuracy 0.06315104166666667\n",
            "-------------------\n",
            "\n",
            "Running epoch 19 / 50\n",
            "-------------------\n",
            "Training dataset :\n",
            "Average loss : 4.4715876859777115. Average accuracy 0.05773207720588235\n",
            "-------------------\n",
            "Validation dataset\n",
            "Average loss : 4.431869665781657. Average accuracy 0.06380208333333333\n",
            "-------------------\n",
            "\n",
            "Running epoch 20 / 50\n",
            "-------------------\n",
            "Training dataset :\n",
            "Average loss : 4.458794481614056. Average accuracy 0.05767463235294118\n",
            "-------------------\n",
            "Validation dataset\n",
            "Average loss : 4.417922178904216. Average accuracy 0.06510416666666667\n",
            "-------------------\n",
            "\n",
            "Running epoch 21 / 50\n",
            "-------------------\n",
            "Training dataset :\n",
            "Average loss : 4.443099246305578. Average accuracy 0.05767463235294118\n",
            "-------------------\n",
            "Validation dataset\n",
            "Average loss : 4.410545349121094. Average accuracy 0.06510416666666667\n",
            "-------------------\n",
            "\n",
            "Running epoch 22 / 50\n",
            "-------------------\n",
            "Training dataset :\n",
            "Average loss : 4.433066480300006. Average accuracy 0.05652573529411765\n",
            "-------------------\n",
            "Validation dataset\n",
            "Average loss : 4.411200046539307. Average accuracy 0.060221354166666664\n",
            "-------------------\n",
            "\n",
            "Running epoch 23 / 50\n",
            "-------------------\n",
            "Training dataset :\n",
            "Average loss : 4.421990927527933. Average accuracy 0.05951286764705882\n",
            "-------------------\n",
            "Validation dataset\n",
            "Average loss : 4.396324157714844. Average accuracy 0.06510416666666667\n",
            "-------------------\n",
            "\n",
            "Running epoch 24 / 50\n",
            "-------------------\n",
            "Training dataset :\n",
            "Average loss : 4.413787841796875. Average accuracy 0.05893841911764706\n",
            "-------------------\n",
            "Validation dataset\n",
            "Average loss : 4.385602156321208. Average accuracy 0.06705729166666667\n",
            "-------------------\n",
            "\n",
            "Running epoch 25 / 50\n",
            "-------------------\n",
            "Training dataset :\n",
            "Average loss : 4.405013561248779. Average accuracy 0.05658318014705882\n",
            "-------------------\n",
            "Validation dataset\n",
            "Average loss : 4.380192915598552. Average accuracy 0.06510416666666667\n",
            "-------------------\n",
            "\n",
            "Running epoch 26 / 50\n",
            "-------------------\n",
            "Training dataset :\n",
            "Average loss : 4.397079215330236. Average accuracy 0.05606617647058824\n",
            "-------------------\n",
            "Validation dataset\n",
            "Average loss : 4.379079977671306. Average accuracy 0.064453125\n",
            "-------------------\n",
            "\n",
            "Running epoch 27 / 50\n",
            "-------------------\n",
            "Training dataset :\n",
            "Average loss : 4.383633922128117. Average accuracy 0.058363970588235295\n",
            "-------------------\n",
            "Validation dataset\n",
            "Average loss : 4.372237841288249. Average accuracy 0.06575520833333333\n",
            "-------------------\n",
            "\n",
            "Running epoch 28 / 50\n",
            "-------------------\n",
            "Training dataset :\n",
            "Average loss : 4.381094287423527. Average accuracy 0.05962775735294118\n",
            "-------------------\n",
            "Validation dataset\n",
            "Average loss : 4.372307936350505. Average accuracy 0.0654296875\n",
            "-------------------\n",
            "\n",
            "Running epoch 29 / 50\n",
            "-------------------\n",
            "Training dataset :\n",
            "Average loss : 4.374431525959688. Average accuracy 0.05698529411764706\n",
            "-------------------\n",
            "Validation dataset\n",
            "Average loss : 4.3599982261657715. Average accuracy 0.06315104166666667\n",
            "-------------------\n",
            "\n",
            "Running epoch 30 / 50\n",
            "-------------------\n",
            "Training dataset :\n",
            "Average loss : 4.365347581751206. Average accuracy 0.057329963235294115\n",
            "-------------------\n",
            "Validation dataset\n",
            "Average loss : 4.344978332519531. Average accuracy 0.06412760416666667\n",
            "-------------------\n",
            "\n",
            "Running epoch 31 / 50\n",
            "-------------------\n",
            "Training dataset :\n",
            "Average loss : 4.358751156750848. Average accuracy 0.05968520220588235\n",
            "-------------------\n",
            "Validation dataset\n",
            "Average loss : 4.347667694091797. Average accuracy 0.06673177083333333\n",
            "-------------------\n",
            "\n",
            "Running epoch 32 / 50\n",
            "-------------------\n",
            "Training dataset :\n",
            "Average loss : 4.355279613943661. Average accuracy 0.060834099264705885\n",
            "-------------------\n",
            "Validation dataset\n",
            "Average loss : 4.36677344640096. Average accuracy 0.064453125\n",
            "-------------------\n",
            "\n",
            "Running epoch 33 / 50\n",
            "-------------------\n",
            "Training dataset :\n",
            "Average loss : 4.348034522112678. Average accuracy 0.05916819852941176\n",
            "-------------------\n",
            "Validation dataset\n",
            "Average loss : 4.352003256479899. Average accuracy 0.06477864583333333\n",
            "-------------------\n",
            "\n",
            "Running epoch 34 / 50\n",
            "-------------------\n",
            "Training dataset :\n",
            "Average loss : 4.348568888271556. Average accuracy 0.05974264705882353\n",
            "-------------------\n",
            "Validation dataset\n",
            "Average loss : 4.3541944821675616. Average accuracy 0.060221354166666664\n",
            "-------------------\n",
            "\n",
            "Running epoch 35 / 50\n",
            "-------------------\n",
            "Training dataset :\n",
            "Average loss : 4.339565641739789. Average accuracy 0.06135110294117647\n",
            "-------------------\n",
            "Validation dataset\n",
            "Average loss : 4.359472751617432. Average accuracy 0.064453125\n",
            "-------------------\n",
            "\n",
            "Running epoch 36 / 50\n",
            "-------------------\n",
            "Training dataset :\n",
            "Average loss : 4.333566693698659. Average accuracy 0.06094898897058824\n",
            "-------------------\n",
            "Validation dataset\n",
            "Average loss : 4.341379483540853. Average accuracy 0.06510416666666667\n",
            "-------------------\n",
            "\n",
            "Running epoch 37 / 50\n",
            "-------------------\n",
            "Training dataset :\n",
            "Average loss : 4.326731794020709. Average accuracy 0.061236213235294115\n",
            "-------------------\n",
            "Validation dataset\n",
            "Average loss : 4.347935199737549. Average accuracy 0.059895833333333336\n",
            "-------------------\n",
            "\n",
            "Running epoch 38 / 50\n",
            "-------------------\n",
            "Training dataset :\n",
            "Average loss : 4.326837539672852. Average accuracy 0.06290211397058823\n",
            "-------------------\n",
            "Validation dataset\n",
            "Average loss : 4.335480213165283. Average accuracy 0.0634765625\n",
            "-------------------\n",
            "\n",
            "Running epoch 39 / 50\n",
            "-------------------\n",
            "Training dataset :\n",
            "Average loss : 4.323796103982365. Average accuracy 0.05905330882352941\n",
            "-------------------\n",
            "Validation dataset\n",
            "Average loss : 4.3341067632039385. Average accuracy 0.06412760416666667\n",
            "-------------------\n",
            "\n",
            "Running epoch 40 / 50\n",
            "-------------------\n",
            "Training dataset :\n",
            "Average loss : 4.315797861884622. Average accuracy 0.06014476102941176\n",
            "-------------------\n",
            "Validation dataset\n",
            "Average loss : 4.342850844065349. Average accuracy 0.061197916666666664\n",
            "-------------------\n",
            "\n",
            "Running epoch 41 / 50\n",
            "-------------------\n",
            "Training dataset :\n",
            "Average loss : 4.316071482265697. Average accuracy 0.06089154411764706\n",
            "-------------------\n",
            "Validation dataset\n",
            "Average loss : 4.326721827189128. Average accuracy 0.058919270833333336\n",
            "-------------------\n",
            "\n",
            "Running epoch 42 / 50\n",
            "-------------------\n",
            "Training dataset :\n",
            "Average loss : 4.3114612523247215. Average accuracy 0.06301700367647059\n",
            "-------------------\n",
            "Validation dataset\n",
            "Average loss : 4.329208056131999. Average accuracy 0.058919270833333336\n",
            "-------------------\n",
            "\n",
            "Running epoch 43 / 50\n",
            "-------------------\n",
            "Training dataset :\n",
            "Average loss : 4.309759785147274. Average accuracy 0.06255744485294118\n",
            "-------------------\n",
            "Validation dataset\n",
            "Average loss : 4.346748987833659. Average accuracy 0.059895833333333336\n",
            "-------------------\n",
            "\n",
            "Running epoch 44 / 50\n",
            "-------------------\n",
            "Training dataset :\n",
            "Average loss : 4.304827269385843. Average accuracy 0.064453125\n",
            "-------------------\n",
            "Validation dataset\n",
            "Average loss : 4.321137428283691. Average accuracy 0.056315104166666664\n",
            "-------------------\n",
            "\n",
            "Running epoch 45 / 50\n",
            "-------------------\n",
            "Training dataset :\n",
            "Average loss : 4.298806891721838. Average accuracy 0.0625\n",
            "-------------------\n",
            "Validation dataset\n",
            "Average loss : 4.329482873280843. Average accuracy 0.058919270833333336\n",
            "-------------------\n",
            "\n",
            "Running epoch 46 / 50\n",
            "-------------------\n",
            "Training dataset :\n",
            "Average loss : 4.299365183886359. Average accuracy 0.06169577205882353\n",
            "-------------------\n",
            "Validation dataset\n",
            "Average loss : 4.32788610458374. Average accuracy 0.055338541666666664\n",
            "-------------------\n",
            "\n",
            "Running epoch 47 / 50\n",
            "-------------------\n",
            "Training dataset :\n",
            "Average loss : 4.294957469491398. Average accuracy 0.06554457720588236\n",
            "-------------------\n",
            "Validation dataset\n",
            "Average loss : 4.319042523701985. Average accuracy 0.058919270833333336\n",
            "-------------------\n",
            "\n",
            "Running epoch 48 / 50\n",
            "-------------------\n",
            "Training dataset :\n",
            "Average loss : 4.296440068413229. Average accuracy 0.0637063419117647\n",
            "-------------------\n",
            "Validation dataset\n",
            "Average loss : 4.327273050944011. Average accuracy 0.057942708333333336\n",
            "-------------------\n",
            "\n",
            "Running epoch 49 / 50\n",
            "-------------------\n",
            "Training dataset :\n",
            "Average loss : 4.289944396299474. Average accuracy 0.0627297794117647\n",
            "-------------------\n",
            "Validation dataset\n",
            "Average loss : 4.324595769246419. Average accuracy 0.0595703125\n",
            "-------------------\n",
            "\n",
            "Running epoch 50 / 50\n",
            "-------------------\n",
            "Training dataset :\n",
            "Average loss : 4.288323346306296. Average accuracy 0.06359145220588236\n",
            "-------------------\n",
            "Validation dataset\n",
            "Average loss : 4.335992336273193. Average accuracy 0.058268229166666664\n",
            "-------------------\n",
            "\n"
          ],
          "name": "stdout"
        },
        {
          "output_type": "display_data",
          "data": {
            "image/png": "[encoded data removed]",
            "text/plain": [
              "<Figure size 432x288 with 1 Axes>"
            ]
          },
          "metadata": {
            "tags": [],
            "needs_background": "light"
          }
        },
        {
          "output_type": "display_data",
          "data": {
            "image/png": "[encoded data removed]",
            "text/plain": [
              "<Figure size 432x288 with 1 Axes>"
            ]
          },
          "metadata": {
            "tags": [],
            "needs_background": "light"
          }
        }
      ]
    },
    {
      "cell_type": "markdown",
      "metadata": {
        "id": "guCnmAMR4g8p",
        "colab_type": "text"
      },
      "source": [
        "**Test**"
      ]
    },
    {
      "cell_type": "code",
      "metadata": {
        "id": "qxD3VcEP4fKd",
        "colab_type": "code",
        "colab": {
          "base_uri": "https://localhost:8080/",
          "height": 173
        },
        "outputId": "e44ff062-509b-4c27-cea2-46b67766661a"
      },
      "source": [
        "dataset_test = load_dataset('/content/drive/My Drive/Speech Rec Project/data/test', file_extension='.wav', phone_label_dict=label_dict)\n",
        "data_loader_test = dataset_test.getDataLoader(BATCH_SIZE, \"speaker\", False)\n"
      ],
      "execution_count": 41,
      "outputs": [
        {
          "output_type": "stream",
          "text": [
            "4it [00:04,  1.10s/it]\n"
          ],
          "name": "stderr"
        },
        {
          "output_type": "stream",
          "text": [
            "Saved cache file at /content/drive/My Drive/Speech Rec Project/data/test/_seqs_cache.txt\n",
            "Checking length...\n"
          ],
          "name": "stdout"
        },
        {
          "output_type": "stream",
          "text": [
            "543it [00:00, 952135.06it/s]\n"
          ],
          "name": "stderr"
        },
        {
          "output_type": "stream",
          "text": [
            "Done, elapsed: 18.941 seconds\n",
            "Scanned 543 sequences in 18.94 seconds\n",
            "1 chunks computed\n",
            "Joining pool\n",
            "Joined process, elapsed=1.641 secs\n"
          ],
          "name": "stdout"
        }
      ]
    },
    {
      "cell_type": "code",
      "metadata": {
        "id": "x7e9i2z45H44",
        "colab_type": "code",
        "colab": {}
      },
      "source": [
        "loss, accuracy = validation_step(cpc_model,phone_classifier, loss_criterion, data_loader_test)"
      ],
      "execution_count": 42,
      "outputs": []
    },
    {
      "cell_type": "code",
      "metadata": {
        "id": "ZWwgScDf5Z2e",
        "colab_type": "code",
        "colab": {
          "base_uri": "https://localhost:8080/",
          "height": 34
        },
        "outputId": "55c359e9-64d1-4e46-8bdc-47700cba0c9a"
      },
      "source": [
        "print(f\"Average loss : {loss}. Average accuracy {accuracy}\")"
      ],
      "execution_count": 43,
      "outputs": [
        {
          "output_type": "stream",
          "text": [
            "Average loss : 4.369927300347222. Average accuracy 0.051812065972222224\n"
          ],
          "name": "stdout"
        }
      ]
    },
    {
      "cell_type": "markdown",
      "metadata": {
        "colab_type": "text",
        "id": "TdfWDiFnylMT"
      },
      "source": [
        "## Exercise 2 : Phone separability without alignment (PER)\n",
        "\n",
        "Aligned data are very practical, but un real life they are rarely available. That's why in this excercise we will consider a fine-tuning with non-aligned phonemes.\n",
        "\n",
        "The model, the optimizer and the phone classifier will stay the same. However, we will replace our phone criterion with a [CTC loss](https://pytorch.org/docs/master/generated/torch.nn.CTCLoss.html). "
      ]
    },
    {
      "cell_type": "code",
      "metadata": {
        "colab_type": "code",
        "id": "_9BpM_Lpzgx8",
        "colab": {}
      },
      "source": [
        "loss_ctc = torch.nn.CTCLoss()"
      ],
      "execution_count": 44,
      "outputs": []
    },
    {
      "cell_type": "markdown",
      "metadata": {
        "colab_type": "text",
        "id": "AQpYgTyfzsrq"
      },
      "source": [
        "Besides, we will use a siglthy different dataset class."
      ]
    },
    {
      "cell_type": "code",
      "metadata": {
        "colab_type": "code",
        "id": "9HRxoatlz3ZZ",
        "colab": {
          "base_uri": "https://localhost:8080/",
          "height": 278
        },
        "outputId": "9d7d8121-767d-4eb1-e71d-c0e041d12dc3"
      },
      "source": [
        "%cd /content/CPC_audio\n",
        "from cpc.eval.common_voices_eval import SingleSequenceDataset, parseSeqLabels, findAllSeqs\n",
        "path_train_data_per = '/content/drive/My Drive/Speech Rec Project/data/train'\n",
        "path_val_data_per = '/content/drive/My Drive/Speech Rec Project/data/validation'\n",
        "path_phone_data_per = '/content/drive/My Drive/Speech Rec Project/data/all_sessions.txt'\n",
        "BATCH_SIZE=8\n",
        "\n",
        "phone_labels, N_PHONES = parseSeqLabels(path_phone_data_per)\n",
        "data_train_per, _ = findAllSeqs(path_train_data_per, extension='.wav')\n",
        "dataset_train_non_aligned = SingleSequenceDataset(path_train_data_per, data_train_per, phone_labels)\n",
        "data_loader_train = torch.utils.data.DataLoader(dataset_train_non_aligned, batch_size=BATCH_SIZE,\n",
        "                                                shuffle=True)\n",
        "\n",
        "data_val_per, _ = findAllSeqs(path_val_data_per, extension='.wav')\n",
        "dataset_val_non_aligned = SingleSequenceDataset(path_val_data_per, data_val_per, phone_labels)\n",
        "data_loader_val = torch.utils.data.DataLoader(dataset_val_non_aligned, batch_size=BATCH_SIZE,\n",
        "                                              shuffle=True)"
      ],
      "execution_count": 45,
      "outputs": [
        {
          "output_type": "stream",
          "text": [
            "5it [00:00, 365.10it/s]"
          ],
          "name": "stderr"
        },
        {
          "output_type": "stream",
          "text": [
            "/content/CPC_audio\n",
            "Saved cache file at /content/drive/My Drive/Speech Rec Project/data/train/_seqs_cache.txt\n"
          ],
          "name": "stdout"
        },
        {
          "output_type": "stream",
          "text": [
            "\n",
            "3it [00:00, 454.09it/s]"
          ],
          "name": "stderr"
        },
        {
          "output_type": "stream",
          "text": [
            "Loaded 294 sequences in 2.93 seconds\n",
            "maxSizeSeq : 383691\n",
            "maxSizePhone : 149\n",
            "minSizePhone : 13\n",
            "Total size dataset 0.8135741319444444 hours\n",
            "Saved cache file at /content/drive/My Drive/Speech Rec Project/data/validation/_seqs_cache.txt\n"
          ],
          "name": "stdout"
        },
        {
          "output_type": "stream",
          "text": [
            "\n"
          ],
          "name": "stderr"
        },
        {
          "output_type": "stream",
          "text": [
            "Loaded 69 sequences in 1.60 seconds\n",
            "maxSizeSeq : 348480\n",
            "maxSizePhone : 113\n",
            "minSizePhone : 15\n",
            "Total size dataset 0.18027109375 hours\n"
          ],
          "name": "stdout"
        }
      ]
    },
    {
      "cell_type": "markdown",
      "metadata": {
        "colab_type": "text",
        "id": "GwAckY62z7s9"
      },
      "source": [
        "### a- Training\n",
        "\n",
        "Since the phonemes are not aligned, there is no simple direct way to get the classification acuracy of a model. Write and test the three functions ```train_one_epoch_ctc```, ```validation_step_ctc``` and ```run_ctc``` as before but without considering the average acuracy of the model. "
      ]
    },
    {
      "cell_type": "code",
      "metadata": {
        "colab_type": "code",
        "id": "oYg5YzW8EHl4",
        "colab": {
          "base_uri": "https://localhost:8080/",
          "height": 52
        },
        "outputId": "a8122179-fc38-448c-f021-d2bcef766a6b"
      },
      "source": [
        "from cpc.feature_loader import loadModel\n",
        "\n",
        "checkpoint_path = 'checkpoint_data/checkpoint_30.pt'\n",
        "cpc_model, HIDDEN_CONTEXT_MODEL, HIDDEN_ENCODER_MODEL = loadModel([checkpoint_path])\n",
        "cpc_model = cpc_model.cuda()\n",
        "phone_classifier = PhoneClassifier(HIDDEN_CONTEXT_MODEL, N_PHONES).to(device)"
      ],
      "execution_count": 46,
      "outputs": [
        {
          "output_type": "stream",
          "text": [
            "Loading checkpoint checkpoint_data/checkpoint_30.pt\n",
            "Loading the state dict at checkpoint_data/checkpoint_30.pt\n"
          ],
          "name": "stdout"
        }
      ]
    },
    {
      "cell_type": "code",
      "metadata": {
        "colab_type": "code",
        "id": "CFQ2g3PjErdZ",
        "colab": {}
      },
      "source": [
        "parameters = list(phone_classifier.parameters()) + list(cpc_model.parameters())\n",
        "LEARNING_RATE = 2e-4\n",
        "optimizer = torch.optim.Adam(parameters, lr=LEARNING_RATE)\n",
        "\n",
        "optimizer_frozen = torch.optim.Adam(list(phone_classifier.parameters()), lr=LEARNING_RATE)"
      ],
      "execution_count": 47,
      "outputs": []
    },
    {
      "cell_type": "code",
      "metadata": {
        "colab_type": "code",
        "id": "Zsgjv3cD0oqD",
        "colab": {}
      },
      "source": [
        "import torch.nn.functional as F\n",
        "\n",
        "def train_one_epoch_ctc(cpc_model, \n",
        "                        phone_classifier, \n",
        "                        loss_criterion, \n",
        "                        data_loader, \n",
        "                        optimizer):\n",
        "  \n",
        "  cpc_model.train()\n",
        "  loss_criterion.train()\n",
        "  \n",
        "  avg_loss = 0\n",
        "  avg_accuracy = 0\n",
        "  n_items = 0\n",
        "  for step, full_data in enumerate(data_loader):\n",
        "\n",
        "    x, x_len, y, y_len = full_data\n",
        "\n",
        "    x_batch_len = x.shape[-1]\n",
        "    x, y = x.to(device), y.to(device)\n",
        "\n",
        "    bs=x.size(0)\n",
        "    optimizer.zero_grad()\n",
        "    context_out, enc_out, _ = cpc_model(x.to(device),y.to(device))\n",
        "  \n",
        "    scores = phone_classifier(context_out)\n",
        "    scores = scores.permute(1,0,2)\n",
        "    scores = F.log_softmax(scores,2)\n",
        "    yhat_len = torch.tensor([int(scores.shape[0]*x_len[i]/x_batch_len) for i in range(scores.shape[1])]) # this is an approximation, should be good enough\n",
        "\n",
        "    loss = loss_criterion(scores,y.to(device),yhat_len,y_len)\n",
        "    loss.backward()\n",
        "    optimizer.step()\n",
        "    avg_loss+=loss.item()*bs\n",
        "    n_items+=bs\n",
        "  avg_loss/=n_items\n",
        "  return avg_loss\n",
        "\n",
        "def validation_step(cpc_model, \n",
        "                    phone_classifier, \n",
        "                    loss_criterion, \n",
        "                    data_loader):\n",
        "\n",
        "  cpc_model.eval()\n",
        "  phone_classifier.eval()\n",
        "  avg_loss = 0\n",
        "  avg_accuracy = 0\n",
        "  n_items = 0\n",
        "  with torch.no_grad():\n",
        "    for step, full_data in enumerate(data_loader):\n",
        "\n",
        "      x, x_len, y, y_len = full_data\n",
        "\n",
        "      x_batch_len = x.shape[-1]\n",
        "      x, y = x.to(device), y.to(device)\n",
        "\n",
        "      bs=x.size(0)\n",
        "      context_out, enc_out, _ = cpc_model(x.to(device),y.to(device))\n",
        "    \n",
        "      scores = phone_classifier(context_out)\n",
        "      scores = scores.permute(1,0,2)\n",
        "      scores = F.log_softmax(scores,2)\n",
        "      yhat_len = torch.tensor([int(scores.shape[0]*x_len[i]/x_batch_len) for i in range(scores.shape[1])]) # this is an approximation, should be good enough\n",
        "\n",
        "      loss = loss_criterion(scores,y.to(device),yhat_len,y_len)\n",
        "      avg_loss+=loss.item()*bs\n",
        "      n_items+=bs\n",
        "  avg_loss/=n_items\n",
        "\n",
        "  return avg_loss\n",
        "\n",
        "def run_ctc(cpc_model, \n",
        "            phone_classifier, \n",
        "            loss_criterion, \n",
        "            data_loader_train, \n",
        "            data_loader_val, \n",
        "            optimizer,\n",
        "            n_epoch):\n",
        "  t_losses = []\n",
        "  v_losses = []\n",
        "  epoches = []\n",
        "  for epoch in range(n_epoch):\n",
        "    epoches.append(epoch + 1)\n",
        "    print(f\"Running epoch {epoch + 1} / {n_epoch}\")\n",
        "    loss_train = train_one_epoch_ctc(cpc_model, phone_classifier, loss_criterion, data_loader_train, optimizer)\n",
        "    print(\"-------------------\")\n",
        "    print(f\"Training dataset :\")\n",
        "    print(f\"Average loss : {loss_train}.\")\n",
        "    t_losses.append(loss_train)\n",
        "    print(\"-------------------\")\n",
        "    print(\"Validation dataset\")\n",
        "    loss_val = validation_step(cpc_model, phone_classifier, loss_criterion, data_loader_val)\n",
        "    print(f\"Average loss : {loss_val}\")\n",
        "    v_losses.append(loss_val)\n",
        "    print(\"-------------------\")\n",
        "    print()\n",
        "  plt.plot(t_losses)\n",
        "  plt.plot(v_losses)\n",
        "  plt.title('Model Loss')\n",
        "  plt.ylabel('loss')\n",
        "  plt.xlabel('epoch')\n",
        "  plt.legend(['train', 'Validation'], loc='upper left')\n",
        "  plt.show()\n"
      ],
      "execution_count": 48,
      "outputs": []
    },
    {
      "cell_type": "code",
      "metadata": {
        "colab_type": "code",
        "id": "GSr7tcUdD72c",
        "colab": {
          "base_uri": "https://localhost:8080/",
          "height": 1000
        },
        "outputId": "76a59be4-b3db-4619-a105-4d2c504b7ef0"
      },
      "source": [
        "run_ctc(cpc_model,phone_classifier,loss_ctc,data_loader_train,data_loader_val,optimizer_frozen,n_epoch=50)"
      ],
      "execution_count": 49,
      "outputs": [
        {
          "output_type": "stream",
          "text": [
            "Running epoch 1 / 50\n",
            "-------------------\n",
            "Training dataset :\n",
            "Average loss : 86.33017280240108.\n",
            "-------------------\n",
            "Validation dataset\n",
            "Average loss : 90.6194673426011\n",
            "-------------------\n",
            "\n",
            "Running epoch 2 / 50\n",
            "-------------------\n",
            "Training dataset :\n",
            "Average loss : 80.92552018409702.\n",
            "-------------------\n",
            "Validation dataset\n",
            "Average loss : 84.56974657844094\n",
            "-------------------\n",
            "\n",
            "Running epoch 3 / 50\n",
            "-------------------\n",
            "Training dataset :\n",
            "Average loss : 75.09544080923035.\n",
            "-------------------\n",
            "Validation dataset\n",
            "Average loss : 77.71051160027\n",
            "-------------------\n",
            "\n",
            "Running epoch 4 / 50\n",
            "-------------------\n",
            "Training dataset :\n",
            "Average loss : 68.10104734661635.\n",
            "-------------------\n",
            "Validation dataset\n",
            "Average loss : 69.50441158519072\n",
            "-------------------\n",
            "\n",
            "Running epoch 5 / 50\n",
            "-------------------\n",
            "Training dataset :\n",
            "Average loss : 60.58218456697952.\n",
            "-------------------\n",
            "Validation dataset\n",
            "Average loss : 61.87863787482767\n",
            "-------------------\n",
            "\n",
            "Running epoch 6 / 50\n",
            "-------------------\n",
            "Training dataset :\n",
            "Average loss : 53.71896090198295.\n",
            "-------------------\n",
            "Validation dataset\n",
            "Average loss : 55.12225409115062\n",
            "-------------------\n",
            "\n",
            "Running epoch 7 / 50\n",
            "-------------------\n",
            "Training dataset :\n",
            "Average loss : 47.60017518704255.\n",
            "-------------------\n",
            "Validation dataset\n",
            "Average loss : 49.04868159574621\n",
            "-------------------\n",
            "\n",
            "Running epoch 8 / 50\n",
            "-------------------\n",
            "Training dataset :\n",
            "Average loss : 42.14045517436473.\n",
            "-------------------\n",
            "Validation dataset\n",
            "Average loss : 43.64369291417739\n",
            "-------------------\n",
            "\n",
            "Running epoch 9 / 50\n",
            "-------------------\n",
            "Training dataset :\n",
            "Average loss : 37.37114969455342.\n",
            "-------------------\n",
            "Validation dataset\n",
            "Average loss : 38.86019695506376\n",
            "-------------------\n",
            "\n",
            "Running epoch 10 / 50\n",
            "-------------------\n",
            "Training dataset :\n",
            "Average loss : 33.186448588713034.\n",
            "-------------------\n",
            "Validation dataset\n",
            "Average loss : 34.93047243006089\n",
            "-------------------\n",
            "\n",
            "Running epoch 11 / 50\n",
            "-------------------\n",
            "Training dataset :\n",
            "Average loss : 29.686855140399608.\n",
            "-------------------\n",
            "Validation dataset\n",
            "Average loss : 31.499072916367474\n",
            "-------------------\n",
            "\n",
            "Running epoch 12 / 50\n",
            "-------------------\n",
            "Training dataset :\n",
            "Average loss : 26.73253175260264.\n",
            "-------------------\n",
            "Validation dataset\n",
            "Average loss : 28.62996998955222\n",
            "-------------------\n",
            "\n",
            "Running epoch 13 / 50\n",
            "-------------------\n",
            "Training dataset :\n",
            "Average loss : 24.25353071063045.\n",
            "-------------------\n",
            "Validation dataset\n",
            "Average loss : 26.269803664263556\n",
            "-------------------\n",
            "\n",
            "Running epoch 14 / 50\n",
            "-------------------\n",
            "Training dataset :\n",
            "Average loss : 22.19085328163954.\n",
            "-------------------\n",
            "Validation dataset\n",
            "Average loss : 24.25238093207864\n",
            "-------------------\n",
            "\n",
            "Running epoch 15 / 50\n",
            "-------------------\n",
            "Training dataset :\n",
            "Average loss : 20.445745741547984.\n",
            "-------------------\n",
            "Validation dataset\n",
            "Average loss : 22.4917314192828\n",
            "-------------------\n",
            "\n",
            "Running epoch 16 / 50\n",
            "-------------------\n",
            "Training dataset :\n",
            "Average loss : 18.933952149270745.\n",
            "-------------------\n",
            "Validation dataset\n",
            "Average loss : 20.942203746122473\n",
            "-------------------\n",
            "\n",
            "Running epoch 17 / 50\n",
            "-------------------\n",
            "Training dataset :\n",
            "Average loss : 17.63199800029143.\n",
            "-------------------\n",
            "Validation dataset\n",
            "Average loss : 19.572323406443875\n",
            "-------------------\n",
            "\n",
            "Running epoch 18 / 50\n",
            "-------------------\n",
            "Training dataset :\n",
            "Average loss : 16.54064111091171.\n",
            "-------------------\n",
            "Validation dataset\n",
            "Average loss : 18.436282438390396\n",
            "-------------------\n",
            "\n",
            "Running epoch 19 / 50\n",
            "-------------------\n",
            "Training dataset :\n",
            "Average loss : 15.637294860423221.\n",
            "-------------------\n",
            "Validation dataset\n",
            "Average loss : 17.50323688282686\n",
            "-------------------\n",
            "\n",
            "Running epoch 20 / 50\n",
            "-------------------\n",
            "Training dataset :\n",
            "Average loss : 14.888002974995167.\n",
            "-------------------\n",
            "Validation dataset\n",
            "Average loss : 16.725526192609003\n",
            "-------------------\n",
            "\n",
            "Running epoch 21 / 50\n",
            "-------------------\n",
            "Training dataset :\n",
            "Average loss : 14.275277967745941.\n",
            "-------------------\n",
            "Validation dataset\n",
            "Average loss : 16.062509200152228\n",
            "-------------------\n",
            "\n",
            "Running epoch 22 / 50\n",
            "-------------------\n",
            "Training dataset :\n",
            "Average loss : 13.755737561821531.\n",
            "-------------------\n",
            "Validation dataset\n",
            "Average loss : 15.510076971615062\n",
            "-------------------\n",
            "\n",
            "Running epoch 23 / 50\n",
            "-------------------\n",
            "Training dataset :\n",
            "Average loss : 13.323237767398561.\n",
            "-------------------\n",
            "Validation dataset\n",
            "Average loss : 15.054468042710248\n",
            "-------------------\n",
            "\n",
            "Running epoch 24 / 50\n",
            "-------------------\n",
            "Training dataset :\n",
            "Average loss : 12.958580420692627.\n",
            "-------------------\n",
            "Validation dataset\n",
            "Average loss : 14.66488406237434\n",
            "-------------------\n",
            "\n",
            "Running epoch 25 / 50\n",
            "-------------------\n",
            "Training dataset :\n",
            "Average loss : 12.641102299348486.\n",
            "-------------------\n",
            "Validation dataset\n",
            "Average loss : 14.334849862491383\n",
            "-------------------\n",
            "\n",
            "Running epoch 26 / 50\n",
            "-------------------\n",
            "Training dataset :\n",
            "Average loss : 12.373145155532368.\n",
            "-------------------\n",
            "Validation dataset\n",
            "Average loss : 14.051331351785098\n",
            "-------------------\n",
            "\n",
            "Running epoch 27 / 50\n",
            "-------------------\n",
            "Training dataset :\n",
            "Average loss : 12.138760296557951.\n",
            "-------------------\n",
            "Validation dataset\n",
            "Average loss : 13.81060375886805\n",
            "-------------------\n",
            "\n",
            "Running epoch 28 / 50\n",
            "-------------------\n",
            "Training dataset :\n",
            "Average loss : 11.937757957510573.\n",
            "-------------------\n",
            "Validation dataset\n",
            "Average loss : 13.583791284000172\n",
            "-------------------\n",
            "\n",
            "Running epoch 29 / 50\n",
            "-------------------\n",
            "Training dataset :\n",
            "Average loss : 11.758021530437794.\n",
            "-------------------\n",
            "Validation dataset\n",
            "Average loss : 13.404234269086052\n",
            "-------------------\n",
            "\n",
            "Running epoch 30 / 50\n",
            "-------------------\n",
            "Training dataset :\n",
            "Average loss : 11.601317923223606.\n",
            "-------------------\n",
            "Validation dataset\n",
            "Average loss : 13.231314546921674\n",
            "-------------------\n",
            "\n",
            "Running epoch 31 / 50\n",
            "-------------------\n",
            "Training dataset :\n",
            "Average loss : 11.459778151007642.\n",
            "-------------------\n",
            "Validation dataset\n",
            "Average loss : 13.087751388549805\n",
            "-------------------\n",
            "\n",
            "Running epoch 32 / 50\n",
            "-------------------\n",
            "Training dataset :\n",
            "Average loss : 11.33146886532624.\n",
            "-------------------\n",
            "Validation dataset\n",
            "Average loss : 12.956510599921732\n",
            "-------------------\n",
            "\n",
            "Running epoch 33 / 50\n",
            "-------------------\n",
            "Training dataset :\n",
            "Average loss : 11.217864225342005.\n",
            "-------------------\n",
            "Validation dataset\n",
            "Average loss : 12.832947955412024\n",
            "-------------------\n",
            "\n",
            "Running epoch 34 / 50\n",
            "-------------------\n",
            "Training dataset :\n",
            "Average loss : 11.114986364345095.\n",
            "-------------------\n",
            "Validation dataset\n",
            "Average loss : 12.729132483987247\n",
            "-------------------\n",
            "\n",
            "Running epoch 35 / 50\n",
            "-------------------\n",
            "Training dataset :\n",
            "Average loss : 11.018560279351453.\n",
            "-------------------\n",
            "Validation dataset\n",
            "Average loss : 12.626958847045898\n",
            "-------------------\n",
            "\n",
            "Running epoch 36 / 50\n",
            "-------------------\n",
            "Training dataset :\n",
            "Average loss : 10.931308131169134.\n",
            "-------------------\n",
            "Validation dataset\n",
            "Average loss : 12.544234892901253\n",
            "-------------------\n",
            "\n",
            "Running epoch 37 / 50\n",
            "-------------------\n",
            "Training dataset :\n",
            "Average loss : 10.850733569864527.\n",
            "-------------------\n",
            "Validation dataset\n",
            "Average loss : 12.4626506356632\n",
            "-------------------\n",
            "\n",
            "Running epoch 38 / 50\n",
            "-------------------\n",
            "Training dataset :\n",
            "Average loss : 10.778873192979207.\n",
            "-------------------\n",
            "Validation dataset\n",
            "Average loss : 12.379802367266487\n",
            "-------------------\n",
            "\n",
            "Running epoch 39 / 50\n",
            "-------------------\n",
            "Training dataset :\n",
            "Average loss : 10.713275593702297.\n",
            "-------------------\n",
            "Validation dataset\n",
            "Average loss : 12.33040579627542\n",
            "-------------------\n",
            "\n",
            "Running epoch 40 / 50\n",
            "-------------------\n",
            "Training dataset :\n",
            "Average loss : 10.646809411943975.\n",
            "-------------------\n",
            "Validation dataset\n",
            "Average loss : 12.259373945348402\n",
            "-------------------\n",
            "\n",
            "Running epoch 41 / 50\n",
            "-------------------\n",
            "Training dataset :\n",
            "Average loss : 10.587154041785022.\n",
            "-------------------\n",
            "Validation dataset\n",
            "Average loss : 12.186816944795495\n",
            "-------------------\n",
            "\n",
            "Running epoch 42 / 50\n",
            "-------------------\n",
            "Training dataset :\n",
            "Average loss : 10.529153674128926.\n",
            "-------------------\n",
            "Validation dataset\n",
            "Average loss : 12.13802433013916\n",
            "-------------------\n",
            "\n",
            "Running epoch 43 / 50\n",
            "-------------------\n",
            "Training dataset :\n",
            "Average loss : 10.475975085444011.\n",
            "-------------------\n",
            "Validation dataset\n",
            "Average loss : 12.086401743047377\n",
            "-------------------\n",
            "\n",
            "Running epoch 44 / 50\n",
            "-------------------\n",
            "Training dataset :\n",
            "Average loss : 10.427286634673031.\n",
            "-------------------\n",
            "Validation dataset\n",
            "Average loss : 12.037066740148207\n",
            "-------------------\n",
            "\n",
            "Running epoch 45 / 50\n",
            "-------------------\n",
            "Training dataset :\n",
            "Average loss : 10.378753945282295.\n",
            "-------------------\n",
            "Validation dataset\n",
            "Average loss : 11.987137850593118\n",
            "-------------------\n",
            "\n",
            "Running epoch 46 / 50\n",
            "-------------------\n",
            "Training dataset :\n",
            "Average loss : 10.335949344439719.\n",
            "-------------------\n",
            "Validation dataset\n",
            "Average loss : 11.945397152620203\n",
            "-------------------\n",
            "\n",
            "Running epoch 47 / 50\n",
            "-------------------\n",
            "Training dataset :\n",
            "Average loss : 10.29260543263406.\n",
            "-------------------\n",
            "Validation dataset\n",
            "Average loss : 11.899427750531364\n",
            "-------------------\n",
            "\n",
            "Running epoch 48 / 50\n",
            "-------------------\n",
            "Training dataset :\n",
            "Average loss : 10.25927079822423.\n",
            "-------------------\n",
            "Validation dataset\n",
            "Average loss : 11.874092719134163\n",
            "-------------------\n",
            "\n",
            "Running epoch 49 / 50\n",
            "-------------------\n",
            "Training dataset :\n",
            "Average loss : 10.215015043577644.\n",
            "-------------------\n",
            "Validation dataset\n",
            "Average loss : 11.831862085005817\n",
            "-------------------\n",
            "\n",
            "Running epoch 50 / 50\n",
            "-------------------\n",
            "Training dataset :\n",
            "Average loss : 10.182573049955401.\n",
            "-------------------\n",
            "Validation dataset\n",
            "Average loss : 11.808845744413489\n",
            "-------------------\n",
            "\n"
          ],
          "name": "stdout"
        },
        {
          "output_type": "display_data",
          "data": {
            "image/png": "[encoded data removed]",
            "text/plain": [
              "<Figure size 432x288 with 1 Axes>"
            ]
          },
          "metadata": {
            "tags": [],
            "needs_background": "light"
          }
        }
      ]
    },
    {
      "cell_type": "code",
      "metadata": {
        "id": "ECkwZH-g6GdH",
        "colab_type": "code",
        "colab": {
          "base_uri": "https://localhost:8080/",
          "height": 139
        },
        "outputId": "0471f68e-3e74-4986-9c20-6c8e8f1aee57"
      },
      "source": [
        "path_test_data_per = '/content/drive/My Drive/Speech Rec Project/data/test'\n",
        "\n",
        "\n",
        "phone_labels, N_PHONES = parseSeqLabels(path_phone_data_per)\n",
        "data_test_per, _ = findAllSeqs(path_test_data_per, extension='.wav')\n",
        "dataset_test_non_aligned = SingleSequenceDataset(path_test_data_per, data_test_per, phone_labels)\n",
        "data_loader_test = torch.utils.data.DataLoader(dataset_test_non_aligned, batch_size=BATCH_SIZE,\n",
        "                                                shuffle=True)\n",
        "\n"
      ],
      "execution_count": 51,
      "outputs": [
        {
          "output_type": "stream",
          "text": [
            "4it [00:00, 239.22it/s]"
          ],
          "name": "stderr"
        },
        {
          "output_type": "stream",
          "text": [
            "Saved cache file at /content/drive/My Drive/Speech Rec Project/data/test/_seqs_cache.txt\n"
          ],
          "name": "stdout"
        },
        {
          "output_type": "stream",
          "text": [
            "\n"
          ],
          "name": "stderr"
        },
        {
          "output_type": "stream",
          "text": [
            "Loaded 544 sequences in 3.41 seconds\n",
            "maxSizeSeq : 203643\n",
            "maxSizePhone : 73\n",
            "minSizePhone : 12\n",
            "Total size dataset 0.7622940798611111 hours\n"
          ],
          "name": "stdout"
        }
      ]
    },
    {
      "cell_type": "code",
      "metadata": {
        "id": "wzQobWgM6pnW",
        "colab_type": "code",
        "colab": {}
      },
      "source": [
        "loss = validation_step(cpc_model, phone_classifier, loss_ctc, data_loader_test)"
      ],
      "execution_count": 53,
      "outputs": []
    },
    {
      "cell_type": "code",
      "metadata": {
        "id": "jmx1jrwW8MUE",
        "colab_type": "code",
        "colab": {
          "base_uri": "https://localhost:8080/",
          "height": 34
        },
        "outputId": "af5929b2-58a9-40c5-b3b5-c31691e74605"
      },
      "source": [
        "print(f\"Average test loss : {loss}.\")"
      ],
      "execution_count": 54,
      "outputs": [
        {
          "output_type": "stream",
          "text": [
            "Average test loss : 16.83534864562651.\n"
          ],
          "name": "stdout"
        }
      ]
    },
    {
      "cell_type": "markdown",
      "metadata": {
        "colab_type": "text",
        "id": "TKrYW4gK1BBF"
      },
      "source": [
        "### b- Evaluation: the Phone Error Rate (PER)\n",
        "\n",
        "In order to compute the similarity between two sequences, we can use the [Levenshtein distance](https://en.wikipedia.org/wiki/Levenshtein_distance). This distance estimates the minimum number of insertion, deletion and addition to move from one sequence to another. If we normalize this distance by the number of characters in the reference sequence we get the Phone Error Rate (PER).\n",
        "\n",
        "This value can be interpreted as :\n",
        "\\\\[  PER = \\frac{S + D + I}{N} \\\\]\n",
        "\n",
        "Where:\n",
        "\n",
        "\n",
        "*   N is the number of characters in the reference\n",
        "*   S is the number of substitutiion\n",
        "*   I in the number of insertion\n",
        "*   D in the number of deletion\n",
        "\n",
        "For the best possible alignment of the two sequences.\n",
        "\n"
      ]
    },
    {
      "cell_type": "code",
      "metadata": {
        "colab_type": "code",
        "id": "RoBhsx7GNqI_",
        "colab": {}
      },
      "source": [
        "import numpy as np\n",
        "\n",
        "def get_PER_sequence(ref_seq, target_seq):\n",
        "\n",
        "  # re = g.split()\n",
        "  # h = h.split()\n",
        "  n = len(ref_seq)\n",
        "  m = len(target_seq)\n",
        "\n",
        "  D = np.zeros((n+1,m+1))\n",
        "  for i in range(1,n+1):\n",
        "    D[i,0] = D[i-1,0]+1\n",
        "  for j in range(1,m+1):\n",
        "    D[0,j] = D[0,j-1]+1\n",
        "  \n",
        "  ### TODO compute the alignment\n",
        "\n",
        "  for i in range(1,n+1):\n",
        "    for j in range(1,m+1):\n",
        "      D[i,j] = min(\n",
        "          D[i-1,j]+1,\n",
        "          D[i-1,j-1]+1,\n",
        "          D[i,j-1]+1,\n",
        "          D[i-1,j-1]+ 0 if ref_seq[i-1]==target_seq[j-1] else float(\"inf\")\n",
        "      )\n",
        "  return D[n,m]/len(ref_seq)\n",
        "  \n",
        "\n",
        "  #return PER"
      ],
      "execution_count": 55,
      "outputs": []
    },
    {
      "cell_type": "markdown",
      "metadata": {
        "colab_type": "text",
        "id": "r-hr0KK0mgcR"
      },
      "source": [
        "You can test your function below:"
      ]
    },
    {
      "cell_type": "code",
      "metadata": {
        "colab_type": "code",
        "id": "AfTb3yOQmvey",
        "colab": {
          "base_uri": "https://localhost:8080/",
          "height": 34
        },
        "outputId": "9faabf95-9771-4bca-8bd9-f1b663b7a19e"
      },
      "source": [
        "ref_seq = [0, 1, 1, 2, 0, 2, 2]\n",
        "pred_seq = [1, 1, 2, 2, 0, 0]\n",
        "\n",
        "expected_PER = 4. / 7.\n",
        "print(get_PER_sequence(ref_seq, pred_seq) == expected_PER)"
      ],
      "execution_count": 56,
      "outputs": [
        {
          "output_type": "stream",
          "text": [
            "True\n"
          ],
          "name": "stdout"
        }
      ]
    },
    {
      "cell_type": "markdown",
      "metadata": {
        "colab_type": "text",
        "id": "nHiyChl-m_k7"
      },
      "source": [
        "## c- Evaluating the PER of your model on the test dataset\n",
        "\n",
        "Evaluate the PER on the validation dataset. Please notice that you should usually use a separate dataset, called the dev dataset, to perform this operation. However for the sake of simplicity we will work with validation data in this exercise."
      ]
    },
    {
      "cell_type": "code",
      "metadata": {
        "colab_type": "code",
        "id": "DMkX0PoFnclg",
        "colab": {}
      },
      "source": [
        "import progressbar\n",
        "from multiprocessing import Pool\n",
        "\n",
        "def cut_data(seq, sizeSeq):\n",
        "    maxSeq = sizeSeq.max()\n",
        "    return seq[:, :maxSeq]\n",
        "\n",
        "\n",
        "def prepare_data(data):\n",
        "    seq, sizeSeq, phone, sizePhone = data\n",
        "    seq = seq.cuda()\n",
        "    phone = phone.cuda()\n",
        "    sizeSeq = sizeSeq.cuda().view(-1)\n",
        "    sizePhone = sizePhone.cuda().view(-1)\n",
        "\n",
        "    seq = cut_data(seq.permute(0, 2, 1), sizeSeq).permute(0, 2, 1)\n",
        "    return seq, sizeSeq, phone, sizePhone\n",
        "\n",
        "\n",
        "def get_per(test_dataloader,\n",
        "            cpc_model,\n",
        "            phone_classifier):\n",
        "\n",
        "  downsampling_factor = 160\n",
        "  cpc_model.eval()\n",
        "  phone_classifier.eval()\n",
        "\n",
        "  avgPER = 0\n",
        "  nItems = 0 \n",
        "\n",
        "  print(\"Starting the PER computation through beam search\")\n",
        "  bar = progressbar.ProgressBar(maxval=len(test_dataloader))\n",
        "  bar.start()\n",
        "\n",
        "  for index, data in enumerate(test_dataloader):\n",
        "\n",
        "    bar.update(index)\n",
        "\n",
        "    with torch.no_grad():\n",
        "      \n",
        "        seq, sizeSeq, phone, sizePhone = prepare_data(data)\n",
        "        c_feature, _, _ = cpc_model(seq.to(device),phone.to(device))\n",
        "        sizeSeq = sizeSeq / downsampling_factor\n",
        "        predictions = torch.nn.functional.softmax(\n",
        "        phone_classifier(c_feature), dim=2).cpu()\n",
        "        phone = phone.cpu()\n",
        "        sizeSeq = sizeSeq.cpu()\n",
        "        sizePhone = sizePhone.cpu()\n",
        "\n",
        "        bs = c_feature.size(0)\n",
        "        data_per = [(predictions[b].argmax(1),  phone[b]) for b in range(bs)]\n",
        "        # data_per = [(predictions[b], sizeSeq[b], phone[b], sizePhone[b],\n",
        "        #               \"criterion.module.BLANK_LABEL\") for b in range(bs)]\n",
        "\n",
        "        with Pool(bs) as p:\n",
        "            poolData = p.starmap(get_PER_sequence, data_per)\n",
        "        avgPER += sum([x for x in poolData])\n",
        "        nItems += len(poolData)\n",
        "\n",
        "  bar.finish()\n",
        "\n",
        "  avgPER /= nItems\n",
        "\n",
        "  print(f\"Average PER {avgPER}\")\n",
        "  return avgPER\n"
      ],
      "execution_count": 57,
      "outputs": []
    },
    {
      "cell_type": "code",
      "metadata": {
        "colab_type": "code",
        "id": "2hvnudh4Osb4",
        "colab": {
          "base_uri": "https://localhost:8080/",
          "height": 104
        },
        "outputId": "c54e5f2e-ebde-4ee1-9c00-48415357d9f7"
      },
      "source": [
        "get_per(data_loader_val,cpc_model,phone_classifier)"
      ],
      "execution_count": 58,
      "outputs": [
        {
          "output_type": "stream",
          "text": [
            "\r                                                                               \r\rN/A% (0 of 9) |                          | Elapsed Time: 0:00:00 ETA:  --:--:--"
          ],
          "name": "stderr"
        },
        {
          "output_type": "stream",
          "text": [
            "Starting the PER computation through beam search\n"
          ],
          "name": "stdout"
        },
        {
          "output_type": "stream",
          "text": [
            "100% (9 of 9) |##########################| Elapsed Time: 0:02:36 Time:  0:02:36\n"
          ],
          "name": "stderr"
        },
        {
          "output_type": "stream",
          "text": [
            "Average PER 0.9558495067580042\n"
          ],
          "name": "stdout"
        },
        {
          "output_type": "execute_result",
          "data": {
            "text/plain": [
              "0.9558495067580042"
            ]
          },
          "metadata": {
            "tags": []
          },
          "execution_count": 58
        }
      ]
    },
    {
      "cell_type": "markdown",
      "metadata": {
        "id": "c0QJXgvFFdyw",
        "colab_type": "text"
      },
      "source": [
        "**Test**"
      ]
    },
    {
      "cell_type": "code",
      "metadata": {
        "id": "WItW59dRFivk",
        "colab_type": "code",
        "colab": {
          "base_uri": "https://localhost:8080/",
          "height": 104
        },
        "outputId": "7b45cfbb-b099-4135-bd4c-785e47ad78c8"
      },
      "source": [
        "get_per(data_loader_test,cpc_model,phone_classifier)"
      ],
      "execution_count": 59,
      "outputs": [
        {
          "output_type": "stream",
          "text": [
            "\r                                                                               \r\rN/A% (0 of 68) |                         | Elapsed Time: 0:00:00 ETA:  --:--:--"
          ],
          "name": "stderr"
        },
        {
          "output_type": "stream",
          "text": [
            "Starting the PER computation through beam search\n"
          ],
          "name": "stdout"
        },
        {
          "output_type": "stream",
          "text": [
            "100% (68 of 68) |########################| Elapsed Time: 0:06:54 Time:  0:06:54\n"
          ],
          "name": "stderr"
        },
        {
          "output_type": "stream",
          "text": [
            "Average PER 0.9485318996899852\n"
          ],
          "name": "stdout"
        },
        {
          "output_type": "execute_result",
          "data": {
            "text/plain": [
              "0.9485318996899852"
            ]
          },
          "metadata": {
            "tags": []
          },
          "execution_count": 59
        }
      ]
    },
    {
      "cell_type": "markdown",
      "metadata": {
        "colab_type": "text",
        "id": "p8e9D7g8159k"
      },
      "source": [
        "## Exercice 3 : Character error rate (CER) \n",
        "\n",
        "The Character Error Rate (CER) is an evaluation metric similar to the PER but with characters insterad of phonemes. Using the following data, run the functions you defined previously to estimate the CER of your model after fine-tuning."
      ]
    },
    {
      "cell_type": "code",
      "metadata": {
        "colab_type": "code",
        "id": "cXONmKQOuFSn",
        "colab": {
          "base_uri": "https://localhost:8080/",
          "height": 278
        },
        "outputId": "79616518-942e-4a86-ead4-00f606e17b74"
      },
      "source": [
        "# Load a dataset labelled with the letters of each sequence.\n",
        "%cd /content/CPC_audio\n",
        "from cpc.eval.common_voices_eval import SingleSequenceDataset, parseSeqLabels, findAllSeqs\n",
        "path_train_data_cer = '/content/drive/My Drive/Speech Rec Project/data/train'\n",
        "path_val_data_cer = '/content/drive/My Drive/Speech Rec Project/data/validation'\n",
        "path_letter_data_cer = '/content/drive/My Drive/Speech Rec Project/data/all_sessions.txt'\n",
        "BATCH_SIZE=8\n",
        "\n",
        "letters_labels, N_LETTERS = parseSeqLabels(path_letter_data_cer)\n",
        "data_train_cer, _ = findAllSeqs(path_train_data_cer, extension='.wav')\n",
        "dataset_train_non_aligned = SingleSequenceDataset(path_train_data_cer, data_train_cer, letters_labels)\n",
        "\n",
        "\n",
        "data_val_cer, _ = findAllSeqs(path_val_data_cer, extension='.wav')\n",
        "dataset_val_non_aligned = SingleSequenceDataset(path_val_data_cer, data_val_cer, letters_labels)\n",
        "\n",
        "\n",
        "# The data loader will generate a tuple of tensors data, labels for each batch\n",
        "# data : size N x T1 x 1 : the audio sequence\n",
        "# label : size N x T2 the sequence of letters corresponding to the audio data\n",
        "# IMPORTANT NOTE: just like the PER the CER is computed with non-aligned phone data.\n",
        "data_loader_train_letters = torch.utils.data.DataLoader(dataset_train_non_aligned, batch_size=BATCH_SIZE,\n",
        "                                                shuffle=True)\n",
        "data_loader_val_letters = torch.utils.data.DataLoader(dataset_val_non_aligned, batch_size=BATCH_SIZE,\n",
        "                                              shuffle=True)"
      ],
      "execution_count": 62,
      "outputs": [
        {
          "output_type": "stream",
          "text": [
            "5it [00:00, 307.34it/s]"
          ],
          "name": "stderr"
        },
        {
          "output_type": "stream",
          "text": [
            "/content/CPC_audio\n",
            "Saved cache file at /content/drive/My Drive/Speech Rec Project/data/train/_seqs_cache.txt\n"
          ],
          "name": "stdout"
        },
        {
          "output_type": "stream",
          "text": [
            "\n",
            "3it [00:00, 462.93it/s]"
          ],
          "name": "stderr"
        },
        {
          "output_type": "stream",
          "text": [
            "Loaded 294 sequences in 3.06 seconds\n",
            "maxSizeSeq : 383691\n",
            "maxSizePhone : 149\n",
            "minSizePhone : 13\n",
            "Total size dataset 0.8135741319444444 hours\n",
            "Saved cache file at /content/drive/My Drive/Speech Rec Project/data/validation/_seqs_cache.txt\n"
          ],
          "name": "stdout"
        },
        {
          "output_type": "stream",
          "text": [
            "\n"
          ],
          "name": "stderr"
        },
        {
          "output_type": "stream",
          "text": [
            "Loaded 69 sequences in 2.09 seconds\n",
            "maxSizeSeq : 348480\n",
            "maxSizePhone : 113\n",
            "minSizePhone : 15\n",
            "Total size dataset 0.18027109375 hours\n"
          ],
          "name": "stdout"
        }
      ]
    },
    {
      "cell_type": "code",
      "metadata": {
        "colab_type": "code",
        "id": "9h07zI2LjzAU",
        "colab": {
          "base_uri": "https://localhost:8080/",
          "height": 52
        },
        "outputId": "f25a0ee1-51a4-485f-f512-f6b34990d531"
      },
      "source": [
        "from cpc.feature_loader import loadModel\n",
        "\n",
        "checkpoint_path = 'checkpoint_data/checkpoint_30.pt'\n",
        "cpc_model, HIDDEN_CONTEXT_MODEL, HIDDEN_ENCODER_MODEL = loadModel([checkpoint_path])\n",
        "cpc_model = cpc_model.cuda()\n",
        "character_classifier = PhoneClassifier(HIDDEN_CONTEXT_MODEL, N_LETTERS).to(device)"
      ],
      "execution_count": 63,
      "outputs": [
        {
          "output_type": "stream",
          "text": [
            "Loading checkpoint checkpoint_data/checkpoint_30.pt\n",
            "Loading the state dict at checkpoint_data/checkpoint_30.pt\n"
          ],
          "name": "stdout"
        }
      ]
    },
    {
      "cell_type": "code",
      "metadata": {
        "colab_type": "code",
        "id": "rHCNg1E7lW1L",
        "colab": {}
      },
      "source": [
        "parameters = list(character_classifier.parameters()) + list(cpc_model.parameters())\n",
        "LEARNING_RATE = 2e-4\n",
        "optimizer = torch.optim.Adam(parameters, lr=LEARNING_RATE)\n",
        "\n",
        "optimizer_frozen = torch.optim.Adam(list(character_classifier.parameters()), lr=LEARNING_RATE)"
      ],
      "execution_count": 64,
      "outputs": []
    },
    {
      "cell_type": "code",
      "metadata": {
        "colab_type": "code",
        "id": "engpkljbk9hj",
        "colab": {}
      },
      "source": [
        "loss_ctc = torch.nn.CTCLoss()"
      ],
      "execution_count": 65,
      "outputs": []
    },
    {
      "cell_type": "code",
      "metadata": {
        "colab_type": "code",
        "id": "9NBHd2s2kxld",
        "colab": {
          "base_uri": "https://localhost:8080/",
          "height": 1000
        },
        "outputId": "f02f0b28-253d-4898-fa4c-ab930d9830a4"
      },
      "source": [
        "run_ctc(cpc_model,character_classifier,loss_ctc,data_loader_train_letters,data_loader_val_letters,optimizer_frozen,n_epoch=50)"
      ],
      "execution_count": 66,
      "outputs": [
        {
          "output_type": "stream",
          "text": [
            "Running epoch 1 / 50\n",
            "-------------------\n",
            "Training dataset :\n",
            "Average loss : 87.18298326824305.\n",
            "-------------------\n",
            "Validation dataset\n",
            "Average loss : 91.52829293643727\n",
            "-------------------\n",
            "\n",
            "Running epoch 2 / 50\n",
            "-------------------\n",
            "Training dataset :\n",
            "Average loss : 82.01545954889812.\n",
            "-------------------\n",
            "Validation dataset\n",
            "Average loss : 85.65015860164867\n",
            "-------------------\n",
            "\n",
            "Running epoch 3 / 50\n",
            "-------------------\n",
            "Training dataset :\n",
            "Average loss : 76.06594484088365.\n",
            "-------------------\n",
            "Validation dataset\n",
            "Average loss : 78.84832494399127\n",
            "-------------------\n",
            "\n",
            "Running epoch 4 / 50\n",
            "-------------------\n",
            "Training dataset :\n",
            "Average loss : 69.51508139912993.\n",
            "-------------------\n",
            "Validation dataset\n",
            "Average loss : 71.45014863855698\n",
            "-------------------\n",
            "\n",
            "Running epoch 5 / 50\n",
            "-------------------\n",
            "Training dataset :\n",
            "Average loss : 62.72581974068599.\n",
            "-------------------\n",
            "Validation dataset\n",
            "Average loss : 64.50684446447036\n",
            "-------------------\n",
            "\n",
            "Running epoch 6 / 50\n",
            "-------------------\n",
            "Training dataset :\n",
            "Average loss : 56.34269374547965.\n",
            "-------------------\n",
            "Validation dataset\n",
            "Average loss : 57.98847737031824\n",
            "-------------------\n",
            "\n",
            "Running epoch 7 / 50\n",
            "-------------------\n",
            "Training dataset :\n",
            "Average loss : 50.466915351945794.\n",
            "-------------------\n",
            "Validation dataset\n",
            "Average loss : 52.011983534869024\n",
            "-------------------\n",
            "\n",
            "Running epoch 8 / 50\n",
            "-------------------\n",
            "Training dataset :\n",
            "Average loss : 45.063775085345064.\n",
            "-------------------\n",
            "Validation dataset\n",
            "Average loss : 46.588769127340875\n",
            "-------------------\n",
            "\n",
            "Running epoch 9 / 50\n",
            "-------------------\n",
            "Training dataset :\n",
            "Average loss : 40.15349494882004.\n",
            "-------------------\n",
            "Validation dataset\n",
            "Average loss : 41.60681847965016\n",
            "-------------------\n",
            "\n",
            "Running epoch 10 / 50\n",
            "-------------------\n",
            "Training dataset :\n",
            "Average loss : 35.71612576168959.\n",
            "-------------------\n",
            "Validation dataset\n",
            "Average loss : 37.11389025519876\n",
            "-------------------\n",
            "\n",
            "Running epoch 11 / 50\n",
            "-------------------\n",
            "Training dataset :\n",
            "Average loss : 31.790664510108506.\n",
            "-------------------\n",
            "Validation dataset\n",
            "Average loss : 33.143645118264594\n",
            "-------------------\n",
            "\n",
            "Running epoch 12 / 50\n",
            "-------------------\n",
            "Training dataset :\n",
            "Average loss : 28.358875593634597.\n",
            "-------------------\n",
            "Validation dataset\n",
            "Average loss : 29.78246004441205\n",
            "-------------------\n",
            "\n",
            "Running epoch 13 / 50\n",
            "-------------------\n",
            "Training dataset :\n",
            "Average loss : 25.474574124853767.\n",
            "-------------------\n",
            "Validation dataset\n",
            "Average loss : 26.847466973697436\n",
            "-------------------\n",
            "\n",
            "Running epoch 14 / 50\n",
            "-------------------\n",
            "Training dataset :\n",
            "Average loss : 23.033242775718506.\n",
            "-------------------\n",
            "Validation dataset\n",
            "Average loss : 24.383355308981503\n",
            "-------------------\n",
            "\n",
            "Running epoch 15 / 50\n",
            "-------------------\n",
            "Training dataset :\n",
            "Average loss : 21.005889690776733.\n",
            "-------------------\n",
            "Validation dataset\n",
            "Average loss : 22.364973180434284\n",
            "-------------------\n",
            "\n",
            "Running epoch 16 / 50\n",
            "-------------------\n",
            "Training dataset :\n",
            "Average loss : 19.33850139318473.\n",
            "-------------------\n",
            "Validation dataset\n",
            "Average loss : 20.69674570420209\n",
            "-------------------\n",
            "\n",
            "Running epoch 17 / 50\n",
            "-------------------\n",
            "Training dataset :\n",
            "Average loss : 17.975298891295346.\n",
            "-------------------\n",
            "Validation dataset\n",
            "Average loss : 19.292899524464328\n",
            "-------------------\n",
            "\n",
            "Running epoch 18 / 50\n",
            "-------------------\n",
            "Training dataset :\n",
            "Average loss : 16.848876393288883.\n",
            "-------------------\n",
            "Validation dataset\n",
            "Average loss : 18.151870615342084\n",
            "-------------------\n",
            "\n",
            "Running epoch 19 / 50\n",
            "-------------------\n",
            "Training dataset :\n",
            "Average loss : 15.921395881184132.\n",
            "-------------------\n",
            "Validation dataset\n",
            "Average loss : 17.23061045478372\n",
            "-------------------\n",
            "\n",
            "Running epoch 20 / 50\n",
            "-------------------\n",
            "Training dataset :\n",
            "Average loss : 15.159840294118627.\n",
            "-------------------\n",
            "Validation dataset\n",
            "Average loss : 16.46324909434599\n",
            "-------------------\n",
            "\n",
            "Running epoch 21 / 50\n",
            "-------------------\n",
            "Training dataset :\n",
            "Average loss : 14.526153199908677.\n",
            "-------------------\n",
            "Validation dataset\n",
            "Average loss : 15.814851087682387\n",
            "-------------------\n",
            "\n",
            "Running epoch 22 / 50\n",
            "-------------------\n",
            "Training dataset :\n",
            "Average loss : 13.994073317726318.\n",
            "-------------------\n",
            "Validation dataset\n",
            "Average loss : 15.28362683688893\n",
            "-------------------\n",
            "\n",
            "Running epoch 23 / 50\n",
            "-------------------\n",
            "Training dataset :\n",
            "Average loss : 13.548176378113418.\n",
            "-------------------\n",
            "Validation dataset\n",
            "Average loss : 14.841914120842429\n",
            "-------------------\n",
            "\n",
            "Running epoch 24 / 50\n",
            "-------------------\n",
            "Training dataset :\n",
            "Average loss : 13.168919462392761.\n",
            "-------------------\n",
            "Validation dataset\n",
            "Average loss : 14.455253601074219\n",
            "-------------------\n",
            "\n",
            "Running epoch 25 / 50\n",
            "-------------------\n",
            "Training dataset :\n",
            "Average loss : 12.842678968410036.\n",
            "-------------------\n",
            "Validation dataset\n",
            "Average loss : 14.13518647586598\n",
            "-------------------\n",
            "\n",
            "Running epoch 26 / 50\n",
            "-------------------\n",
            "Training dataset :\n",
            "Average loss : 12.563034213850523.\n",
            "-------------------\n",
            "Validation dataset\n",
            "Average loss : 13.856788410859949\n",
            "-------------------\n",
            "\n",
            "Running epoch 27 / 50\n",
            "-------------------\n",
            "Training dataset :\n",
            "Average loss : 12.32088568755791.\n",
            "-------------------\n",
            "Validation dataset\n",
            "Average loss : 13.618724486407112\n",
            "-------------------\n",
            "\n",
            "Running epoch 28 / 50\n",
            "-------------------\n",
            "Training dataset :\n",
            "Average loss : 12.107598731135345.\n",
            "-------------------\n",
            "Validation dataset\n",
            "Average loss : 13.408358630012064\n",
            "-------------------\n",
            "\n",
            "Running epoch 29 / 50\n",
            "-------------------\n",
            "Training dataset :\n",
            "Average loss : 11.920685657462162.\n",
            "-------------------\n",
            "Validation dataset\n",
            "Average loss : 13.230220570283777\n",
            "-------------------\n",
            "\n",
            "Running epoch 30 / 50\n",
            "-------------------\n",
            "Training dataset :\n",
            "Average loss : 11.752408737208656.\n",
            "-------------------\n",
            "Validation dataset\n",
            "Average loss : 13.067869579090791\n",
            "-------------------\n",
            "\n",
            "Running epoch 31 / 50\n",
            "-------------------\n",
            "Training dataset :\n",
            "Average loss : 11.603597129978011.\n",
            "-------------------\n",
            "Validation dataset\n",
            "Average loss : 12.924226985258215\n",
            "-------------------\n",
            "\n",
            "Running epoch 32 / 50\n",
            "-------------------\n",
            "Training dataset :\n",
            "Average loss : 11.470101014745927.\n",
            "-------------------\n",
            "Validation dataset\n",
            "Average loss : 12.800756342270795\n",
            "-------------------\n",
            "\n",
            "Running epoch 33 / 50\n",
            "-------------------\n",
            "Training dataset :\n",
            "Average loss : 11.34760644085985.\n",
            "-------------------\n",
            "Validation dataset\n",
            "Average loss : 12.684367684757008\n",
            "-------------------\n",
            "\n",
            "Running epoch 34 / 50\n",
            "-------------------\n",
            "Training dataset :\n",
            "Average loss : 11.235879016003917.\n",
            "-------------------\n",
            "Validation dataset\n",
            "Average loss : 12.578419292674345\n",
            "-------------------\n",
            "\n",
            "Running epoch 35 / 50\n",
            "-------------------\n",
            "Training dataset :\n",
            "Average loss : 11.134681936010159.\n",
            "-------------------\n",
            "Validation dataset\n",
            "Average loss : 12.481688218958238\n",
            "-------------------\n",
            "\n",
            "Running epoch 36 / 50\n",
            "-------------------\n",
            "Training dataset :\n",
            "Average loss : 11.045317076985746.\n",
            "-------------------\n",
            "Validation dataset\n",
            "Average loss : 12.394890336429372\n",
            "-------------------\n",
            "\n",
            "Running epoch 37 / 50\n",
            "-------------------\n",
            "Training dataset :\n",
            "Average loss : 10.956205032791294.\n",
            "-------------------\n",
            "Validation dataset\n",
            "Average loss : 12.318136187160716\n",
            "-------------------\n",
            "\n",
            "Running epoch 38 / 50\n",
            "-------------------\n",
            "Training dataset :\n",
            "Average loss : 10.879099748240396.\n",
            "-------------------\n",
            "Validation dataset\n",
            "Average loss : 12.251310236313763\n",
            "-------------------\n",
            "\n",
            "Running epoch 39 / 50\n",
            "-------------------\n",
            "Training dataset :\n",
            "Average loss : 10.80510107893179.\n",
            "-------------------\n",
            "Validation dataset\n",
            "Average loss : 12.174939099480124\n",
            "-------------------\n",
            "\n",
            "Running epoch 40 / 50\n",
            "-------------------\n",
            "Training dataset :\n",
            "Average loss : 10.737743970070277.\n",
            "-------------------\n",
            "Validation dataset\n",
            "Average loss : 12.1243257522583\n",
            "-------------------\n",
            "\n",
            "Running epoch 41 / 50\n",
            "-------------------\n",
            "Training dataset :\n",
            "Average loss : 10.672667737706936.\n",
            "-------------------\n",
            "Validation dataset\n",
            "Average loss : 12.056346781113568\n",
            "-------------------\n",
            "\n",
            "Running epoch 42 / 50\n",
            "-------------------\n",
            "Training dataset :\n",
            "Average loss : 10.611940273245853.\n",
            "-------------------\n",
            "Validation dataset\n",
            "Average loss : 12.006583886988023\n",
            "-------------------\n",
            "\n",
            "Running epoch 43 / 50\n",
            "-------------------\n",
            "Training dataset :\n",
            "Average loss : 10.556132176630326.\n",
            "-------------------\n",
            "Validation dataset\n",
            "Average loss : 11.957366943359375\n",
            "-------------------\n",
            "\n",
            "Running epoch 44 / 50\n",
            "-------------------\n",
            "Training dataset :\n",
            "Average loss : 10.501715433882366.\n",
            "-------------------\n",
            "Validation dataset\n",
            "Average loss : 11.904449070201201\n",
            "-------------------\n",
            "\n",
            "Running epoch 45 / 50\n",
            "-------------------\n",
            "Training dataset :\n",
            "Average loss : 10.457000638030902.\n",
            "-------------------\n",
            "Validation dataset\n",
            "Average loss : 11.8496514488669\n",
            "-------------------\n",
            "\n",
            "Running epoch 46 / 50\n",
            "-------------------\n",
            "Training dataset :\n",
            "Average loss : 10.406589423430251.\n",
            "-------------------\n",
            "Validation dataset\n",
            "Average loss : 11.823536087484921\n",
            "-------------------\n",
            "\n",
            "Running epoch 47 / 50\n",
            "-------------------\n",
            "Training dataset :\n",
            "Average loss : 10.364324039159781.\n",
            "-------------------\n",
            "Validation dataset\n",
            "Average loss : 11.765678966746611\n",
            "-------------------\n",
            "\n",
            "Running epoch 48 / 50\n",
            "-------------------\n",
            "Training dataset :\n",
            "Average loss : 10.319832954797322.\n",
            "-------------------\n",
            "Validation dataset\n",
            "Average loss : 11.738829809076647\n",
            "-------------------\n",
            "\n",
            "Running epoch 49 / 50\n",
            "-------------------\n",
            "Training dataset :\n",
            "Average loss : 10.279008521968594.\n",
            "-------------------\n",
            "Validation dataset\n",
            "Average loss : 11.703149683335248\n",
            "-------------------\n",
            "\n",
            "Running epoch 50 / 50\n",
            "-------------------\n",
            "Training dataset :\n",
            "Average loss : 10.241211339475353.\n",
            "-------------------\n",
            "Validation dataset\n",
            "Average loss : 11.676774782292982\n",
            "-------------------\n",
            "\n"
          ],
          "name": "stdout"
        },
        {
          "output_type": "display_data",
          "data": {
            "image/png": "[encoded data removed]",
            "text/plain": [
              "<Figure size 432x288 with 1 Axes>"
            ]
          },
          "metadata": {
            "tags": [],
            "needs_background": "light"
          }
        }
      ]
    },
    {
      "cell_type": "code",
      "metadata": {
        "colab_type": "code",
        "id": "A8oxFr1jm17P",
        "colab": {
          "base_uri": "https://localhost:8080/",
          "height": 104
        },
        "outputId": "0bc07461-d77e-41a6-a26b-939a38a950ff"
      },
      "source": [
        "    cer = get_per(data_loader_val_letters,cpc_model,character_classifier)\n",
        "print(cer)"
      ],
      "execution_count": 67,
      "outputs": [
        {
          "output_type": "stream",
          "text": [
            "\r                                                                               \r\rN/A% (0 of 9) |                          | Elapsed Time: 0:00:00 ETA:  --:--:--"
          ],
          "name": "stderr"
        },
        {
          "output_type": "stream",
          "text": [
            "Starting the PER computation through beam search\n"
          ],
          "name": "stdout"
        },
        {
          "output_type": "stream",
          "text": [
            "100% (9 of 9) |##########################| Elapsed Time: 0:02:33 Time:  0:02:33\n"
          ],
          "name": "stderr"
        },
        {
          "output_type": "stream",
          "text": [
            "Average PER 0.9539386272299728\n",
            "0.9539386272299728\n"
          ],
          "name": "stdout"
        }
      ]
    },
    {
      "cell_type": "code",
      "metadata": {
        "id": "5rZp30HEMK8d",
        "colab_type": "code",
        "colab": {
          "base_uri": "https://localhost:8080/",
          "height": 104
        },
        "outputId": "691d0055-83f7-470f-b485-470acd624089"
      },
      "source": [
        "cer = get_per(data_loader_test_letters,cpc_model,character_classifier)\n",
        "print(cer)"
      ],
      "execution_count": 68,
      "outputs": [
        {
          "output_type": "stream",
          "text": [
            "\r                                                                               \r\rN/A% (0 of 68) |                         | Elapsed Time: 0:00:00 ETA:  --:--:--"
          ],
          "name": "stderr"
        },
        {
          "output_type": "stream",
          "text": [
            "Starting the PER computation through beam search\n"
          ],
          "name": "stdout"
        },
        {
          "output_type": "stream",
          "text": [
            "100% (68 of 68) |########################| Elapsed Time: 0:07:00 Time:  0:07:00\n"
          ],
          "name": "stderr"
        },
        {
          "output_type": "stream",
          "text": [
            "Average PER 0.9481352867220362\n",
            "0.9481352867220362\n"
          ],
          "name": "stdout"
        }
      ]
    },
    {
      "cell_type": "markdown",
      "metadata": {
        "id": "MfvEtL3zdc5-",
        "colab_type": "text"
      },
      "source": [
        "## Using Test Files"
      ]
    },
    {
      "cell_type": "markdown",
      "metadata": {
        "id": "K7ABjAvuvyFa",
        "colab_type": "text"
      },
      "source": [
        "Character Error Rate"
      ]
    },
    {
      "cell_type": "code",
      "metadata": {
        "id": "yzq8EKCWi66w",
        "colab_type": "code",
        "colab": {
          "base_uri": "https://localhost:8080/",
          "height": 139
        },
        "outputId": "5771070f-7571-45ae-aa15-74f8f38d9400"
      },
      "source": [
        "from cpc.eval.common_voices_eval import SingleSequenceDataset, parseSeqLabels, findAllSeqs\n",
        "path_test_data_cer = '/content/drive/My Drive/Speech Rec Project/data/test'\n",
        "path_letter_data_cer = '/content/drive/My Drive/Speech Rec Project/data/all_sessions.txt'\n",
        "BATCH_SIZE=8\n",
        "letters_labels, N_LETTERS = parseSeqLabels(path_letter_data_cer)\n",
        "data_train_cer, _ = findAllSeqs(path_test_data_cer, extension='.wav')\n",
        "dataset_test_non_aligned = SingleSequenceDataset(path_test_data_cer, data_train_cer, letters_labels)\n",
        "# The data loader will generate a tuple of tensors data, labels for each batch\n",
        "# data : size N x T1 x 1 : the audio sequence\n",
        "# label : size N x T2 the sequence of letters corresponding to the audio data\n",
        "# IMPORTANT NOTE: just like the PER the CER is computed with non-aligned phone data.\n",
        "data_loader_test_letters = torch.utils.data.DataLoader(dataset_test_non_aligned, batch_size=BATCH_SIZE,\n",
        "                                                shuffle=True)\n"
      ],
      "execution_count": 60,
      "outputs": [
        {
          "output_type": "stream",
          "text": [
            "4it [00:00, 202.74it/s]"
          ],
          "name": "stderr"
        },
        {
          "output_type": "stream",
          "text": [
            "Saved cache file at /content/drive/My Drive/Speech Rec Project/data/test/_seqs_cache.txt\n"
          ],
          "name": "stdout"
        },
        {
          "output_type": "stream",
          "text": [
            "\n"
          ],
          "name": "stderr"
        },
        {
          "output_type": "stream",
          "text": [
            "Loaded 544 sequences in 3.61 seconds\n",
            "maxSizeSeq : 203643\n",
            "maxSizePhone : 73\n",
            "minSizePhone : 12\n",
            "Total size dataset 0.7622940798611111 hours\n"
          ],
          "name": "stdout"
        }
      ]
    },
    {
      "cell_type": "code",
      "metadata": {
        "id": "Na29__Usk9dg",
        "colab_type": "code",
        "colab": {}
      },
      "source": [
        "loss = validation_step(cpc_model,  character_classifier, loss_ctc, data_loader_test_letters)\n",
        " "
      ],
      "execution_count": null,
      "outputs": []
    },
    {
      "cell_type": "code",
      "metadata": {
        "id": "vktrn-Ju1mx8",
        "colab_type": "code",
        "colab": {
          "base_uri": "https://localhost:8080/",
          "height": 34
        },
        "outputId": "06647e56-7b6f-4204-c43a-c6081e413954"
      },
      "source": [
        "print(f\"Average loss for test data : {loss}\")"
      ],
      "execution_count": null,
      "outputs": [
        {
          "output_type": "stream",
          "text": [
            "Average loss for test data : 4.928450166410724\n"
          ],
          "name": "stdout"
        }
      ]
    }
  ]
}