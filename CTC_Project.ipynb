{
  "nbformat": 4,
  "nbformat_minor": 0,
  "metadata": {
    "accelerator": "GPU",
    "colab": {
      "name": "CTC Project.ipynb",
      "provenance": [],
      "collapsed_sections": [],
      "toc_visible": true,
      "include_colab_link": true
    },
    "kernelspec": {
      "display_name": "Python 3",
      "language": "python",
      "name": "python3"
    },
    "language_info": {
      "codemirror_mode": {
        "name": "ipython",
        "version": 3
      },
      "file_extension": ".py",
      "mimetype": "text/x-python",
      "name": "python",
      "nbconvert_exporter": "python",
      "pygments_lexer": "ipython3",
      "version": "3.7.3"
    }
  },
  "cells": [
    {
      "cell_type": "markdown",
      "metadata": {
        "id": "view-in-github",
        "colab_type": "text"
      },
      "source": [
        "<a href=\"https://colab.research.google.com/github/lkidane/AMMI-2020-Speech-Recognition-Tigrinya-Audio-dataset/blob/master/CTC_Project.ipynb\" target=\"_parent\"><img src=\"https://colab.research.google.com/assets/colab-badge.svg\" alt=\"Open In Colab\"/></a>"
      ]
    },
    {
      "cell_type": "code",
      "metadata": {
        "colab_type": "code",
        "id": "jzzuGAMna4NG",
        "colab": {}
      },
      "source": [
        "from pydrive.auth import GoogleAuth\n",
        "from pydrive.drive import GoogleDrive\n",
        "from google.colab import auth\n",
        "from oauth2client.client import GoogleCredentials\n",
        "auth.authenticate_user()\n",
        "gauth = GoogleAuth()\n",
        "gauth.credentials = GoogleCredentials.get_application_default()\n",
        "drive = GoogleDrive(gauth)\n",
        "import matplotlib.pyplot as plt\n"
      ],
      "execution_count": 1,
      "outputs": []
    },
    {
      "cell_type": "code",
      "metadata": {
        "id": "7MYDQlReQGJ4",
        "colab_type": "code",
        "colab": {
          "base_uri": "https://localhost:8080/",
          "height": 124
        },
        "outputId": "c15f0e88-f8de-4db7-c983-f5136ca0404d"
      },
      "source": [
        "\n",
        "\n",
        "from google.colab import drive\n",
        "drive.mount('/content/drive')"
      ],
      "execution_count": 2,
      "outputs": [
        {
          "output_type": "stream",
          "text": [
            "Go to this URL in a browser: https://accounts.google.com/o/oauth2/auth?client_id=947318989803-6bn6qk8qdgf4n4g3pfee6491hc0brc4i.apps.googleusercontent.com&redirect_uri=urn%3aietf%3awg%3aoauth%3a2.0%3aoob&response_type=code&scope=email%20https%3a%2f%2fwww.googleapis.com%2fauth%2fdocs.test%20https%3a%2f%2fwww.googleapis.com%2fauth%2fdrive%20https%3a%2f%2fwww.googleapis.com%2fauth%2fdrive.photos.readonly%20https%3a%2f%2fwww.googleapis.com%2fauth%2fpeopleapi.readonly\n",
            "\n",
            "Enter your authorization code:\n",
            "··········\n",
            "Mounted at /content/drive\n"
          ],
          "name": "stdout"
        }
      ]
    },
    {
      "cell_type": "code",
      "metadata": {
        "id": "Rnawpgb5BMRe",
        "colab_type": "code",
        "colab": {
          "base_uri": "https://localhost:8080/",
          "height": 523
        },
        "outputId": "0bfd9c94-11cc-4a8b-e21b-820bb137ac14"
      },
      "source": [
        "!pip install torchaudio\n",
        "!pip install PyDrive\n",
        "!pip install soundfile"
      ],
      "execution_count": 3,
      "outputs": [
        {
          "output_type": "stream",
          "text": [
            "Collecting torchaudio\n",
            "\u001b[?25l  Downloading https://files.pythonhosted.org/packages/e9/0a/40e53c686c2af65b2a4e818d11d9b76fa79178440caf99f3ceb2a32c3b04/torchaudio-0.5.1-cp36-cp36m-manylinux1_x86_64.whl (3.2MB)\n",
            "\r\u001b[K     |                                | 10kB 16.6MB/s eta 0:00:01\r\u001b[K     |▏                               | 20kB 1.8MB/s eta 0:00:02\r\u001b[K     |▎                               | 30kB 2.3MB/s eta 0:00:02\r\u001b[K     |▍                               | 40kB 2.6MB/s eta 0:00:02\r\u001b[K     |▌                               | 51kB 2.1MB/s eta 0:00:02\r\u001b[K     |▋                               | 61kB 2.3MB/s eta 0:00:02\r\u001b[K     |▊                               | 71kB 2.6MB/s eta 0:00:02\r\u001b[K     |▉                               | 81kB 2.8MB/s eta 0:00:02\r\u001b[K     |█                               | 92kB 3.0MB/s eta 0:00:02\r\u001b[K     |█                               | 102kB 2.9MB/s eta 0:00:02\r\u001b[K     |█▏                              | 112kB 2.9MB/s eta 0:00:02\r\u001b[K     |█▎                              | 122kB 2.9MB/s eta 0:00:02\r\u001b[K     |█▍                              | 133kB 2.9MB/s eta 0:00:02\r\u001b[K     |█▍                              | 143kB 2.9MB/s eta 0:00:02\r\u001b[K     |█▌                              | 153kB 2.9MB/s eta 0:00:02\r\u001b[K     |█▋                              | 163kB 2.9MB/s eta 0:00:02\r\u001b[K     |█▊                              | 174kB 2.9MB/s eta 0:00:02\r\u001b[K     |█▉                              | 184kB 2.9MB/s eta 0:00:02\r\u001b[K     |██                              | 194kB 2.9MB/s eta 0:00:02\r\u001b[K     |██                              | 204kB 2.9MB/s eta 0:00:02\r\u001b[K     |██▏                             | 215kB 2.9MB/s eta 0:00:02\r\u001b[K     |██▎                             | 225kB 2.9MB/s eta 0:00:02\r\u001b[K     |██▍                             | 235kB 2.9MB/s eta 0:00:02\r\u001b[K     |██▌                             | 245kB 2.9MB/s eta 0:00:02\r\u001b[K     |██▋                             | 256kB 2.9MB/s eta 0:00:02\r\u001b[K     |██▊                             | 266kB 2.9MB/s eta 0:00:02\r\u001b[K     |██▊                             | 276kB 2.9MB/s eta 0:00:02\r\u001b[K     |██▉                             | 286kB 2.9MB/s eta 0:00:02\r\u001b[K     |███                             | 296kB 2.9MB/s eta 0:00:02\r\u001b[K     |███                             | 307kB 2.9MB/s eta 0:00:02\r\u001b[K     |███▏                            | 317kB 2.9MB/s eta 0:00:02\r\u001b[K     |███▎                            | 327kB 2.9MB/s eta 0:00:02\r\u001b[K     |███▍                            | 337kB 2.9MB/s eta 0:00:01\r\u001b[K     |███▌                            | 348kB 2.9MB/s eta 0:00:01\r\u001b[K     |███▋                            | 358kB 2.9MB/s eta 0:00:01\r\u001b[K     |███▊                            | 368kB 2.9MB/s eta 0:00:01\r\u001b[K     |███▉                            | 378kB 2.9MB/s eta 0:00:01\r\u001b[K     |████                            | 389kB 2.9MB/s eta 0:00:01\r\u001b[K     |████                            | 399kB 2.9MB/s eta 0:00:01\r\u001b[K     |████▏                           | 409kB 2.9MB/s eta 0:00:01\r\u001b[K     |████▏                           | 419kB 2.9MB/s eta 0:00:01\r\u001b[K     |████▎                           | 430kB 2.9MB/s eta 0:00:01\r\u001b[K     |████▍                           | 440kB 2.9MB/s eta 0:00:01\r\u001b[K     |████▌                           | 450kB 2.9MB/s eta 0:00:01\r\u001b[K     |████▋                           | 460kB 2.9MB/s eta 0:00:01\r\u001b[K     |████▊                           | 471kB 2.9MB/s eta 0:00:01\r\u001b[K     |████▉                           | 481kB 2.9MB/s eta 0:00:01\r\u001b[K     |█████                           | 491kB 2.9MB/s eta 0:00:01\r\u001b[K     |█████                           | 501kB 2.9MB/s eta 0:00:01\r\u001b[K     |█████▏                          | 512kB 2.9MB/s eta 0:00:01\r\u001b[K     |█████▎                          | 522kB 2.9MB/s eta 0:00:01\r\u001b[K     |█████▍                          | 532kB 2.9MB/s eta 0:00:01\r\u001b[K     |█████▌                          | 542kB 2.9MB/s eta 0:00:01\r\u001b[K     |█████▌                          | 552kB 2.9MB/s eta 0:00:01\r\u001b[K     |█████▋                          | 563kB 2.9MB/s eta 0:00:01\r\u001b[K     |█████▊                          | 573kB 2.9MB/s eta 0:00:01\r\u001b[K     |█████▉                          | 583kB 2.9MB/s eta 0:00:01\r\u001b[K     |██████                          | 593kB 2.9MB/s eta 0:00:01\r\u001b[K     |██████                          | 604kB 2.9MB/s eta 0:00:01\r\u001b[K     |██████▏                         | 614kB 2.9MB/s eta 0:00:01\r\u001b[K     |██████▎                         | 624kB 2.9MB/s eta 0:00:01\r\u001b[K     |██████▍                         | 634kB 2.9MB/s eta 0:00:01\r\u001b[K     |██████▌                         | 645kB 2.9MB/s eta 0:00:01\r\u001b[K     |██████▋                         | 655kB 2.9MB/s eta 0:00:01\r\u001b[K     |██████▊                         | 665kB 2.9MB/s eta 0:00:01\r\u001b[K     |██████▉                         | 675kB 2.9MB/s eta 0:00:01\r\u001b[K     |██████▉                         | 686kB 2.9MB/s eta 0:00:01\r\u001b[K     |███████                         | 696kB 2.9MB/s eta 0:00:01\r\u001b[K     |███████                         | 706kB 2.9MB/s eta 0:00:01\r\u001b[K     |███████▏                        | 716kB 2.9MB/s eta 0:00:01\r\u001b[K     |███████▎                        | 727kB 2.9MB/s eta 0:00:01\r\u001b[K     |███████▍                        | 737kB 2.9MB/s eta 0:00:01\r\u001b[K     |███████▌                        | 747kB 2.9MB/s eta 0:00:01\r\u001b[K     |███████▋                        | 757kB 2.9MB/s eta 0:00:01\r\u001b[K     |███████▊                        | 768kB 2.9MB/s eta 0:00:01\r\u001b[K     |███████▉                        | 778kB 2.9MB/s eta 0:00:01\r\u001b[K     |████████                        | 788kB 2.9MB/s eta 0:00:01\r\u001b[K     |████████                        | 798kB 2.9MB/s eta 0:00:01\r\u001b[K     |████████▏                       | 808kB 2.9MB/s eta 0:00:01\r\u001b[K     |████████▎                       | 819kB 2.9MB/s eta 0:00:01\r\u001b[K     |████████▎                       | 829kB 2.9MB/s eta 0:00:01\r\u001b[K     |████████▍                       | 839kB 2.9MB/s eta 0:00:01\r\u001b[K     |████████▌                       | 849kB 2.9MB/s eta 0:00:01\r\u001b[K     |████████▋                       | 860kB 2.9MB/s eta 0:00:01\r\u001b[K     |████████▊                       | 870kB 2.9MB/s eta 0:00:01\r\u001b[K     |████████▉                       | 880kB 2.9MB/s eta 0:00:01\r\u001b[K     |█████████                       | 890kB 2.9MB/s eta 0:00:01\r\u001b[K     |█████████                       | 901kB 2.9MB/s eta 0:00:01\r\u001b[K     |█████████▏                      | 911kB 2.9MB/s eta 0:00:01\r\u001b[K     |█████████▎                      | 921kB 2.9MB/s eta 0:00:01\r\u001b[K     |█████████▍                      | 931kB 2.9MB/s eta 0:00:01\r\u001b[K     |█████████▌                      | 942kB 2.9MB/s eta 0:00:01\r\u001b[K     |█████████▋                      | 952kB 2.9MB/s eta 0:00:01\r\u001b[K     |█████████▋                      | 962kB 2.9MB/s eta 0:00:01\r\u001b[K     |█████████▊                      | 972kB 2.9MB/s eta 0:00:01\r\u001b[K     |█████████▉                      | 983kB 2.9MB/s eta 0:00:01\r\u001b[K     |██████████                      | 993kB 2.9MB/s eta 0:00:01\r\u001b[K     |██████████                      | 1.0MB 2.9MB/s eta 0:00:01\r\u001b[K     |██████████▏                     | 1.0MB 2.9MB/s eta 0:00:01\r\u001b[K     |██████████▎                     | 1.0MB 2.9MB/s eta 0:00:01\r\u001b[K     |██████████▍                     | 1.0MB 2.9MB/s eta 0:00:01\r\u001b[K     |██████████▌                     | 1.0MB 2.9MB/s eta 0:00:01\r\u001b[K     |██████████▋                     | 1.1MB 2.9MB/s eta 0:00:01\r\u001b[K     |██████████▊                     | 1.1MB 2.9MB/s eta 0:00:01\r\u001b[K     |██████████▉                     | 1.1MB 2.9MB/s eta 0:00:01\r\u001b[K     |███████████                     | 1.1MB 2.9MB/s eta 0:00:01\r\u001b[K     |███████████                     | 1.1MB 2.9MB/s eta 0:00:01\r\u001b[K     |███████████                     | 1.1MB 2.9MB/s eta 0:00:01\r\u001b[K     |███████████▏                    | 1.1MB 2.9MB/s eta 0:00:01\r\u001b[K     |███████████▎                    | 1.1MB 2.9MB/s eta 0:00:01\r\u001b[K     |███████████▍                    | 1.1MB 2.9MB/s eta 0:00:01\r\u001b[K     |███████████▌                    | 1.1MB 2.9MB/s eta 0:00:01\r\u001b[K     |███████████▋                    | 1.2MB 2.9MB/s eta 0:00:01\r\u001b[K     |███████████▊                    | 1.2MB 2.9MB/s eta 0:00:01\r\u001b[K     |███████████▉                    | 1.2MB 2.9MB/s eta 0:00:01\r\u001b[K     |████████████                    | 1.2MB 2.9MB/s eta 0:00:01\r\u001b[K     |████████████                    | 1.2MB 2.9MB/s eta 0:00:01\r\u001b[K     |████████████▏                   | 1.2MB 2.9MB/s eta 0:00:01\r\u001b[K     |████████████▎                   | 1.2MB 2.9MB/s eta 0:00:01\r\u001b[K     |████████████▍                   | 1.2MB 2.9MB/s eta 0:00:01\r\u001b[K     |████████████▍                   | 1.2MB 2.9MB/s eta 0:00:01\r\u001b[K     |████████████▌                   | 1.2MB 2.9MB/s eta 0:00:01\r\u001b[K     |████████████▋                   | 1.3MB 2.9MB/s eta 0:00:01\r\u001b[K     |████████████▊                   | 1.3MB 2.9MB/s eta 0:00:01\r\u001b[K     |████████████▉                   | 1.3MB 2.9MB/s eta 0:00:01\r\u001b[K     |█████████████                   | 1.3MB 2.9MB/s eta 0:00:01\r\u001b[K     |█████████████                   | 1.3MB 2.9MB/s eta 0:00:01\r\u001b[K     |█████████████▏                  | 1.3MB 2.9MB/s eta 0:00:01\r\u001b[K     |█████████████▎                  | 1.3MB 2.9MB/s eta 0:00:01\r\u001b[K     |█████████████▍                  | 1.3MB 2.9MB/s eta 0:00:01\r\u001b[K     |█████████████▌                  | 1.3MB 2.9MB/s eta 0:00:01\r\u001b[K     |█████████████▋                  | 1.4MB 2.9MB/s eta 0:00:01\r\u001b[K     |█████████████▊                  | 1.4MB 2.9MB/s eta 0:00:01\r\u001b[K     |█████████████▊                  | 1.4MB 2.9MB/s eta 0:00:01\r\u001b[K     |█████████████▉                  | 1.4MB 2.9MB/s eta 0:00:01\r\u001b[K     |██████████████                  | 1.4MB 2.9MB/s eta 0:00:01\r\u001b[K     |██████████████                  | 1.4MB 2.9MB/s eta 0:00:01\r\u001b[K     |██████████████▏                 | 1.4MB 2.9MB/s eta 0:00:01\r\u001b[K     |██████████████▎                 | 1.4MB 2.9MB/s eta 0:00:01\r\u001b[K     |██████████████▍                 | 1.4MB 2.9MB/s eta 0:00:01\r\u001b[K     |██████████████▌                 | 1.4MB 2.9MB/s eta 0:00:01\r\u001b[K     |██████████████▋                 | 1.5MB 2.9MB/s eta 0:00:01\r\u001b[K     |██████████████▊                 | 1.5MB 2.9MB/s eta 0:00:01\r\u001b[K     |██████████████▉                 | 1.5MB 2.9MB/s eta 0:00:01\r\u001b[K     |███████████████                 | 1.5MB 2.9MB/s eta 0:00:01\r\u001b[K     |███████████████                 | 1.5MB 2.9MB/s eta 0:00:01\r\u001b[K     |███████████████                 | 1.5MB 2.9MB/s eta 0:00:01\r\u001b[K     |███████████████▏                | 1.5MB 2.9MB/s eta 0:00:01\r\u001b[K     |███████████████▎                | 1.5MB 2.9MB/s eta 0:00:01\r\u001b[K     |███████████████▍                | 1.5MB 2.9MB/s eta 0:00:01\r\u001b[K     |███████████████▌                | 1.5MB 2.9MB/s eta 0:00:01\r\u001b[K     |███████████████▋                | 1.6MB 2.9MB/s eta 0:00:01\r\u001b[K     |███████████████▊                | 1.6MB 2.9MB/s eta 0:00:01\r\u001b[K     |███████████████▉                | 1.6MB 2.9MB/s eta 0:00:01\r\u001b[K     |████████████████                | 1.6MB 2.9MB/s eta 0:00:01\r\u001b[K     |████████████████                | 1.6MB 2.9MB/s eta 0:00:01\r\u001b[K     |████████████████▏               | 1.6MB 2.9MB/s eta 0:00:01\r\u001b[K     |████████████████▎               | 1.6MB 2.9MB/s eta 0:00:01\r\u001b[K     |████████████████▍               | 1.6MB 2.9MB/s eta 0:00:01\r\u001b[K     |████████████████▌               | 1.6MB 2.9MB/s eta 0:00:01\r\u001b[K     |████████████████▌               | 1.6MB 2.9MB/s eta 0:00:01\r\u001b[K     |████████████████▋               | 1.7MB 2.9MB/s eta 0:00:01\r\u001b[K     |████████████████▊               | 1.7MB 2.9MB/s eta 0:00:01\r\u001b[K     |████████████████▉               | 1.7MB 2.9MB/s eta 0:00:01\r\u001b[K     |█████████████████               | 1.7MB 2.9MB/s eta 0:00:01\r\u001b[K     |█████████████████               | 1.7MB 2.9MB/s eta 0:00:01\r\u001b[K     |█████████████████▏              | 1.7MB 2.9MB/s eta 0:00:01\r\u001b[K     |█████████████████▎              | 1.7MB 2.9MB/s eta 0:00:01\r\u001b[K     |█████████████████▍              | 1.7MB 2.9MB/s eta 0:00:01\r\u001b[K     |█████████████████▌              | 1.7MB 2.9MB/s eta 0:00:01\r\u001b[K     |█████████████████▋              | 1.8MB 2.9MB/s eta 0:00:01\r\u001b[K     |█████████████████▊              | 1.8MB 2.9MB/s eta 0:00:01\r\u001b[K     |█████████████████▉              | 1.8MB 2.9MB/s eta 0:00:01\r\u001b[K     |█████████████████▉              | 1.8MB 2.9MB/s eta 0:00:01\r\u001b[K     |██████████████████              | 1.8MB 2.9MB/s eta 0:00:01\r\u001b[K     |██████████████████              | 1.8MB 2.9MB/s eta 0:00:01\r\u001b[K     |██████████████████▏             | 1.8MB 2.9MB/s eta 0:00:01\r\u001b[K     |██████████████████▎             | 1.8MB 2.9MB/s eta 0:00:01\r\u001b[K     |██████████████████▍             | 1.8MB 2.9MB/s eta 0:00:01\r\u001b[K     |██████████████████▌             | 1.8MB 2.9MB/s eta 0:00:01\r\u001b[K     |██████████████████▋             | 1.9MB 2.9MB/s eta 0:00:01\r\u001b[K     |██████████████████▊             | 1.9MB 2.9MB/s eta 0:00:01\r\u001b[K     |██████████████████▉             | 1.9MB 2.9MB/s eta 0:00:01\r\u001b[K     |███████████████████             | 1.9MB 2.9MB/s eta 0:00:01\r\u001b[K     |███████████████████             | 1.9MB 2.9MB/s eta 0:00:01\r\u001b[K     |███████████████████▏            | 1.9MB 2.9MB/s eta 0:00:01\r\u001b[K     |███████████████████▏            | 1.9MB 2.9MB/s eta 0:00:01\r\u001b[K     |███████████████████▎            | 1.9MB 2.9MB/s eta 0:00:01\r\u001b[K     |███████████████████▍            | 1.9MB 2.9MB/s eta 0:00:01\r\u001b[K     |███████████████████▌            | 1.9MB 2.9MB/s eta 0:00:01\r\u001b[K     |███████████████████▋            | 2.0MB 2.9MB/s eta 0:00:01\r\u001b[K     |███████████████████▊            | 2.0MB 2.9MB/s eta 0:00:01\r\u001b[K     |███████████████████▉            | 2.0MB 2.9MB/s eta 0:00:01\r\u001b[K     |████████████████████            | 2.0MB 2.9MB/s eta 0:00:01\r\u001b[K     |████████████████████            | 2.0MB 2.9MB/s eta 0:00:01\r\u001b[K     |████████████████████▏           | 2.0MB 2.9MB/s eta 0:00:01\r\u001b[K     |████████████████████▎           | 2.0MB 2.9MB/s eta 0:00:01\r\u001b[K     |████████████████████▍           | 2.0MB 2.9MB/s eta 0:00:01\r\u001b[K     |████████████████████▌           | 2.0MB 2.9MB/s eta 0:00:01\r\u001b[K     |████████████████████▋           | 2.0MB 2.9MB/s eta 0:00:01\r\u001b[K     |████████████████████▋           | 2.1MB 2.9MB/s eta 0:00:01\r\u001b[K     |████████████████████▊           | 2.1MB 2.9MB/s eta 0:00:01\r\u001b[K     |████████████████████▉           | 2.1MB 2.9MB/s eta 0:00:01\r\u001b[K     |█████████████████████           | 2.1MB 2.9MB/s eta 0:00:01\r\u001b[K     |█████████████████████           | 2.1MB 2.9MB/s eta 0:00:01\r\u001b[K     |█████████████████████▏          | 2.1MB 2.9MB/s eta 0:00:01\r\u001b[K     |█████████████████████▎          | 2.1MB 2.9MB/s eta 0:00:01\r\u001b[K     |█████████████████████▍          | 2.1MB 2.9MB/s eta 0:00:01\r\u001b[K     |█████████████████████▌          | 2.1MB 2.9MB/s eta 0:00:01\r\u001b[K     |█████████████████████▋          | 2.2MB 2.9MB/s eta 0:00:01\r\u001b[K     |█████████████████████▊          | 2.2MB 2.9MB/s eta 0:00:01\r\u001b[K     |█████████████████████▉          | 2.2MB 2.9MB/s eta 0:00:01\r\u001b[K     |██████████████████████          | 2.2MB 2.9MB/s eta 0:00:01\r\u001b[K     |██████████████████████          | 2.2MB 2.9MB/s eta 0:00:01\r\u001b[K     |██████████████████████          | 2.2MB 2.9MB/s eta 0:00:01\r\u001b[K     |██████████████████████▏         | 2.2MB 2.9MB/s eta 0:00:01\r\u001b[K     |██████████████████████▎         | 2.2MB 2.9MB/s eta 0:00:01\r\u001b[K     |██████████████████████▍         | 2.2MB 2.9MB/s eta 0:00:01\r\u001b[K     |██████████████████████▌         | 2.2MB 2.9MB/s eta 0:00:01\r\u001b[K     |██████████████████████▋         | 2.3MB 2.9MB/s eta 0:00:01\r\u001b[K     |██████████████████████▊         | 2.3MB 2.9MB/s eta 0:00:01\r\u001b[K     |██████████████████████▉         | 2.3MB 2.9MB/s eta 0:00:01\r\u001b[K     |███████████████████████         | 2.3MB 2.9MB/s eta 0:00:01\r\u001b[K     |███████████████████████         | 2.3MB 2.9MB/s eta 0:00:01\r\u001b[K     |███████████████████████▏        | 2.3MB 2.9MB/s eta 0:00:01\r\u001b[K     |███████████████████████▎        | 2.3MB 2.9MB/s eta 0:00:01\r\u001b[K     |███████████████████████▎        | 2.3MB 2.9MB/s eta 0:00:01\r\u001b[K     |███████████████████████▍        | 2.3MB 2.9MB/s eta 0:00:01\r\u001b[K     |███████████████████████▌        | 2.3MB 2.9MB/s eta 0:00:01\r\u001b[K     |███████████████████████▋        | 2.4MB 2.9MB/s eta 0:00:01\r\u001b[K     |███████████████████████▊        | 2.4MB 2.9MB/s eta 0:00:01\r\u001b[K     |███████████████████████▉        | 2.4MB 2.9MB/s eta 0:00:01\r\u001b[K     |████████████████████████        | 2.4MB 2.9MB/s eta 0:00:01\r\u001b[K     |████████████████████████        | 2.4MB 2.9MB/s eta 0:00:01\r\u001b[K     |████████████████████████▏       | 2.4MB 2.9MB/s eta 0:00:01\r\u001b[K     |████████████████████████▎       | 2.4MB 2.9MB/s eta 0:00:01\r\u001b[K     |████████████████████████▍       | 2.4MB 2.9MB/s eta 0:00:01\r\u001b[K     |████████████████████████▌       | 2.4MB 2.9MB/s eta 0:00:01\r\u001b[K     |████████████████████████▋       | 2.4MB 2.9MB/s eta 0:00:01\r\u001b[K     |████████████████████████▊       | 2.5MB 2.9MB/s eta 0:00:01\r\u001b[K     |████████████████████████▊       | 2.5MB 2.9MB/s eta 0:00:01\r\u001b[K     |████████████████████████▉       | 2.5MB 2.9MB/s eta 0:00:01\r\u001b[K     |█████████████████████████       | 2.5MB 2.9MB/s eta 0:00:01\r\u001b[K     |█████████████████████████       | 2.5MB 2.9MB/s eta 0:00:01\r\u001b[K     |█████████████████████████▏      | 2.5MB 2.9MB/s eta 0:00:01\r\u001b[K     |█████████████████████████▎      | 2.5MB 2.9MB/s eta 0:00:01\r\u001b[K     |█████████████████████████▍      | 2.5MB 2.9MB/s eta 0:00:01\r\u001b[K     |█████████████████████████▌      | 2.5MB 2.9MB/s eta 0:00:01\r\u001b[K     |█████████████████████████▋      | 2.5MB 2.9MB/s eta 0:00:01\r\u001b[K     |█████████████████████████▊      | 2.6MB 2.9MB/s eta 0:00:01\r\u001b[K     |█████████████████████████▉      | 2.6MB 2.9MB/s eta 0:00:01\r\u001b[K     |██████████████████████████      | 2.6MB 2.9MB/s eta 0:00:01\r\u001b[K     |██████████████████████████      | 2.6MB 2.9MB/s eta 0:00:01\r\u001b[K     |██████████████████████████      | 2.6MB 2.9MB/s eta 0:00:01\r\u001b[K     |██████████████████████████▏     | 2.6MB 2.9MB/s eta 0:00:01\r\u001b[K     |██████████████████████████▎     | 2.6MB 2.9MB/s eta 0:00:01\r\u001b[K     |██████████████████████████▍     | 2.6MB 2.9MB/s eta 0:00:01\r\u001b[K     |██████████████████████████▌     | 2.6MB 2.9MB/s eta 0:00:01\r\u001b[K     |██████████████████████████▋     | 2.7MB 2.9MB/s eta 0:00:01\r\u001b[K     |██████████████████████████▊     | 2.7MB 2.9MB/s eta 0:00:01\r\u001b[K     |██████████████████████████▉     | 2.7MB 2.9MB/s eta 0:00:01\r\u001b[K     |███████████████████████████     | 2.7MB 2.9MB/s eta 0:00:01\r\u001b[K     |███████████████████████████     | 2.7MB 2.9MB/s eta 0:00:01\r\u001b[K     |███████████████████████████▏    | 2.7MB 2.9MB/s eta 0:00:01\r\u001b[K     |███████████████████████████▎    | 2.7MB 2.9MB/s eta 0:00:01\r\u001b[K     |███████████████████████████▍    | 2.7MB 2.9MB/s eta 0:00:01\r\u001b[K     |███████████████████████████▍    | 2.7MB 2.9MB/s eta 0:00:01\r\u001b[K     |███████████████████████████▌    | 2.7MB 2.9MB/s eta 0:00:01\r\u001b[K     |███████████████████████████▋    | 2.8MB 2.9MB/s eta 0:00:01\r\u001b[K     |███████████████████████████▊    | 2.8MB 2.9MB/s eta 0:00:01\r\u001b[K     |███████████████████████████▉    | 2.8MB 2.9MB/s eta 0:00:01\r\u001b[K     |████████████████████████████    | 2.8MB 2.9MB/s eta 0:00:01\r\u001b[K     |████████████████████████████    | 2.8MB 2.9MB/s eta 0:00:01\r\u001b[K     |████████████████████████████▏   | 2.8MB 2.9MB/s eta 0:00:01\r\u001b[K     |████████████████████████████▎   | 2.8MB 2.9MB/s eta 0:00:01\r\u001b[K     |████████████████████████████▍   | 2.8MB 2.9MB/s eta 0:00:01\r\u001b[K     |████████████████████████████▌   | 2.8MB 2.9MB/s eta 0:00:01\r\u001b[K     |████████████████████████████▋   | 2.8MB 2.9MB/s eta 0:00:01\r\u001b[K     |████████████████████████████▊   | 2.9MB 2.9MB/s eta 0:00:01\r\u001b[K     |████████████████████████████▉   | 2.9MB 2.9MB/s eta 0:00:01\r\u001b[K     |████████████████████████████▉   | 2.9MB 2.9MB/s eta 0:00:01\r\u001b[K     |█████████████████████████████   | 2.9MB 2.9MB/s eta 0:00:01\r\u001b[K     |█████████████████████████████   | 2.9MB 2.9MB/s eta 0:00:01\r\u001b[K     |█████████████████████████████▏  | 2.9MB 2.9MB/s eta 0:00:01\r\u001b[K     |█████████████████████████████▎  | 2.9MB 2.9MB/s eta 0:00:01\r\u001b[K     |█████████████████████████████▍  | 2.9MB 2.9MB/s eta 0:00:01\r\u001b[K     |█████████████████████████████▌  | 2.9MB 2.9MB/s eta 0:00:01\r\u001b[K     |█████████████████████████████▋  | 2.9MB 2.9MB/s eta 0:00:01\r\u001b[K     |█████████████████████████████▊  | 3.0MB 2.9MB/s eta 0:00:01\r\u001b[K     |█████████████████████████████▉  | 3.0MB 2.9MB/s eta 0:00:01\r\u001b[K     |██████████████████████████████  | 3.0MB 2.9MB/s eta 0:00:01\r\u001b[K     |██████████████████████████████  | 3.0MB 2.9MB/s eta 0:00:01\r\u001b[K     |██████████████████████████████▏ | 3.0MB 2.9MB/s eta 0:00:01\r\u001b[K     |██████████████████████████████▏ | 3.0MB 2.9MB/s eta 0:00:01\r\u001b[K     |██████████████████████████████▎ | 3.0MB 2.9MB/s eta 0:00:01\r\u001b[K     |██████████████████████████████▍ | 3.0MB 2.9MB/s eta 0:00:01\r\u001b[K     |██████████████████████████████▌ | 3.0MB 2.9MB/s eta 0:00:01\r\u001b[K     |██████████████████████████████▋ | 3.1MB 2.9MB/s eta 0:00:01\r\u001b[K     |██████████████████████████████▊ | 3.1MB 2.9MB/s eta 0:00:01\r\u001b[K     |██████████████████████████████▉ | 3.1MB 2.9MB/s eta 0:00:01\r\u001b[K     |███████████████████████████████ | 3.1MB 2.9MB/s eta 0:00:01\r\u001b[K     |███████████████████████████████ | 3.1MB 2.9MB/s eta 0:00:01\r\u001b[K     |███████████████████████████████▏| 3.1MB 2.9MB/s eta 0:00:01\r\u001b[K     |███████████████████████████████▎| 3.1MB 2.9MB/s eta 0:00:01\r\u001b[K     |███████████████████████████████▍| 3.1MB 2.9MB/s eta 0:00:01\r\u001b[K     |███████████████████████████████▌| 3.1MB 2.9MB/s eta 0:00:01\r\u001b[K     |███████████████████████████████▌| 3.1MB 2.9MB/s eta 0:00:01\r\u001b[K     |███████████████████████████████▋| 3.2MB 2.9MB/s eta 0:00:01\r\u001b[K     |███████████████████████████████▊| 3.2MB 2.9MB/s eta 0:00:01\r\u001b[K     |███████████████████████████████▉| 3.2MB 2.9MB/s eta 0:00:01\r\u001b[K     |████████████████████████████████| 3.2MB 2.9MB/s eta 0:00:01\r\u001b[K     |████████████████████████████████| 3.2MB 2.9MB/s \n",
            "\u001b[?25hRequirement already satisfied: torch==1.5.1 in /usr/local/lib/python3.6/dist-packages (from torchaudio) (1.5.1+cu101)\n",
            "Requirement already satisfied: numpy in /usr/local/lib/python3.6/dist-packages (from torch==1.5.1->torchaudio) (1.18.5)\n",
            "Requirement already satisfied: future in /usr/local/lib/python3.6/dist-packages (from torch==1.5.1->torchaudio) (0.16.0)\n",
            "Installing collected packages: torchaudio\n",
            "Successfully installed torchaudio-0.5.1\n",
            "Requirement already satisfied: PyDrive in /usr/local/lib/python3.6/dist-packages (1.3.1)\n",
            "Requirement already satisfied: oauth2client>=4.0.0 in /usr/local/lib/python3.6/dist-packages (from PyDrive) (4.1.3)\n",
            "Requirement already satisfied: google-api-python-client>=1.2 in /usr/local/lib/python3.6/dist-packages (from PyDrive) (1.7.12)\n",
            "Requirement already satisfied: PyYAML>=3.0 in /usr/local/lib/python3.6/dist-packages (from PyDrive) (3.13)\n",
            "Requirement already satisfied: pyasn1>=0.1.7 in /usr/local/lib/python3.6/dist-packages (from oauth2client>=4.0.0->PyDrive) (0.4.8)\n",
            "Requirement already satisfied: pyasn1-modules>=0.0.5 in /usr/local/lib/python3.6/dist-packages (from oauth2client>=4.0.0->PyDrive) (0.2.8)\n",
            "Requirement already satisfied: rsa>=3.1.4 in /usr/local/lib/python3.6/dist-packages (from oauth2client>=4.0.0->PyDrive) (4.6)\n",
            "Requirement already satisfied: httplib2>=0.9.1 in /usr/local/lib/python3.6/dist-packages (from oauth2client>=4.0.0->PyDrive) (0.17.4)\n",
            "Requirement already satisfied: six>=1.6.1 in /usr/local/lib/python3.6/dist-packages (from oauth2client>=4.0.0->PyDrive) (1.12.0)\n",
            "Requirement already satisfied: google-auth>=1.4.1 in /usr/local/lib/python3.6/dist-packages (from google-api-python-client>=1.2->PyDrive) (1.17.2)\n",
            "Requirement already satisfied: uritemplate<4dev,>=3.0.0 in /usr/local/lib/python3.6/dist-packages (from google-api-python-client>=1.2->PyDrive) (3.0.1)\n",
            "Requirement already satisfied: google-auth-httplib2>=0.0.3 in /usr/local/lib/python3.6/dist-packages (from google-api-python-client>=1.2->PyDrive) (0.0.3)\n",
            "Requirement already satisfied: cachetools<5.0,>=2.0.0 in /usr/local/lib/python3.6/dist-packages (from google-auth>=1.4.1->google-api-python-client>=1.2->PyDrive) (4.1.0)\n",
            "Requirement already satisfied: setuptools>=40.3.0 in /usr/local/lib/python3.6/dist-packages (from google-auth>=1.4.1->google-api-python-client>=1.2->PyDrive) (47.3.1)\n",
            "Collecting soundfile\n",
            "  Downloading https://files.pythonhosted.org/packages/eb/f2/3cbbbf3b96fb9fa91582c438b574cff3f45b29c772f94c400e2c99ef5db9/SoundFile-0.10.3.post1-py2.py3-none-any.whl\n",
            "Requirement already satisfied: cffi>=1.0 in /usr/local/lib/python3.6/dist-packages (from soundfile) (1.14.0)\n",
            "Requirement already satisfied: pycparser in /usr/local/lib/python3.6/dist-packages (from cffi>=1.0->soundfile) (2.20)\n",
            "Installing collected packages: soundfile\n",
            "Successfully installed soundfile-0.10.3.post1\n"
          ],
          "name": "stdout"
        }
      ]
    },
    {
      "cell_type": "code",
      "metadata": {
        "colab_type": "code",
        "id": "ppRP3ZqP8vZP",
        "colab": {}
      },
      "source": [
        "import torch\n",
        "import torchaudio"
      ],
      "execution_count": 4,
      "outputs": []
    },
    {
      "cell_type": "code",
      "metadata": {
        "id": "7QYBWruDBgvL",
        "colab_type": "code",
        "colab": {
          "base_uri": "https://localhost:8080/",
          "height": 121
        },
        "outputId": "49ace71e-ffdb-48ac-9377-31c94c8ff3b3"
      },
      "source": [
        "! git clone https://github.com/facebookresearch/CPC_audio.git"
      ],
      "execution_count": 5,
      "outputs": [
        {
          "output_type": "stream",
          "text": [
            "Cloning into 'CPC_audio'...\n",
            "remote: Enumerating objects: 84, done.\u001b[K\n",
            "remote: Counting objects: 100% (84/84), done.\u001b[K\n",
            "remote: Compressing objects: 100% (65/65), done.\u001b[K\n",
            "remote: Total 84 (delta 13), reused 75 (delta 6), pack-reused 0\u001b[K\n",
            "Unpacking objects: 100% (84/84), done.\n"
          ],
          "name": "stdout"
        }
      ]
    },
    {
      "cell_type": "code",
      "metadata": {
        "id": "UZpCkWglBk5M",
        "colab_type": "code",
        "colab": {
          "base_uri": "https://localhost:8080/",
          "height": 697
        },
        "outputId": "e9e84750-e643-48c0-a305-f59f62292dc7"
      },
      "source": [
        "%cd /content/CPC_audio\n",
        "!python setup.py develop"
      ],
      "execution_count": 6,
      "outputs": [
        {
          "output_type": "stream",
          "text": [
            "/content/CPC_audio\n",
            "Compiling cpc/eval/ABX/dtw.pyx because it changed.\n",
            "[1/1] Cythonizing cpc/eval/ABX/dtw.pyx\n",
            "running develop\n",
            "running egg_info\n",
            "creating CPC_audio.egg-info\n",
            "writing CPC_audio.egg-info/PKG-INFO\n",
            "writing dependency_links to CPC_audio.egg-info/dependency_links.txt\n",
            "writing top-level names to CPC_audio.egg-info/top_level.txt\n",
            "writing manifest file 'CPC_audio.egg-info/SOURCES.txt'\n",
            "writing manifest file 'CPC_audio.egg-info/SOURCES.txt'\n",
            "running build_ext\n",
            "building 'cpc.eval.ABX.dtw' extension\n",
            "creating build\n",
            "creating build/temp.linux-x86_64-3.6\n",
            "creating build/temp.linux-x86_64-3.6/cpc\n",
            "creating build/temp.linux-x86_64-3.6/cpc/eval\n",
            "creating build/temp.linux-x86_64-3.6/cpc/eval/ABX\n",
            "x86_64-linux-gnu-gcc -pthread -DNDEBUG -g -fwrapv -O2 -Wall -g -fstack-protector-strong -Wformat -Werror=format-security -Wdate-time -D_FORTIFY_SOURCE=2 -fPIC -I/usr/local/lib/python3.6/dist-packages/numpy/core/include -I/usr/include/python3.6m -c cpc/eval/ABX/dtw.c -o build/temp.linux-x86_64-3.6/cpc/eval/ABX/dtw.o\n",
            "In file included from \u001b[01m\u001b[K/usr/local/lib/python3.6/dist-packages/numpy/core/include/numpy/ndarraytypes.h:1832:0\u001b[m\u001b[K,\n",
            "                 from \u001b[01m\u001b[K/usr/local/lib/python3.6/dist-packages/numpy/core/include/numpy/ndarrayobject.h:12\u001b[m\u001b[K,\n",
            "                 from \u001b[01m\u001b[K/usr/local/lib/python3.6/dist-packages/numpy/core/include/numpy/arrayobject.h:4\u001b[m\u001b[K,\n",
            "                 from \u001b[01m\u001b[Kcpc/eval/ABX/dtw.c:625\u001b[m\u001b[K:\n",
            "\u001b[01m\u001b[K/usr/local/lib/python3.6/dist-packages/numpy/core/include/numpy/npy_1_7_deprecated_api.h:17:2:\u001b[m\u001b[K \u001b[01;35m\u001b[Kwarning: \u001b[m\u001b[K#warning \"Using deprecated NumPy API, disable it with \" \"#define NPY_NO_DEPRECATED_API NPY_1_7_API_VERSION\" [\u001b[01;35m\u001b[K-Wcpp\u001b[m\u001b[K]\n",
            " #\u001b[01;35m\u001b[Kwarning\u001b[m\u001b[K \"Using deprecated NumPy API, disable it with \" \\\n",
            "  \u001b[01;35m\u001b[K^~~~~~~\u001b[m\u001b[K\n",
            "creating build/lib.linux-x86_64-3.6\n",
            "creating build/lib.linux-x86_64-3.6/cpc\n",
            "creating build/lib.linux-x86_64-3.6/cpc/eval\n",
            "creating build/lib.linux-x86_64-3.6/cpc/eval/ABX\n",
            "x86_64-linux-gnu-gcc -pthread -shared -Wl,-O1 -Wl,-Bsymbolic-functions -Wl,-Bsymbolic-functions -Wl,-z,relro -Wl,-Bsymbolic-functions -Wl,-z,relro -g -fstack-protector-strong -Wformat -Werror=format-security -Wdate-time -D_FORTIFY_SOURCE=2 build/temp.linux-x86_64-3.6/cpc/eval/ABX/dtw.o -o build/lib.linux-x86_64-3.6/cpc/eval/ABX/dtw.cpython-36m-x86_64-linux-gnu.so\n",
            "copying build/lib.linux-x86_64-3.6/cpc/eval/ABX/dtw.cpython-36m-x86_64-linux-gnu.so -> cpc/eval/ABX\n",
            "Creating /usr/local/lib/python3.6/dist-packages/CPC-audio.egg-link (link to .)\n",
            "Adding CPC-audio 1.0 to easy-install.pth file\n",
            "\n",
            "Installed /content/CPC_audio\n",
            "Processing dependencies for CPC-audio==1.0\n",
            "Finished processing dependencies for CPC-audio==1.0\n"
          ],
          "name": "stdout"
        }
      ]
    },
    {
      "cell_type": "markdown",
      "metadata": {
        "colab_type": "text",
        "id": "YZ1Wywx3BNGS"
      },
      "source": [
        "# Part 1 : contrastive predictive coding\n",
        "\n",
        "Contrastive Predictive Coding (CPC) is a method of unsupervised training for speech models. The idea behind it is pretty simple:\n",
        "\n",
        "\n",
        "1.   The raw audio wave is passed through a convolutional network: the ```encoder```\n",
        "2.   Then, the encoder's output is given to a recurrent network the ```context```\n",
        "3. A third party network, the ```prediction_network``` will try to predict the  future embeddings of the encoder using the output of the context network.\n",
        "\n",
        "In order to avoid a collapse to trivial solutions, the prediction_network doesn't try to reconstruct the future features. Instead, using the context output $c_t$ at time $t$ it is trained to discriminate the real  encoder representatioin $g_{t+k}$ at time $t+k$ from several other features $(g_n)_n$ taken elsewhere in the batch. Thus the loss becomes:\n",
        "\n",
        "\\\\[ \\mathcal{L}_c = - \\frac{1}{K} \\sum_{k=1}^K \\text{Cross_entropy}(\\phi_k(c_t), g_{t+k}) \\\\]\n",
        "\n",
        "Or:\n",
        "\n",
        "\\\\[ \\mathcal{L}_c = - \\frac{1}{K} \\sum_{k=1}^K \\log \\frac{ \\exp\\left(\\phi_k(c_t)^\\top g_{t+k}\\right) }{  \\sum_{\\mathbf{n}\\in\\mathcal{N}_t} \\exp\\left(\\phi_k(c_t)^\\top g_n\\right)} \\\\]\n",
        "\n",
        "Where:\n",
        "\n",
        "\n",
        "*   $\\phi_k$ is the prediction network for the kth timestep\n",
        "*   $\\mathcal{N}_t$ is the set of all negative examples sampled for timestep $t$\n",
        "\n",
        "\n"
      ]
    },
    {
      "cell_type": "markdown",
      "metadata": {
        "colab_type": "text",
        "id": "frPFYXuPfNPs"
      },
      "source": [
        "## Exercice 1 : Building the model\n",
        "\n",
        "In this exercise, we will build and train a small CPC model using the repository CPC_audio.\n",
        "\n",
        "The code below loads a context and an encoder newtorks."
      ]
    },
    {
      "cell_type": "code",
      "metadata": {
        "colab_type": "code",
        "id": "8g-xPSdLRdui",
        "colab": {
          "base_uri": "https://localhost:8080/",
          "height": 34
        },
        "outputId": "d3823a93-dcb3-4fbc-c877-602a1b983c28"
      },
      "source": [
        "%cd /content/CPC_audio\n",
        "from cpc.model import CPCEncoder, CPCAR\n",
        "device = torch.device(\"cuda:0\" if torch.cuda.is_available() else \"cpu\")\n",
        "\n",
        "DIM_ENCODER=256\n",
        "DIM_CONTEXT=256\n",
        "KEEP_HIDDEN_VECTOR=False\n",
        "N_LEVELS_CONTEXT=1\n",
        "CONTEXT_RNN=\"LSTM\"\n",
        "N_PREDICTIONS=12\n",
        "LEARNING_RATE=2e-4\n",
        "N_NEGATIVE_SAMPLE =128"
      ],
      "execution_count": 7,
      "outputs": [
        {
          "output_type": "stream",
          "text": [
            "/content/CPC_audio\n"
          ],
          "name": "stdout"
        }
      ]
    },
    {
      "cell_type": "code",
      "metadata": {
        "colab_type": "code",
        "id": "7Wx8WkrQk9bQ",
        "colab": {}
      },
      "source": [
        "encoder = CPCEncoder(DIM_ENCODER).to(device)\n",
        "context = CPCAR(DIM_ENCODER, DIM_CONTEXT, KEEP_HIDDEN_VECTOR, 1, mode=CONTEXT_RNN).to(device)"
      ],
      "execution_count": 8,
      "outputs": []
    },
    {
      "cell_type": "code",
      "metadata": {
        "colab_type": "code",
        "id": "f9BrweAIla4J",
        "colab": {}
      },
      "source": [
        "# Several functions that will be necessary to load the data later\n",
        "from cpc.dataset import findAllSeqs, AudioBatchData, parseSeqLabels\n",
        "SIZE_WINDOW = 20480\n",
        "BATCH_SIZE=8\n",
        "def load_dataset(path_dataset, file_extension='.wav', phone_label_dict=None):\n",
        "  data_list, speakers = findAllSeqs(path_dataset, extension=file_extension)\n",
        "  dataset = AudioBatchData(path_dataset, SIZE_WINDOW, data_list, phone_label_dict, len(speakers))\n",
        "  return dataset"
      ],
      "execution_count": 9,
      "outputs": []
    },
    {
      "cell_type": "markdown",
      "metadata": {
        "colab_type": "text",
        "id": "58pQ7ysXk9ZO"
      },
      "source": [
        "Now build a new class, ```CPCModel``` which will"
      ]
    },
    {
      "cell_type": "code",
      "metadata": {
        "colab_type": "code",
        "id": "rR5IYRTpRF8T",
        "colab": {}
      },
      "source": [
        "class CPCModel(torch.nn.Module):\n",
        "\n",
        "    def __init__(self,\n",
        "                 encoder,\n",
        "                 AR):\n",
        "\n",
        "        super(CPCModel, self).__init__()\n",
        "        self.gEncoder = encoder\n",
        "        self.gAR = AR\n",
        "\n",
        "    def forward(self, batch_data):\n",
        "        \n",
        "\n",
        "        encoder_output = self.gEncoder(batch_data)\n",
        "        #print(encoder_output.shape)\n",
        "        # The output of the encoder data does not have the good format \n",
        "        # indeed it is Batch_size x Hidden_size x temp size\n",
        "        # while the context requires Batch_size  x temp size x Hidden_size\n",
        "        # thus you need to permute\n",
        "        context_input = encoder_output.permute(0, 2, 1)\n",
        "\n",
        "        context_output = self.gAR(context_input)\n",
        "        #print(context_output.shape)\n",
        "        return context_output, encoder_output"
      ],
      "execution_count": 10,
      "outputs": []
    },
    {
      "cell_type": "markdown",
      "metadata": {
        "colab_type": "text",
        "id": "XUJgm6Rl4vS4"
      },
      "source": [
        "Let's test your code !\n"
      ]
    },
    {
      "cell_type": "code",
      "metadata": {
        "colab_type": "code",
        "id": "D1x1n4mv4y03",
        "colab": {}
      },
      "source": [
        "audio = torchaudio.load(\"/content/drive/My Drive/Speech Rec Project/data/0/200630-192328_tir_c85_elicit_0 (copy).wav\")[0]\n",
        "audio = audio.view(1, 1, -1)\n",
        "cpc_model = CPCModel(encoder, context).to(device)\n",
        "context_output, encoder_output = cpc_model(audio.to(device))"
      ],
      "execution_count": 11,
      "outputs": []
    },
    {
      "cell_type": "markdown",
      "metadata": {
        "colab_type": "text",
        "id": "X27ce8Hy3C2p"
      },
      "source": [
        "## Exercise 2 : CPC loss\n",
        "\n",
        "We will define a class ```CPCCriterion``` which will hold the prediction networks $\\phi_k$ defined above and perform the classification loss $\\mathcal{L}_c$.\n",
        "\n",
        "a) In this exercise, the $\\phi_k$ will be a linear transform, ie:\n",
        "\n",
        "\\\\[ \\phi_k(c_t) = \\mathbf{A}_k c_t\\\\]\n",
        "\n",
        "Using the class [torch.nn.Linear](https://pytorch.org/docs/stable/nn.html#torch.nn.Linear), define the transformations $\\phi_k$ in the code below and complete the function ```get_prediction_k``` which computes $\\phi_k(c_t)$ for a given batch of vectors $c_t$.\n",
        "\n",
        "b) Using both ```get_prediction_k```  and ```sample_negatives``` defined below, write the forward function which will take as input two batches of features $c_t$ and $g_t$ and outputs the classification loss $\\mathcal{L}_c$ and the average acuracy for all predictions. "
      ]
    },
    {
      "cell_type": "code",
      "metadata": {
        "colab_type": "code",
        "id": "UlAs-z1fBc3W",
        "colab": {}
      },
      "source": [
        "# Exercice 2: write the CPC loss\n",
        "# a) Write the negative sampling (with some help)\n",
        "# ERRATUM: it's really hard, the sampling will be provided\n",
        "\n",
        "class CPCCriterion(torch.nn.Module):\n",
        "\n",
        "  def __init__(self,\n",
        "               K,\n",
        "               dim_context,\n",
        "               dim_encoder,\n",
        "               n_negative):\n",
        "    super(CPCCriterion, self).__init__()\n",
        "    self.K_ = K\n",
        "    self.dim_context = dim_context\n",
        "    self.dim_encoder = dim_encoder\n",
        "    self.n_negative = n_negative\n",
        "\n",
        "    self.predictors = torch.nn.ModuleList() \n",
        "    for k in range(self.K_):\n",
        "      # TO COMPLETE !\n",
        "      \n",
        "      # A affine transformation in pytorch is equivalent to a nn.Linear layer\n",
        "      # To get a linear transformation you must set bias=False\n",
        "      # input dimension of the layer = dimension of the encoder\n",
        "      # output dimension of the layer = dimension of the context\n",
        "      self.predictors.append(torch.nn.Linear(dim_context, dim_encoder, bias=False))\n",
        "\n",
        "  def get_prediction_k(self, context_data):\n",
        "\n",
        "    #TO COMPLETE !\n",
        "    output = [] \n",
        "    # For each time step k\n",
        "    for k in range(self.K_):\n",
        "\n",
        "      # We need to compute phi_k = A_k * c_t\n",
        "      phi_k = self.predictors[k](context_data)\n",
        "      output.append(phi_k)\n",
        "\n",
        "    return output\n",
        "\n",
        "\n",
        "  def sample_negatives(self, encoded_data):\n",
        "    r\"\"\"\n",
        "    Sample some negative examples in the given encoded data.\n",
        "    Input:\n",
        "    - encoded_data size: B x T x H\n",
        "    Returns\n",
        "    - outputs of size B x (n_negative + 1) x (T - K_) x H\n",
        "      outputs[:, 0, :, :] contains the positive example\n",
        "      outputs[:, 1:, :, :] contains negative example sampled in the batch\n",
        "    - labels, long tensor of size B x (T - K_)\n",
        "      Since the positive example is always at coordinates 0 for all sequences \n",
        "      in the batch and all timestep in the sequence, labels is just a tensor\n",
        "      full of zeros !\n",
        "    \"\"\"\n",
        "    batch_size, time_size, dim_encoded = encoded_data.size()\n",
        "    window_size = time_size - self.K_\n",
        "    outputs = []\n",
        "\n",
        "    neg_ext = encoded_data.contiguous().view(-1, dim_encoded)\n",
        "    n_elem_sampled = self.n_negative * window_size * batch_size\n",
        "    # Draw nNegativeExt * batchSize negative samples anywhere in the batch\n",
        "    batch_idx = torch.randint(low=0, high=batch_size,\n",
        "                              size=(n_elem_sampled, ),\n",
        "                              device=encoded_data.device)\n",
        "\n",
        "    seq_idx = torch.randint(low=1, high=time_size,\n",
        "                            size=(n_elem_sampled, ),\n",
        "                            device=encoded_data.device)\n",
        "\n",
        "    base_idx = torch.arange(0, window_size, device=encoded_data.device)\n",
        "    base_idx = base_idx.view(1, 1, window_size)\n",
        "    base_idx = base_idx.expand(1, self.n_negative, window_size)\n",
        "    base_idx = base_idx.expand(batch_size, self.n_negative, window_size)\n",
        "    seq_idx += base_idx.contiguous().view(-1)\n",
        "    seq_idx = torch.remainder(seq_idx, time_size)\n",
        "\n",
        "    ext_idx = seq_idx + batch_idx * time_size\n",
        "    neg_ext = neg_ext[ext_idx].view(batch_size, self.n_negative,\n",
        "                                    window_size, dim_encoded)\n",
        "    label_loss = torch.zeros((batch_size, window_size),\n",
        "                              dtype=torch.long,\n",
        "                              device=encoded_data.device)\n",
        "\n",
        "    for k in range(1, self.K_ + 1):\n",
        "\n",
        "      # Positive samples\n",
        "      if k < self.K_:\n",
        "          pos_seq = encoded_data[:, k:-(self.K_-k)]\n",
        "      else:\n",
        "          pos_seq = encoded_data[:, k:]\n",
        "\n",
        "      pos_seq = pos_seq.view(batch_size, 1, pos_seq.size(1), dim_encoded)\n",
        "      full_seq = torch.cat((pos_seq, neg_ext), dim=1)\n",
        "      outputs.append(full_seq)\n",
        "\n",
        "    return outputs, label_loss\n",
        "\n",
        "  def forward(self, encoded_data, context_data):\n",
        "\n",
        "    # TO COMPLETE:\n",
        "    # Perform the full cpc criterion\n",
        "    # Returns 2 values:\n",
        "    # - the average classification loss avg_loss\n",
        "    # - the average classification acuracy avg_acc\n",
        "\n",
        "    # Reminder : The permuation !\n",
        "    encoded_data = encoded_data.permute(0, 2, 1)\n",
        "\n",
        "    # First we need to sample the negative examples\n",
        "    negative_samples, labels = self.sample_negatives(encoded_data)\n",
        "\n",
        "    # Then we must compute phi_k\n",
        "    phi_k = self.get_prediction_k(context_data)\n",
        "\n",
        "    # Finally we must get the dot product between phi_k and negative_samples \n",
        "    # for each k\n",
        "\n",
        "    #The total loss is the average of all losses\n",
        "    avg_loss = 0\n",
        "\n",
        "    # Average acuracy\n",
        "    avg_acc = 0\n",
        "\n",
        "    for k in range(self.K_):\n",
        "      B, N_sampled, S_small, H = negative_samples[k].size() \n",
        "      B, S, H = phi_k[k].size()\n",
        "\n",
        "      # As told before S = S_small + K. For segments too far in the sequence\n",
        "      # there are no positive exmples anyway, so we must shorten phi_k\n",
        "      phi = phi_k[k][:, :S_small]\n",
        "\n",
        "      # Now the dot product\n",
        "      # You have several ways to do that, let's do the simple but non optimal \n",
        "      # one\n",
        "      # pytorch has a matrix product function https://pytorch.org/docs/stable/torch.html#torch.bmm\n",
        "      # But it takes only 3D tensors of the same batch size !\n",
        "      # To begin negative_samples is a 4D tensor ! \n",
        "      # We want to compute the dot product for each features, of each sequence\n",
        "      # of the batch. Thus we are trying to compute a dot product for all\n",
        "      # B* N_sampled * S_small 1D vector of negative_samples[k]\n",
        "      # Or, a 1D tensor of size H is also a matrix of size 1 x H\n",
        "      # Then, we must view it as a 3D tensor of size (B* N_sampled * S_small, 1, H)\n",
        "      negative_sample_k  =  negative_samples[k].view(B* N_sampled* S_small, 1, H)\n",
        "\n",
        "      # But now phi and negative_sample_k no longer have the same batch size !\n",
        "      # No worries, we can expand phi so that each sequence of the batch\n",
        "      # is repeated N_sampled times\n",
        "      phi = phi.view(B, 1,S_small, H).expand(B, N_sampled, S_small, H)\n",
        "\n",
        "      # And now we can view it as a 3D tensor \n",
        "      phi  = phi.contiguous().view(B * N_sampled * S_small, H, 1)\n",
        "\n",
        "      # We can finally get the dot product !\n",
        "      scores = torch.bmm(negative_sample_k, phi)\n",
        "\n",
        "      # Dot_product has a size (B * N_sampled * S_small , 1, 1)\n",
        "      # Let's reorder it a bit\n",
        "      scores = scores.reshape(B, N_sampled, S_small)\n",
        "\n",
        "      # For each elements of the sequence, and each elements sampled, it gives \n",
        "      # a floating score stating the likelihood of this element being the \n",
        "      # true one.\n",
        "      # Now the classification loss, we need to use the Cross Entropy loss\n",
        "      # https://pytorch.org/docs/master/generated/torch.nn.CrossEntropyLoss.html\n",
        "\n",
        "      # For each time-step of each sequence of the batch \n",
        "      # we have N_sampled possible predictions. \n",
        "      # Looking at the documentation of torch.nn.CrossEntropyLoss\n",
        "      # we can see that this loss expect a tensor of size M x C where \n",
        "      # - M is the number of elements with a classification score\n",
        "      # - C is the number of possible classes\n",
        "      # There are N_sampled candidates for each predictions so\n",
        "      # C = N_sampled \n",
        "      # Each timestep of each sequence of the batch has a prediction so\n",
        "      # M = B * S_small\n",
        "      # Thus we need an input vector of size B * S_small, N_sampled\n",
        "      # To begin, we need to permute the axis\n",
        "      scores = scores.permute(0, 2, 1) # Now it has size B , S_small, N_sampled\n",
        "\n",
        "      # Then we can cast it into a 2D tensor\n",
        "      scores = scores.reshape(B * S_small, N_sampled)\n",
        "\n",
        "      # Same thing for the labels \n",
        "      labels = labels.reshape(B * S_small)\n",
        "\n",
        "      # Finally we can get the classification loss\n",
        "      loss_criterion = torch.nn.CrossEntropyLoss()\n",
        "      loss_k = loss_criterion(scores, labels)\n",
        "      avg_loss+= loss_k\n",
        "\n",
        "      # And for the acuracy\n",
        "      # The prediction for each elements is the sample with the highest score\n",
        "      # Thus the tensors of all predictions is the tensors of the index of the \n",
        "      # maximal score for each time-step of each sequence of the batch\n",
        "      predictions = torch.argmax(scores, 1)\n",
        "      acc_k  = (labels == predictions).sum() / (B * S_small)\n",
        "      avg_acc += acc_k\n",
        "\n",
        "    # Normalization\n",
        "    avg_loss = avg_loss / self.K_\n",
        "    avg_acc = avg_acc / self.K_\n",
        "      \n",
        "    return avg_loss , avg_acc"
      ],
      "execution_count": 12,
      "outputs": []
    },
    {
      "cell_type": "markdown",
      "metadata": {
        "colab_type": "text",
        "id": "0cqGXhLf-_O1"
      },
      "source": [
        "Don't forget to test !"
      ]
    },
    {
      "cell_type": "code",
      "metadata": {
        "colab_type": "code",
        "id": "sYJSMh5I_QCf",
        "colab": {
          "base_uri": "https://localhost:8080/",
          "height": 54
        },
        "outputId": "c5627607-80f9-4be3-9800-9c8c7371f0a7"
      },
      "source": [
        "audio = torchaudio.load(\"/content/drive/My Drive/Speech Rec Project/data/0/200630-192328_tir_c85_elicit_0 (copy).wav\")[0]\n",
        "audio = audio.view(1, 1, -1)\n",
        "cpc_criterion = CPCCriterion(N_PREDICTIONS, DIM_CONTEXT, \n",
        "                             DIM_ENCODER, N_NEGATIVE_SAMPLE).to(device)\n",
        "context_output, encoder_output = cpc_model(audio.to(device))\n",
        "loss, avg = cpc_criterion(encoder_output,context_output)"
      ],
      "execution_count": 13,
      "outputs": [
        {
          "output_type": "stream",
          "text": [
            "/pytorch/aten/src/ATen/native/BinaryOps.cpp:81: UserWarning: Integer division of tensors using div or / is deprecated, and in a future release div will perform true division as in Python 3. Use true_divide or floor_divide (// in Python) instead.\n"
          ],
          "name": "stderr"
        }
      ]
    },
    {
      "cell_type": "markdown",
      "metadata": {
        "colab_type": "text",
        "id": "zLv7GoE0_4C3"
      },
      "source": [
        "## Exercise 3: Full training loop !\n",
        "\n",
        "You have the model, you have the criterion. All you need now are a data loader and an optimizer to run your training loop.\n",
        "\n",
        "We will use an Adam optimizer:"
      ]
    },
    {
      "cell_type": "code",
      "metadata": {
        "colab_type": "code",
        "id": "zcg29tqPAIR1",
        "colab": {}
      },
      "source": [
        "parameters = list(cpc_criterion.parameters()) + list(cpc_model.parameters())\n",
        "optimizer = torch.optim.Adam(parameters, lr=LEARNING_RATE)"
      ],
      "execution_count": 14,
      "outputs": []
    },
    {
      "cell_type": "markdown",
      "metadata": {
        "colab_type": "text",
        "id": "hETDwSfTAuF4"
      },
      "source": [
        "And as far as the data loader is concerned, we will rely on the data loader provided by the CPC_audio library."
      ]
    },
    {
      "cell_type": "code",
      "metadata": {
        "id": "8pWKBYv8RYeC",
        "colab_type": "code",
        "colab": {}
      },
      "source": [
        "ls '/content/gdrive/My Drive/Speech Rec Project/data/train/0/audio'"
      ],
      "execution_count": null,
      "outputs": []
    },
    {
      "cell_type": "code",
      "metadata": {
        "colab_type": "code",
        "id": "O6KES4RXA0tU",
        "colab": {
          "base_uri": "https://localhost:8080/",
          "height": 330
        },
        "outputId": "9ff0f7ec-86d6-49cb-bfb1-47fc68c5dae7"
      },
      "source": [
        "dataset_train = load_dataset('/content/drive/My Drive/Speech Rec Project/data/train/')\n",
        "dataset_val = load_dataset('/content/drive/My Drive/Speech Rec Project/data/validation')\n",
        "data_loader_train = dataset_train.getDataLoader(BATCH_SIZE, \"speaker\", True)\n",
        "data_loader_val = dataset_train.getDataLoader(BATCH_SIZE, \"sequence\", False)"
      ],
      "execution_count": 15,
      "outputs": [
        {
          "output_type": "stream",
          "text": [
            "5it [00:03,  1.38it/s]\n"
          ],
          "name": "stderr"
        },
        {
          "output_type": "stream",
          "text": [
            "Saved cache file at /content/drive/My Drive/Speech Rec Project/data/train/_seqs_cache.txt\n",
            "Checking length...\n"
          ],
          "name": "stdout"
        },
        {
          "output_type": "stream",
          "text": [
            "293it [00:00, 65683.11it/s]\n"
          ],
          "name": "stderr"
        },
        {
          "output_type": "stream",
          "text": [
            "Done, elapsed: 22.496 seconds\n",
            "Scanned 293 sequences in 22.50 seconds\n",
            "1 chunks computed\n",
            "Joining pool\n"
          ],
          "name": "stdout"
        },
        {
          "output_type": "stream",
          "text": [
            "\r0it [00:00, ?it/s]"
          ],
          "name": "stderr"
        },
        {
          "output_type": "stream",
          "text": [
            "Joined process, elapsed=3.418 secs\n"
          ],
          "name": "stdout"
        },
        {
          "output_type": "stream",
          "text": [
            "3it [00:01,  2.08it/s]\n"
          ],
          "name": "stderr"
        },
        {
          "output_type": "stream",
          "text": [
            "Saved cache file at /content/drive/My Drive/Speech Rec Project/data/validation/_seqs_cache.txt\n",
            "Checking length...\n"
          ],
          "name": "stdout"
        },
        {
          "output_type": "stream",
          "text": [
            "68it [00:00, 22682.73it/s]\n"
          ],
          "name": "stderr"
        },
        {
          "output_type": "stream",
          "text": [
            "Done, elapsed: 5.318 seconds\n",
            "Scanned 68 sequences in 5.32 seconds\n",
            "1 chunks computed\n",
            "Joining pool\n",
            "Joined process, elapsed=0.744 secs\n"
          ],
          "name": "stdout"
        }
      ]
    },
    {
      "cell_type": "code",
      "metadata": {
        "id": "Lk0LN1QwU3Tw",
        "colab_type": "code",
        "colab": {}
      },
      "source": [
        ""
      ],
      "execution_count": 15,
      "outputs": []
    },
    {
      "cell_type": "markdown",
      "metadata": {
        "colab_type": "text",
        "id": "uCoMCPL0A8VI"
      },
      "source": [
        "Now that everything is ready, complete and test the ```train_step``` function below which trains the model for one epoch."
      ]
    },
    {
      "cell_type": "code",
      "metadata": {
        "colab_type": "code",
        "id": "U-hIH3p8BsZr",
        "colab": {}
      },
      "source": [
        "def train_step(data_loader,\n",
        "               cpc_model,\n",
        "               cpc_criterion,\n",
        "               optimizer):\n",
        "  \n",
        "  avg_loss = 0\n",
        "  avg_acc = 0\n",
        "  n_items = 0\n",
        "\n",
        "  for step, data in enumerate(data_loader):\n",
        "    x,y = data\n",
        "    bs = len(x)\n",
        "    optimizer.zero_grad()\n",
        "    context_output, encoder_output = cpc_model(x.to(device))\n",
        "    loss , acc = cpc_criterion(encoder_output, context_output)\n",
        "    loss.backward()\n",
        "    n_items+=bs\n",
        "    avg_loss+=loss.item()*bs\n",
        "    avg_acc +=acc.item()*bs\n",
        "  \n",
        "  avg_loss/=n_items\n",
        "  avg_acc/=n_items\n",
        "  return avg_loss, avg_acc"
      ],
      "execution_count": 16,
      "outputs": []
    },
    {
      "cell_type": "markdown",
      "metadata": {
        "colab_type": "text",
        "id": "rIj06giJE_bZ"
      },
      "source": [
        "## Exercise 4 : Validation loop\n",
        "\n",
        "Now complete the validation loop."
      ]
    },
    {
      "cell_type": "code",
      "metadata": {
        "colab_type": "code",
        "id": "Q7Qwi6jDByyt",
        "colab": {}
      },
      "source": [
        "def validation_step(data_loader,\n",
        "                    cpc_model,\n",
        "                    cpc_criterion):\n",
        "  \n",
        "  avg_loss = 0\n",
        "  avg_acc = 0\n",
        "  n_items = 0\n",
        "\n",
        "  for step, data in enumerate(data_loader):\n",
        "    x,y = data\n",
        "    bs = len(x)\n",
        "    context_output, encoder_output = cpc_model(x.to(device))\n",
        "    loss , acc = cpc_criterion(encoder_output, context_output)\n",
        "    n_items+=bs\n",
        "    avg_loss+=loss.item()*bs\n",
        "    avg_acc+=acc.item()*bs\n",
        "  \n",
        "  avg_loss/=n_items\n",
        "  avg_acc/=n_items\n",
        "  return avg_loss, avg_acc"
      ],
      "execution_count": 17,
      "outputs": []
    },
    {
      "cell_type": "markdown",
      "metadata": {
        "colab_type": "text",
        "id": "OBVUPKKs2_0U"
      },
      "source": [
        "## Exercise 5: Run everything"
      ]
    },
    {
      "cell_type": "code",
      "metadata": {
        "colab_type": "code",
        "id": "ZbXsZIRiB1tm",
        "colab": {}
      },
      "source": [
        "def run(train_loader,\n",
        "        val_loader,\n",
        "        cpc_model,\n",
        "        cpc_criterion,\n",
        "        optimizer,\n",
        "        n_epochs):\n",
        "  t_acc = []\n",
        "  v_acc = []\n",
        "  t_losses = []\n",
        "  v_losses = []\n",
        "  epoches = []\n",
        "  \n",
        "  for epoch in range(n_epochs):\n",
        "\n",
        "    \n",
        "    print(f\"Running epoch {epoch+1} / {n_epochs}\")\n",
        "    avg_loss_train, avg_acc_train = train_step(train_loader, cpc_model, cpc_criterion, optimizer)\n",
        "    print(\"----------------------\")\n",
        "    print(f\"Training dataset\")\n",
        "    print(f\"- average loss : {avg_loss_train}\")\n",
        "    print(f\"- average acuracy : {avg_acc_train}\")\n",
        "    print(\"----------------------\")\n",
        "    t_acc.append(avg_acc_train)\n",
        "    t_losses.append(avg_loss_train)\n",
        "    with torch.no_grad():\n",
        "      cpc_model.eval()\n",
        "      cpc_criterion.eval()\n",
        "      avg_loss_val, avg_acc_val = validation_step(val_loader, cpc_model, cpc_criterion)\n",
        "      print(f\"Validation dataset\")\n",
        "      print(f\"- average loss : {avg_loss_val}\")\n",
        "      print(f\"- average acuracy : {avg_acc_val}\")\n",
        "      v_acc.append(avg_acc_val)\n",
        "      v_losses.append(avg_loss_val)\n",
        "      print(\"----------------------\")\n",
        "      print()\n",
        "      cpc_model.train()\n",
        "      cpc_criterion.train()\n",
        "  plt.plot(t_losses)\n",
        "  plt.plot(v_losses)\n",
        "  plt.title('Model Loss')\n",
        "  plt.ylabel('loss')\n",
        "  plt.xlabel('epoch')\n",
        "  plt.legend(['train', 'Validation'], loc='upper left')\n",
        "  plt.show()\n",
        "  plt.plot(t_acc)\n",
        "  plt.plot(v_acc)\n",
        "  plt.title('Model Accuracy')\n",
        "  plt.ylabel('Accuracy')\n",
        "  plt.xlabel('epoch')\n",
        "  plt.legend(['train', 'Validation'], loc='upper left')\n",
        "  plt.show()"
      ],
      "execution_count": 20,
      "outputs": []
    },
    {
      "cell_type": "code",
      "metadata": {
        "colab_type": "code",
        "id": "5xx8vN2wpECC",
        "colab": {
          "base_uri": "https://localhost:8080/",
          "height": 1000
        },
        "outputId": "25393130-85bb-4c72-aa3e-f613f1269666"
      },
      "source": [
        "run(data_loader_train, data_loader_val, cpc_model,cpc_criterion,optimizer,10)"
      ],
      "execution_count": 21,
      "outputs": [
        {
          "output_type": "stream",
          "text": [
            "Running epoch 1 / 10\n",
            "----------------------\n",
            "Training dataset\n",
            "- average loss : 4.879562667378208\n",
            "- average acuracy : 0.0\n",
            "----------------------\n",
            "Validation dataset\n",
            "- average loss : 4.879538476050317\n",
            "- average acuracy : 0.0\n",
            "----------------------\n",
            "\n",
            "Running epoch 2 / 10\n",
            "----------------------\n",
            "Training dataset\n",
            "- average loss : 4.879519399007162\n",
            "- average acuracy : 0.0\n",
            "----------------------\n",
            "Validation dataset\n",
            "- average loss : 4.879532212144011\n",
            "- average acuracy : 0.0\n",
            "----------------------\n",
            "\n",
            "Running epoch 3 / 10\n",
            "----------------------\n",
            "Training dataset\n",
            "- average loss : 4.8797505880657\n",
            "- average acuracy : 0.0\n",
            "----------------------\n",
            "Validation dataset\n",
            "- average loss : 4.879537942526224\n",
            "- average acuracy : 0.0\n",
            "----------------------\n",
            "\n",
            "Running epoch 4 / 10\n",
            "----------------------\n",
            "Training dataset\n",
            "- average loss : 4.879630642606501\n",
            "- average acuracy : 0.0\n",
            "----------------------\n",
            "Validation dataset\n",
            "- average loss : 4.879558316477529\n",
            "- average acuracy : 0.0\n",
            "----------------------\n",
            "\n",
            "Running epoch 5 / 10\n",
            "----------------------\n",
            "Training dataset\n",
            "- average loss : 4.879668580440053\n",
            "- average acuracy : 0.0\n",
            "----------------------\n",
            "Validation dataset\n",
            "- average loss : 4.879560862387811\n",
            "- average acuracy : 0.0\n",
            "----------------------\n",
            "\n",
            "Running epoch 6 / 10\n",
            "----------------------\n",
            "Training dataset\n",
            "- average loss : 4.879717473816453\n",
            "- average acuracy : 0.0\n",
            "----------------------\n",
            "Validation dataset\n",
            "- average loss : 4.8795636967345555\n",
            "- average acuracy : 0.0\n",
            "----------------------\n",
            "\n",
            "Running epoch 7 / 10\n",
            "----------------------\n",
            "Training dataset\n",
            "- average loss : 4.8795543085064805\n",
            "- average acuracy : 0.0\n",
            "----------------------\n",
            "Validation dataset\n",
            "- average loss : 4.879548948127907\n",
            "- average acuracy : 0.0\n",
            "----------------------\n",
            "\n",
            "Running epoch 8 / 10\n",
            "----------------------\n",
            "Training dataset\n",
            "- average loss : 4.879707147364031\n",
            "- average acuracy : 0.0\n",
            "----------------------\n",
            "Validation dataset\n",
            "- average loss : 4.87955984035572\n",
            "- average acuracy : 0.0\n",
            "----------------------\n",
            "\n",
            "Running epoch 9 / 10\n",
            "----------------------\n",
            "Training dataset\n",
            "- average loss : 4.879620925167151\n",
            "- average acuracy : 0.0\n",
            "----------------------\n",
            "Validation dataset\n",
            "- average loss : 4.879552981236598\n",
            "- average acuracy : 0.0\n",
            "----------------------\n",
            "\n",
            "Running epoch 10 / 10\n",
            "----------------------\n",
            "Training dataset\n",
            "- average loss : 4.879629496524209\n",
            "- average acuracy : 0.0\n",
            "----------------------\n",
            "Validation dataset\n",
            "- average loss : 4.8795804527256035\n",
            "- average acuracy : 0.0\n",
            "----------------------\n",
            "\n"
          ],
          "name": "stdout"
        },
        {
          "output_type": "display_data",
          "data": {
            "image/png": "[encoded data removed]",
            "text/plain": [
              "<Figure size 432x288 with 1 Axes>"
            ]
          },
          "metadata": {
            "tags": [],
            "needs_background": "light"
          }
        },
        {
          "output_type": "display_data",
          "data": {
            "image/png": "[encoded data removed]",
            "text/plain": [
              "<Figure size 432x288 with 1 Axes>"
            ]
          },
          "metadata": {
            "tags": [],
            "needs_background": "light"
          }
        }
      ]
    },
    {
      "cell_type": "markdown",
      "metadata": {
        "colab_type": "text",
        "id": "5hoT3_3W6HYY"
      },
      "source": [
        "Once everything is donw, clear the memory."
      ]
    },
    {
      "cell_type": "code",
      "metadata": {
        "colab_type": "code",
        "id": "fU5mDOY46KSG",
        "colab": {}
      },
      "source": [
        "del dataset_train\n",
        "del dataset_val\n",
        "del cpc_model\n",
        "del context\n",
        "del encoder"
      ],
      "execution_count": 22,
      "outputs": []
    },
    {
      "cell_type": "markdown",
      "metadata": {
        "colab_type": "text",
        "id": "srPM5r_LB9v-"
      },
      "source": [
        "# Part 2 : Fine tuning"
      ]
    },
    {
      "cell_type": "markdown",
      "metadata": {
        "colab_type": "text",
        "id": "0Nb_-0IQiJk9"
      },
      "source": [
        "## Exercice 1 : Phone separability with aligned phonemes.\n",
        "\n",
        "One option to evaluate the quality of the features trained with CPC can be to check if they can be used to recognize phonemes. \n",
        "To do so, we can fine-tune a pre-trained model using a limited amount of labelled speech data.\n",
        "We are going to start with a simple evaluation setting where we have the phone labels for each timestep corresponding to a CPC feature.\n",
        "\n",
        "We will work with a model already pre-trained on English data. As far as the fine-tuning dataset is concerned, we will use a 1h subset of [librispeech-100](http://www.openslr.org/12/). "
      ]
    },
    {
      "cell_type": "code",
      "metadata": {
        "colab_type": "code",
        "id": "N-scDMAasXxc",
        "colab": {
          "base_uri": "https://localhost:8080/",
          "height": 627
        },
        "outputId": "f707e6cc-3d50-41d2-a584-bd1c974a0de7"
      },
      "source": [
        "!mkdir checkpoint_data\n",
        "!wget https://dl.fbaipublicfiles.com/librilight/CPC_checkpoints/not_hub/2levels_6k_top_ctc/checkpoint_30.pt -P checkpoint_data\n",
        "!wget https://dl.fbaipublicfiles.com/librilight/CPC_checkpoints/not_hub/2levels_6k_top_ctc/checkpoint_logs.json -P checkpoint_data\n",
        "!wget https://dl.fbaipublicfiles.com/librilight/CPC_checkpoints/not_hub/2levels_6k_top_ctc/checkpoint_args.json -P checkpoint_data\n",
        "!ls checkpoint_data"
      ],
      "execution_count": 23,
      "outputs": [
        {
          "output_type": "stream",
          "text": [
            "--2020-07-06 12:46:24--  https://dl.fbaipublicfiles.com/librilight/CPC_checkpoints/not_hub/2levels_6k_top_ctc/checkpoint_30.pt\n",
            "Resolving dl.fbaipublicfiles.com (dl.fbaipublicfiles.com)... 172.67.9.4, 104.22.74.142, 104.22.75.142, ...\n",
            "Connecting to dl.fbaipublicfiles.com (dl.fbaipublicfiles.com)|172.67.9.4|:443... connected.\n",
            "HTTP request sent, awaiting response... 200 OK\n",
            "Length: 113599715 (108M) [application/octet-stream]\n",
            "Saving to: ‘checkpoint_data/checkpoint_30.pt’\n",
            "\n",
            "checkpoint_30.pt    100%[===================>] 108.34M  12.5MB/s    in 10s     \n",
            "\n",
            "2020-07-06 12:46:35 (10.7 MB/s) - ‘checkpoint_data/checkpoint_30.pt’ saved [113599715/113599715]\n",
            "\n",
            "--2020-07-06 12:46:36--  https://dl.fbaipublicfiles.com/librilight/CPC_checkpoints/not_hub/2levels_6k_top_ctc/checkpoint_logs.json\n",
            "Resolving dl.fbaipublicfiles.com (dl.fbaipublicfiles.com)... 172.67.9.4, 104.22.74.142, 104.22.75.142, ...\n",
            "Connecting to dl.fbaipublicfiles.com (dl.fbaipublicfiles.com)|172.67.9.4|:443... connected.\n",
            "HTTP request sent, awaiting response... 200 OK\n",
            "Length: 20786 (20K) [text/plain]\n",
            "Saving to: ‘checkpoint_data/checkpoint_logs.json’\n",
            "\n",
            "checkpoint_logs.jso 100%[===================>]  20.30K   120KB/s    in 0.2s    \n",
            "\n",
            "2020-07-06 12:46:37 (120 KB/s) - ‘checkpoint_data/checkpoint_logs.json’ saved [20786/20786]\n",
            "\n",
            "--2020-07-06 12:46:39--  https://dl.fbaipublicfiles.com/librilight/CPC_checkpoints/not_hub/2levels_6k_top_ctc/checkpoint_args.json\n",
            "Resolving dl.fbaipublicfiles.com (dl.fbaipublicfiles.com)... 172.67.9.4, 104.22.74.142, 104.22.75.142, ...\n",
            "Connecting to dl.fbaipublicfiles.com (dl.fbaipublicfiles.com)|172.67.9.4|:443... connected.\n",
            "HTTP request sent, awaiting response... 200 OK\n",
            "Length: 2063 (2.0K) [text/plain]\n",
            "Saving to: ‘checkpoint_data/checkpoint_args.json’\n",
            "\n",
            "checkpoint_args.jso 100%[===================>]   2.01K  --.-KB/s    in 0s      \n",
            "\n",
            "2020-07-06 12:46:39 (25.1 MB/s) - ‘checkpoint_data/checkpoint_args.json’ saved [2063/2063]\n",
            "\n",
            "checkpoint_30.pt  checkpoint_args.json\tcheckpoint_logs.json\n"
          ],
          "name": "stdout"
        }
      ]
    },
    {
      "cell_type": "code",
      "metadata": {
        "colab_type": "code",
        "id": "SSSaiYo82_oY",
        "colab": {
          "base_uri": "https://localhost:8080/",
          "height": 382
        },
        "outputId": "810ddc2a-84d0-4f88-9fcb-6b3c50a9854d"
      },
      "source": [
        "%cd /content/CPC_audio\n",
        "from cpc.dataset import parseSeqLabels\n",
        "from cpc.feature_loader import loadModel\n",
        "\n",
        "checkpoint_path = 'checkpoint_data/checkpoint_30.pt'\n",
        "cpc_model, HIDDEN_CONTEXT_MODEL, HIDDEN_ENCODER_MODEL = loadModel([checkpoint_path])\n",
        "cpc_model = cpc_model.cuda()\n",
        "label_dict, N_PHONES = parseSeqLabels('/content/drive/My Drive/Speech Rec Project/data/all_sessions.txt')\n",
        "dataset_train = load_dataset('/content/drive/My Drive/Speech Rec Project/data/train', file_extension='.wav', phone_label_dict=label_dict)\n",
        "dataset_val = load_dataset('/content/drive/My Drive/Speech Rec Project/data/validation', file_extension='.wav', phone_label_dict=label_dict)\n",
        "data_loader_train = dataset_train.getDataLoader(BATCH_SIZE, \"speaker\", True)\n",
        "data_loader_val = dataset_val.getDataLoader(BATCH_SIZE, \"sequence\", False)"
      ],
      "execution_count": 24,
      "outputs": [
        {
          "output_type": "stream",
          "text": [
            "/content/CPC_audio\n",
            "Loading checkpoint checkpoint_data/checkpoint_30.pt\n",
            "Loading the state dict at checkpoint_data/checkpoint_30.pt\n"
          ],
          "name": "stdout"
        },
        {
          "output_type": "stream",
          "text": [
            "5it [00:00, 302.72it/s]"
          ],
          "name": "stderr"
        },
        {
          "output_type": "stream",
          "text": [
            "Saved cache file at /content/drive/My Drive/Speech Rec Project/data/train/_seqs_cache.txt\n"
          ],
          "name": "stdout"
        },
        {
          "output_type": "stream",
          "text": [
            "\n"
          ],
          "name": "stderr"
        },
        {
          "output_type": "stream",
          "text": [
            "Checking length...\n"
          ],
          "name": "stdout"
        },
        {
          "output_type": "stream",
          "text": [
            "293it [00:00, 101221.57it/s]\n"
          ],
          "name": "stderr"
        },
        {
          "output_type": "stream",
          "text": [
            "Done, elapsed: 0.371 seconds\n",
            "Scanned 293 sequences in 0.37 seconds\n",
            "1 chunks computed\n",
            "Joining pool\n"
          ],
          "name": "stdout"
        },
        {
          "output_type": "stream",
          "text": [
            "3it [00:00, 41.07it/s]"
          ],
          "name": "stderr"
        },
        {
          "output_type": "stream",
          "text": [
            "Joined process, elapsed=1.232 secs\n",
            "Saved cache file at /content/drive/My Drive/Speech Rec Project/data/validation/_seqs_cache.txt\n"
          ],
          "name": "stdout"
        },
        {
          "output_type": "stream",
          "text": [
            "\n",
            "68it [00:00, 67314.77it/s]"
          ],
          "name": "stderr"
        },
        {
          "output_type": "stream",
          "text": [
            "Checking length...\n",
            "Done, elapsed: 0.105 seconds\n",
            "Scanned 68 sequences in 0.10 seconds\n",
            "1 chunks computed\n",
            "Joining pool\n"
          ],
          "name": "stdout"
        },
        {
          "output_type": "stream",
          "text": [
            "\n"
          ],
          "name": "stderr"
        },
        {
          "output_type": "stream",
          "text": [
            "Joined process, elapsed=0.424 secs\n"
          ],
          "name": "stdout"
        }
      ]
    },
    {
      "cell_type": "code",
      "metadata": {
        "colab_type": "code",
        "id": "3ulgYV3nHcoa",
        "colab": {}
      },
      "source": [
        "??cpc_model"
      ],
      "execution_count": null,
      "outputs": []
    },
    {
      "cell_type": "markdown",
      "metadata": {
        "colab_type": "text",
        "id": "xkKi-qfosng2"
      },
      "source": [
        "Then we will use a simple linear classifier to recognize the phonemes from the features produced by ```cpc_model```. \n",
        "\n",
        "### a) Build the phone classifier \n",
        "\n",
        "Design a class of linear classifiers, ```PhoneClassifier``` that will take as input a batch of sequences of CPC features and output a score vector for each phoneme"
      ]
    },
    {
      "cell_type": "code",
      "metadata": {
        "colab_type": "code",
        "id": "4RpAbz-0CXJJ",
        "colab": {}
      },
      "source": [
        "class PhoneClassifier(torch.nn.Module):\n",
        "\n",
        "  def __init__(self,\n",
        "               input_dim : int,\n",
        "               n_phones : int):\n",
        "    super(PhoneClassifier, self).__init__()\n",
        "    self.linear = torch.nn.Linear(input_dim, n_phones)\n",
        "    \n",
        "\n",
        "  def forward(self, x):\n",
        "    return self.linear(x)"
      ],
      "execution_count": 25,
      "outputs": []
    },
    {
      "cell_type": "markdown",
      "metadata": {
        "colab_type": "text",
        "id": "Zt5oa_nqtH-d"
      },
      "source": [
        "Our phone classifier will then be:"
      ]
    },
    {
      "cell_type": "code",
      "metadata": {
        "colab_type": "code",
        "id": "NRBf_83IuLv5",
        "colab": {}
      },
      "source": [
        "phone_classifier = PhoneClassifier(HIDDEN_CONTEXT_MODEL, N_PHONES).to(device)"
      ],
      "execution_count": 26,
      "outputs": []
    },
    {
      "cell_type": "markdown",
      "metadata": {
        "colab_type": "text",
        "id": "z_Vf5AbUhqm4"
      },
      "source": [
        "### b - What would be the correct loss criterion for this task ?\n",
        "\n"
      ]
    },
    {
      "cell_type": "code",
      "metadata": {
        "colab_type": "code",
        "id": "uhyPM-cgjrtw",
        "colab": {}
      },
      "source": [
        "loss_criterion = torch.nn.CrossEntropyLoss()"
      ],
      "execution_count": 27,
      "outputs": []
    },
    {
      "cell_type": "markdown",
      "metadata": {
        "colab_type": "text",
        "id": "Nv4cSxbaplrz"
      },
      "source": [
        "To perform the fine-tuning, we will also need an optimization function.\n",
        "\n",
        "We will use an [Adam optimizer ](https://pytorch.org/docs/stable/optim.html#torch.optim.Adam)."
      ]
    },
    {
      "cell_type": "code",
      "metadata": {
        "colab_type": "code",
        "id": "W5CgYyAlqKxu",
        "colab": {}
      },
      "source": [
        "parameters = list(phone_classifier.parameters()) + list(cpc_model.parameters())\n",
        "LEARNING_RATE = 2e-4\n",
        "optimizer = torch.optim.Adam(parameters, lr=LEARNING_RATE)"
      ],
      "execution_count": 28,
      "outputs": []
    },
    {
      "cell_type": "markdown",
      "metadata": {
        "colab_type": "text",
        "id": "qQB9HS9PvAXc"
      },
      "source": [
        "You might also want to perform this training while freezing the weights of the ```cpc_model```. Indeed, if the pre-training was good enough, then ```cpc_model``` phonemes representation should be linearly separable. In this case the optimizer should be defined like this:"
      ]
    },
    {
      "cell_type": "code",
      "metadata": {
        "colab_type": "code",
        "id": "nRy0gn6awGUQ",
        "colab": {}
      },
      "source": [
        "optimizer_frozen = torch.optim.Adam(list(phone_classifier.parameters()), lr=LEARNING_RATE)"
      ],
      "execution_count": 29,
      "outputs": []
    },
    {
      "cell_type": "markdown",
      "metadata": {
        "colab_type": "text",
        "id": "cO93ngIfj4JW"
      },
      "source": [
        "### c- Now let's build a training loop. \n",
        "Complete the function ```train_one_epoch``` below.\n",
        "\n"
      ]
    },
    {
      "cell_type": "code",
      "metadata": {
        "colab_type": "code",
        "id": "fabqj3wvLwgU",
        "colab": {}
      },
      "source": [
        "def train_one_epoch(cpc_model, \n",
        "                    phone_classifier, \n",
        "                    loss_criterion, \n",
        "                    data_loader, \n",
        "                    optimizer):\n",
        "\n",
        "  cpc_model.train()\n",
        "  loss_criterion.train()\n",
        "\n",
        "  avg_loss = 0\n",
        "  avg_accuracy = 0\n",
        "  n_items = 0\n",
        "  for step, full_data in enumerate(data_loader):\n",
        "    # Each batch is represented by a Tuple of vectors:\n",
        "    # sequence of size : N x 1 x T\n",
        "    # label of size : N x T\n",
        "    # \n",
        "    # With :\n",
        "    # - N number of sequence in the batch\n",
        "    # - T size of each sequence\n",
        "    sequence, label = full_data\n",
        "    \n",
        "    \n",
        "\n",
        "    bs = len(sequence)\n",
        "    seq_len = label.size(1)\n",
        "    optimizer.zero_grad()\n",
        "    context_out, enc_out, _ = cpc_model(sequence.to(device),label.to(device))\n",
        "\n",
        "    scores = phone_classifier(context_out)\n",
        "\n",
        "    scores = scores.permute(0,2,1)\n",
        "    loss = loss_criterion(scores,label.to(device))\n",
        "    loss.backward()\n",
        "    optimizer.step()\n",
        "    avg_loss+=loss.item()*bs\n",
        "    n_items+=bs\n",
        "    correct_labels = scores.argmax(1)\n",
        "    avg_accuracy += ((label==correct_labels.cpu()).float()).mean(1).sum().item()\n",
        "  avg_loss/=n_items\n",
        "  avg_accuracy/=n_items\n",
        "  return avg_loss, avg_accuracy\n",
        "    "
      ],
      "execution_count": 30,
      "outputs": []
    },
    {
      "cell_type": "markdown",
      "metadata": {
        "colab_type": "text",
        "id": "quYtjx_TxIPK"
      },
      "source": [
        "Don't forget to test it !"
      ]
    },
    {
      "cell_type": "code",
      "metadata": {
        "colab_type": "code",
        "id": "50MwxbKhxMKp",
        "colab": {}
      },
      "source": [
        "avg_loss, avg_accuracy = train_one_epoch(cpc_model, phone_classifier, loss_criterion, data_loader_train, optimizer_frozen)"
      ],
      "execution_count": 31,
      "outputs": []
    },
    {
      "cell_type": "code",
      "metadata": {
        "colab_type": "code",
        "id": "_o6yk8XKWnYe",
        "colab": {
          "base_uri": "https://localhost:8080/",
          "height": 34
        },
        "outputId": "a94346fc-2ed9-42ea-9a24-52acdebd88fa"
      },
      "source": [
        "avg_loss, avg_accuracy"
      ],
      "execution_count": 32,
      "outputs": [
        {
          "output_type": "execute_result",
          "data": {
            "text/plain": [
              "(5.4767185098984665, 0.007869944852941176)"
            ]
          },
          "metadata": {
            "tags": []
          },
          "execution_count": 32
        }
      ]
    },
    {
      "cell_type": "markdown",
      "metadata": {
        "colab_type": "text",
        "id": "EmUkuJ2bwu4Z"
      },
      "source": [
        "### d- Build the validation loop"
      ]
    },
    {
      "cell_type": "code",
      "metadata": {
        "colab_type": "code",
        "id": "kZJMxj6cwzd3",
        "colab": {}
      },
      "source": [
        "def validation_step(cpc_model, \n",
        "                    phone_classifier, \n",
        "                    loss_criterion, \n",
        "                    data_loader):\n",
        "  \n",
        "  cpc_model.eval()\n",
        "  phone_classifier.eval()\n",
        "\n",
        "  avg_loss = 0\n",
        "  avg_accuracy = 0\n",
        "  n_items = 0\n",
        "  with torch.no_grad():\n",
        "    for step, full_data in enumerate(data_loader):\n",
        "      # Each batch is represented by a Tuple of vectors:\n",
        "      # sequence of size : N x 1 x T\n",
        "      # label of size : N x T\n",
        "      # \n",
        "      # With :\n",
        "      # - N number of sequence in the batch\n",
        "      # - T size of each sequence\n",
        "      sequence, label = full_data\n",
        "      bs = len(sequence)\n",
        "      seq_len = label.size(1)\n",
        "      context_out, enc_out, _ = cpc_model(sequence.to(device),label.to(device))\n",
        "      scores = phone_classifier(context_out)\n",
        "      scores = scores.permute(0,2,1)\n",
        "      loss = loss_criterion(scores,label.to(device))\n",
        "      avg_loss+=loss.item()*bs\n",
        "      n_items+=bs\n",
        "      correct_labels = scores.argmax(1)\n",
        "      avg_accuracy += ((label==correct_labels.cpu()).float()).mean(1).sum().item()\n",
        "  avg_loss/=n_items\n",
        "  avg_accuracy/=n_items\n",
        "  return avg_loss, avg_accuracy"
      ],
      "execution_count": 33,
      "outputs": []
    },
    {
      "cell_type": "markdown",
      "metadata": {
        "colab_type": "text",
        "id": "vownVCt7xbVh"
      },
      "source": [
        "### e- Run everything\n",
        "\n",
        "Test this functiion with both ```optimizer``` and ```optimizer_frozen```."
      ]
    },
    {
      "cell_type": "code",
      "metadata": {
        "colab_type": "code",
        "id": "xvO_4nKUxfQx",
        "colab": {}
      },
      "source": [
        "def run(cpc_model, \n",
        "        phone_classifier, \n",
        "        loss_criterion, \n",
        "        data_loader_train, \n",
        "        data_loader_val, \n",
        "        optimizer,\n",
        "        n_epoch):\n",
        "  t_acc = []\n",
        "  v_acc = []\n",
        "  t_losses = []\n",
        "  v_losses = []\n",
        "  epoches = []\n",
        "\n",
        "  for epoch in range(n_epoch):\n",
        "    \n",
        "\n",
        "    print(f\"Running epoch {epoch + 1} / {n_epoch}\")\n",
        "    loss_train, acc_train = train_one_epoch(cpc_model, phone_classifier, loss_criterion, data_loader_train, optimizer)\n",
        "    print(\"-------------------\")\n",
        "    print(f\"Training dataset :\")\n",
        "    print(f\"Average loss : {loss_train}. Average accuracy {acc_train}\")\n",
        "    t_acc.append(acc_train)\n",
        "    t_losses.append(loss_train)\n",
        "\n",
        "    print(\"-------------------\")\n",
        "    print(\"Validation dataset\")\n",
        "    loss_val, acc_val = validation_step(cpc_model, phone_classifier, loss_criterion, data_loader_val)\n",
        "    print(f\"Average loss : {loss_val}. Average accuracy {acc_val}\")\n",
        "    v_acc.append(acc_val)\n",
        "    v_losses.append(loss_val)\n",
        "    print(\"-------------------\")\n",
        "    print()\n",
        "  plt.plot(t_losses)\n",
        "  plt.plot(v_losses)\n",
        "  plt.title('Model Loss')\n",
        "  plt.ylabel('loss')\n",
        "  plt.xlabel('epoch')\n",
        "  plt.legend(['train', 'Validation'], loc='upper left')\n",
        "  plt.show()\n",
        "  plt.plot(t_acc)\n",
        "  plt.plot(v_acc)\n",
        "  plt.title('Model Accuracy')\n",
        "  plt.ylabel('Accuracy')\n",
        "  plt.xlabel('epoch')\n",
        "  plt.legend(['train', 'Validation'], loc='upper left')\n",
        "  plt.show()"
      ],
      "execution_count": 34,
      "outputs": []
    },
    {
      "cell_type": "code",
      "metadata": {
        "colab_type": "code",
        "id": "ceCEO2h2bxAn",
        "colab": {
          "base_uri": "https://localhost:8080/",
          "height": 1000
        },
        "outputId": "a5d1dd0b-5695-44b5-80e6-7250b7fbc0da"
      },
      "source": [
        "run(cpc_model,phone_classifier,loss_criterion,data_loader_train,data_loader_val,optimizer_frozen,n_epoch=50)"
      ],
      "execution_count": 35,
      "outputs": [
        {
          "output_type": "stream",
          "text": [
            "Running epoch 1 / 50\n",
            "-------------------\n",
            "Training dataset :\n",
            "Average loss : 5.359519649954403. Average accuracy 0.0146484375\n",
            "-------------------\n",
            "Validation dataset\n",
            "Average loss : 5.282181262969971. Average accuracy 0.022135416666666668\n",
            "-------------------\n",
            "\n",
            "Running epoch 2 / 50\n",
            "-------------------\n",
            "Training dataset :\n",
            "Average loss : 5.252059207243078. Average accuracy 0.01706112132352941\n",
            "-------------------\n",
            "Validation dataset\n",
            "Average loss : 5.171579202016194. Average accuracy 0.0205078125\n",
            "-------------------\n",
            "\n",
            "Running epoch 3 / 50\n",
            "-------------------\n",
            "Training dataset :\n",
            "Average loss : 5.155572218053481. Average accuracy 0.01809512867647059\n",
            "-------------------\n",
            "Validation dataset\n",
            "Average loss : 5.076868057250977. Average accuracy 0.0234375\n",
            "-------------------\n",
            "\n",
            "Running epoch 4 / 50\n",
            "-------------------\n",
            "Training dataset :\n",
            "Average loss : 5.067303601433249. Average accuracy 0.02131204044117647\n",
            "-------------------\n",
            "Validation dataset\n",
            "Average loss : 4.988152503967285. Average accuracy 0.025716145833333332\n",
            "-------------------\n",
            "\n",
            "Running epoch 5 / 50\n",
            "-------------------\n",
            "Training dataset :\n",
            "Average loss : 4.989878934972427. Average accuracy 0.02315027573529412\n",
            "-------------------\n",
            "Validation dataset\n",
            "Average loss : 4.907878081003825. Average accuracy 0.026692708333333332\n",
            "-------------------\n",
            "\n",
            "Running epoch 6 / 50\n",
            "-------------------\n",
            "Training dataset :\n",
            "Average loss : 4.91807960061466. Average accuracy 0.02958409926470588\n",
            "-------------------\n",
            "Validation dataset\n",
            "Average loss : 4.835468769073486. Average accuracy 0.035807291666666664\n",
            "-------------------\n",
            "\n",
            "Running epoch 7 / 50\n",
            "-------------------\n",
            "Training dataset :\n",
            "Average loss : 4.857494915232939. Average accuracy 0.03854549632352941\n",
            "-------------------\n",
            "Validation dataset\n",
            "Average loss : 4.780959606170654. Average accuracy 0.041341145833333336\n",
            "-------------------\n",
            "\n",
            "Running epoch 8 / 50\n",
            "-------------------\n",
            "Training dataset :\n",
            "Average loss : 4.802719340604894. Average accuracy 0.04302619485294118\n",
            "-------------------\n",
            "Validation dataset\n",
            "Average loss : 4.74130916595459. Average accuracy 0.041015625\n",
            "-------------------\n",
            "\n",
            "Running epoch 9 / 50\n",
            "-------------------\n",
            "Training dataset :\n",
            "Average loss : 4.752237151650822. Average accuracy 0.0458984375\n",
            "-------------------\n",
            "Validation dataset\n",
            "Average loss : 4.6821614901224775. Average accuracy 0.042643229166666664\n",
            "-------------------\n",
            "\n",
            "Running epoch 10 / 50\n",
            "-------------------\n",
            "Training dataset :\n",
            "Average loss : 4.709338272319121. Average accuracy 0.04704733455882353\n",
            "-------------------\n",
            "Validation dataset\n",
            "Average loss : 4.647481600443522. Average accuracy 0.046223958333333336\n",
            "-------------------\n",
            "\n",
            "Running epoch 11 / 50\n",
            "-------------------\n",
            "Training dataset :\n",
            "Average loss : 4.667601921979119. Average accuracy 0.04767922794117647\n",
            "-------------------\n",
            "Validation dataset\n",
            "Average loss : 4.599444071451823. Average accuracy 0.051432291666666664\n",
            "-------------------\n",
            "\n",
            "Running epoch 12 / 50\n",
            "-------------------\n",
            "Training dataset :\n",
            "Average loss : 4.629860092611874. Average accuracy 0.053423713235294115\n",
            "-------------------\n",
            "Validation dataset\n",
            "Average loss : 4.577480316162109. Average accuracy 0.060546875\n",
            "-------------------\n",
            "\n",
            "Running epoch 13 / 50\n",
            "-------------------\n",
            "Training dataset :\n",
            "Average loss : 4.600761525771198. Average accuracy 0.058306525735294115\n",
            "-------------------\n",
            "Validation dataset\n",
            "Average loss : 4.547146638234456. Average accuracy 0.060872395833333336\n",
            "-------------------\n",
            "\n",
            "Running epoch 14 / 50\n",
            "-------------------\n",
            "Training dataset :\n",
            "Average loss : 4.5726378104266. Average accuracy 0.058363970588235295\n",
            "-------------------\n",
            "Validation dataset\n",
            "Average loss : 4.524125099182129. Average accuracy 0.061848958333333336\n",
            "-------------------\n",
            "\n",
            "Running epoch 15 / 50\n",
            "-------------------\n",
            "Training dataset :\n",
            "Average loss : 4.54612221437342. Average accuracy 0.05870863970588235\n",
            "-------------------\n",
            "Validation dataset\n",
            "Average loss : 4.482995986938477. Average accuracy 0.06705729166666667\n",
            "-------------------\n",
            "\n",
            "Running epoch 16 / 50\n",
            "-------------------\n",
            "Training dataset :\n",
            "Average loss : 4.519147760727826. Average accuracy 0.06014476102941176\n",
            "-------------------\n",
            "Validation dataset\n",
            "Average loss : 4.480630238850911. Average accuracy 0.0634765625\n",
            "-------------------\n",
            "\n",
            "Running epoch 17 / 50\n",
            "-------------------\n",
            "Training dataset :\n",
            "Average loss : 4.503301368040197. Average accuracy 0.06066176470588235\n",
            "-------------------\n",
            "Validation dataset\n",
            "Average loss : 4.468375523885091. Average accuracy 0.062174479166666664\n",
            "-------------------\n",
            "\n",
            "Running epoch 18 / 50\n",
            "-------------------\n",
            "Training dataset :\n",
            "Average loss : 4.4867989596198585. Average accuracy 0.06060431985294118\n",
            "-------------------\n",
            "Validation dataset\n",
            "Average loss : 4.460996786753337. Average accuracy 0.0625\n",
            "-------------------\n",
            "\n",
            "Running epoch 19 / 50\n",
            "-------------------\n",
            "Training dataset :\n",
            "Average loss : 4.471765097449808. Average accuracy 0.06192555147058824\n",
            "-------------------\n",
            "Validation dataset\n",
            "Average loss : 4.429691632588704. Average accuracy 0.06412760416666667\n",
            "-------------------\n",
            "\n",
            "Running epoch 20 / 50\n",
            "-------------------\n",
            "Training dataset :\n",
            "Average loss : 4.455053048975327. Average accuracy 0.06048943014705882\n",
            "-------------------\n",
            "Validation dataset\n",
            "Average loss : 4.427177429199219. Average accuracy 0.06315104166666667\n",
            "-------------------\n",
            "\n",
            "Running epoch 21 / 50\n",
            "-------------------\n",
            "Training dataset :\n",
            "Average loss : 4.441738493302289. Average accuracy 0.05905330882352941\n",
            "-------------------\n",
            "Validation dataset\n",
            "Average loss : 4.419114748636882. Average accuracy 0.061848958333333336\n",
            "-------------------\n",
            "\n",
            "Running epoch 22 / 50\n",
            "-------------------\n",
            "Training dataset :\n",
            "Average loss : 4.42971939199111. Average accuracy 0.060776654411764705\n",
            "-------------------\n",
            "Validation dataset\n",
            "Average loss : 4.413561185201009. Average accuracy 0.059895833333333336\n",
            "-------------------\n",
            "\n",
            "Running epoch 23 / 50\n",
            "-------------------\n",
            "Training dataset :\n",
            "Average loss : 4.4185801393845505. Average accuracy 0.061810661764705885\n",
            "-------------------\n",
            "Validation dataset\n",
            "Average loss : 4.401357014973958. Average accuracy 0.0595703125\n",
            "-------------------\n",
            "\n",
            "Running epoch 24 / 50\n",
            "-------------------\n",
            "Training dataset :\n",
            "Average loss : 4.4096645467421585. Average accuracy 0.061753216911764705\n",
            "-------------------\n",
            "Validation dataset\n",
            "Average loss : 4.400282065073649. Average accuracy 0.059895833333333336\n",
            "-------------------\n",
            "\n",
            "Running epoch 25 / 50\n",
            "-------------------\n",
            "Training dataset :\n",
            "Average loss : 4.402172172770781. Average accuracy 0.06284466911764706\n",
            "-------------------\n",
            "Validation dataset\n",
            "Average loss : 4.3729550043741865. Average accuracy 0.062174479166666664\n",
            "-------------------\n",
            "\n",
            "Running epoch 26 / 50\n",
            "-------------------\n",
            "Training dataset :\n",
            "Average loss : 4.38934887156767. Average accuracy 0.06462545955882353\n",
            "-------------------\n",
            "Validation dataset\n",
            "Average loss : 4.3849005699157715. Average accuracy 0.060872395833333336\n",
            "-------------------\n",
            "\n",
            "Running epoch 27 / 50\n",
            "-------------------\n",
            "Training dataset :\n",
            "Average loss : 4.3859010864706605. Average accuracy 0.06255744485294118\n",
            "-------------------\n",
            "Validation dataset\n",
            "Average loss : 4.373608271280925. Average accuracy 0.062174479166666664\n",
            "-------------------\n",
            "\n",
            "Running epoch 28 / 50\n",
            "-------------------\n",
            "Training dataset :\n",
            "Average loss : 4.378933149225571. Average accuracy 0.06382123161764706\n",
            "-------------------\n",
            "Validation dataset\n",
            "Average loss : 4.369518121083577. Average accuracy 0.061197916666666664\n",
            "-------------------\n",
            "\n",
            "Running epoch 29 / 50\n",
            "-------------------\n",
            "Training dataset :\n",
            "Average loss : 4.369934895459344. Average accuracy 0.062212775735294115\n",
            "-------------------\n",
            "Validation dataset\n",
            "Average loss : 4.369555950164795. Average accuracy 0.058268229166666664\n",
            "-------------------\n",
            "\n",
            "Running epoch 30 / 50\n",
            "-------------------\n",
            "Training dataset :\n",
            "Average loss : 4.363991120282342. Average accuracy 0.0632467830882353\n",
            "-------------------\n",
            "Validation dataset\n",
            "Average loss : 4.362326780954997. Average accuracy 0.0625\n",
            "-------------------\n",
            "\n",
            "Running epoch 31 / 50\n",
            "-------------------\n",
            "Training dataset :\n",
            "Average loss : 4.360075670130112. Average accuracy 0.06416590073529412\n",
            "-------------------\n",
            "Validation dataset\n",
            "Average loss : 4.359251181284587. Average accuracy 0.0654296875\n",
            "-------------------\n",
            "\n",
            "Running epoch 32 / 50\n",
            "-------------------\n",
            "Training dataset :\n",
            "Average loss : 4.3525785838856415. Average accuracy 0.06525735294117647\n",
            "-------------------\n",
            "Validation dataset\n",
            "Average loss : 4.345819632212321. Average accuracy 0.06315104166666667\n",
            "-------------------\n",
            "\n",
            "Running epoch 33 / 50\n",
            "-------------------\n",
            "Training dataset :\n",
            "Average loss : 4.348850586835076. Average accuracy 0.06295955882352941\n",
            "-------------------\n",
            "Validation dataset\n",
            "Average loss : 4.339643637339274. Average accuracy 0.06380208333333333\n",
            "-------------------\n",
            "\n",
            "Running epoch 34 / 50\n",
            "-------------------\n",
            "Training dataset :\n",
            "Average loss : 4.342914721545051. Average accuracy 0.0642233455882353\n",
            "-------------------\n",
            "Validation dataset\n",
            "Average loss : 4.342120011647542. Average accuracy 0.06282552083333333\n",
            "-------------------\n",
            "\n",
            "Running epoch 35 / 50\n",
            "-------------------\n",
            "Training dataset :\n",
            "Average loss : 4.337052513571346. Average accuracy 0.06244255514705882\n",
            "-------------------\n",
            "Validation dataset\n",
            "Average loss : 4.334762891133626. Average accuracy 0.064453125\n",
            "-------------------\n",
            "\n",
            "Running epoch 36 / 50\n",
            "-------------------\n",
            "Training dataset :\n",
            "Average loss : 4.333445408765008. Average accuracy 0.06537224264705882\n",
            "-------------------\n",
            "Validation dataset\n",
            "Average loss : 4.346444129943848. Average accuracy 0.06315104166666667\n",
            "-------------------\n",
            "\n",
            "Running epoch 37 / 50\n",
            "-------------------\n",
            "Training dataset :\n",
            "Average loss : 4.329487632302677. Average accuracy 0.0646829044117647\n",
            "-------------------\n",
            "Validation dataset\n",
            "Average loss : 4.350491205851237. Average accuracy 0.059895833333333336\n",
            "-------------------\n",
            "\n",
            "Running epoch 38 / 50\n",
            "-------------------\n",
            "Training dataset :\n",
            "Average loss : 4.325536503511317. Average accuracy 0.06537224264705882\n",
            "-------------------\n",
            "Validation dataset\n",
            "Average loss : 4.346472104390462. Average accuracy 0.062174479166666664\n",
            "-------------------\n",
            "\n",
            "Running epoch 39 / 50\n",
            "-------------------\n",
            "Training dataset :\n",
            "Average loss : 4.320486293119543. Average accuracy 0.0656594669117647\n",
            "-------------------\n",
            "Validation dataset\n",
            "Average loss : 4.321066220601399. Average accuracy 0.06282552083333333\n",
            "-------------------\n",
            "\n",
            "Running epoch 40 / 50\n",
            "-------------------\n",
            "Training dataset :\n",
            "Average loss : 4.319941128001494. Average accuracy 0.06606158088235294\n",
            "-------------------\n",
            "Validation dataset\n",
            "Average loss : 4.327816327412923. Average accuracy 0.06282552083333333\n",
            "-------------------\n",
            "\n",
            "Running epoch 41 / 50\n",
            "-------------------\n",
            "Training dataset :\n",
            "Average loss : 4.311805781196146. Average accuracy 0.06600413602941177\n",
            "-------------------\n",
            "Validation dataset\n",
            "Average loss : 4.328746159871419. Average accuracy 0.064453125\n",
            "-------------------\n",
            "\n",
            "Running epoch 42 / 50\n",
            "-------------------\n",
            "Training dataset :\n",
            "Average loss : 4.3069797403672165. Average accuracy 0.0651999080882353\n",
            "-------------------\n",
            "Validation dataset\n",
            "Average loss : 4.3428215980529785. Average accuracy 0.060546875\n",
            "-------------------\n",
            "\n",
            "Running epoch 43 / 50\n",
            "-------------------\n",
            "Training dataset :\n",
            "Average loss : 4.310196652131922. Average accuracy 0.06594669117647059\n",
            "-------------------\n",
            "Validation dataset\n",
            "Average loss : 4.345710913340251. Average accuracy 0.060546875\n",
            "-------------------\n",
            "\n",
            "Running epoch 44 / 50\n",
            "-------------------\n",
            "Training dataset :\n",
            "Average loss : 4.300955407759723. Average accuracy 0.06640625\n",
            "-------------------\n",
            "Validation dataset\n",
            "Average loss : 4.337315718332927. Average accuracy 0.0634765625\n",
            "-------------------\n",
            "\n",
            "Running epoch 45 / 50\n",
            "-------------------\n",
            "Training dataset :\n",
            "Average loss : 4.305384243235869. Average accuracy 0.0646829044117647\n",
            "-------------------\n",
            "Validation dataset\n",
            "Average loss : 4.31962776184082. Average accuracy 0.06640625\n",
            "-------------------\n",
            "\n",
            "Running epoch 46 / 50\n",
            "-------------------\n",
            "Training dataset :\n",
            "Average loss : 4.297385916990392. Average accuracy 0.06439568014705882\n",
            "-------------------\n",
            "Validation dataset\n",
            "Average loss : 4.325248718261719. Average accuracy 0.060221354166666664\n",
            "-------------------\n",
            "\n",
            "Running epoch 47 / 50\n",
            "-------------------\n",
            "Training dataset :\n",
            "Average loss : 4.293607066659367. Average accuracy 0.06772748161764706\n",
            "-------------------\n",
            "Validation dataset\n",
            "Average loss : 4.319097359975179. Average accuracy 0.06477864583333333\n",
            "-------------------\n",
            "\n",
            "Running epoch 48 / 50\n",
            "-------------------\n",
            "Training dataset :\n",
            "Average loss : 4.289177305558148. Average accuracy 0.06772748161764706\n",
            "-------------------\n",
            "Validation dataset\n",
            "Average loss : 4.323573589324951. Average accuracy 0.0634765625\n",
            "-------------------\n",
            "\n",
            "Running epoch 49 / 50\n",
            "-------------------\n",
            "Training dataset :\n",
            "Average loss : 4.288961270276238. Average accuracy 0.06789981617647059\n",
            "-------------------\n",
            "Validation dataset\n",
            "Average loss : 4.317284266153972. Average accuracy 0.06282552083333333\n",
            "-------------------\n",
            "\n",
            "Running epoch 50 / 50\n",
            "-------------------\n",
            "Training dataset :\n",
            "Average loss : 4.284248239853802. Average accuracy 0.06583180147058823\n",
            "-------------------\n",
            "Validation dataset\n",
            "Average loss : 4.313615798950195. Average accuracy 0.06282552083333333\n",
            "-------------------\n",
            "\n"
          ],
          "name": "stdout"
        },
        {
          "output_type": "display_data",
          "data": {
            "image/png": "[encoded data removed]",
            "text/plain": [
              "<Figure size 432x288 with 1 Axes>"
            ]
          },
          "metadata": {
            "tags": [],
            "needs_background": "light"
          }
        },
        {
          "output_type": "display_data",
          "data": {
            "image/png": "[encoded data removed]",
            "text/plain": [
              "<Figure size 432x288 with 1 Axes>"
            ]
          },
          "metadata": {
            "tags": [],
            "needs_background": "light"
          }
        }
      ]
    },
    {
      "cell_type": "markdown",
      "metadata": {
        "colab_type": "text",
        "id": "TdfWDiFnylMT"
      },
      "source": [
        "## Exercise 2 : Phone separability without alignment (PER)\n",
        "\n",
        "Aligned data are very practical, but un real life they are rarely available. That's why in this excercise we will consider a fine-tuning with non-aligned phonemes.\n",
        "\n",
        "The model, the optimizer and the phone classifier will stay the same. However, we will replace our phone criterion with a [CTC loss](https://pytorch.org/docs/master/generated/torch.nn.CTCLoss.html). "
      ]
    },
    {
      "cell_type": "code",
      "metadata": {
        "colab_type": "code",
        "id": "_9BpM_Lpzgx8",
        "colab": {}
      },
      "source": [
        "loss_ctc = torch.nn.CTCLoss()"
      ],
      "execution_count": 37,
      "outputs": []
    },
    {
      "cell_type": "markdown",
      "metadata": {
        "colab_type": "text",
        "id": "AQpYgTyfzsrq"
      },
      "source": [
        "Besides, we will use a siglthy different dataset class."
      ]
    },
    {
      "cell_type": "code",
      "metadata": {
        "colab_type": "code",
        "id": "9HRxoatlz3ZZ",
        "colab": {
          "base_uri": "https://localhost:8080/",
          "height": 278
        },
        "outputId": "97859ae0-5370-4634-964a-889d3417f212"
      },
      "source": [
        "%cd /content/CPC_audio\n",
        "from cpc.eval.common_voices_eval import SingleSequenceDataset, parseSeqLabels, findAllSeqs\n",
        "path_train_data_per = '/content/drive/My Drive/Speech Rec Project/data/train'\n",
        "path_val_data_per = '/content/drive/My Drive/Speech Rec Project/data/validation'\n",
        "path_phone_data_per = '/content/drive/My Drive/Speech Rec Project/data/all_sessions.txt'\n",
        "BATCH_SIZE=8\n",
        "\n",
        "phone_labels, N_PHONES = parseSeqLabels(path_phone_data_per)\n",
        "data_train_per, _ = findAllSeqs(path_train_data_per, extension='.wav')\n",
        "dataset_train_non_aligned = SingleSequenceDataset(path_train_data_per, data_train_per, phone_labels)\n",
        "data_loader_train = torch.utils.data.DataLoader(dataset_train_non_aligned, batch_size=BATCH_SIZE,\n",
        "                                                shuffle=True)\n",
        "\n",
        "data_val_per, _ = findAllSeqs(path_val_data_per, extension='.wav')\n",
        "dataset_val_non_aligned = SingleSequenceDataset(path_val_data_per, data_val_per, phone_labels)\n",
        "data_loader_val = torch.utils.data.DataLoader(dataset_val_non_aligned, batch_size=BATCH_SIZE,\n",
        "                                              shuffle=True)"
      ],
      "execution_count": 38,
      "outputs": [
        {
          "output_type": "stream",
          "text": [
            "5it [00:00, 326.68it/s]"
          ],
          "name": "stderr"
        },
        {
          "output_type": "stream",
          "text": [
            "/content/CPC_audio\n",
            "Saved cache file at /content/drive/My Drive/Speech Rec Project/data/train/_seqs_cache.txt\n"
          ],
          "name": "stdout"
        },
        {
          "output_type": "stream",
          "text": [
            "\n",
            "3it [00:00, 389.61it/s]"
          ],
          "name": "stderr"
        },
        {
          "output_type": "stream",
          "text": [
            "Loaded 294 sequences in 2.73 seconds\n",
            "maxSizeSeq : 383691\n",
            "maxSizePhone : 149\n",
            "minSizePhone : 13\n",
            "Total size dataset 0.8135741319444444 hours\n",
            "Saved cache file at /content/drive/My Drive/Speech Rec Project/data/validation/_seqs_cache.txt\n"
          ],
          "name": "stdout"
        },
        {
          "output_type": "stream",
          "text": [
            "\n"
          ],
          "name": "stderr"
        },
        {
          "output_type": "stream",
          "text": [
            "Loaded 69 sequences in 1.75 seconds\n",
            "maxSizeSeq : 348480\n",
            "maxSizePhone : 113\n",
            "minSizePhone : 15\n",
            "Total size dataset 0.18027109375 hours\n"
          ],
          "name": "stdout"
        }
      ]
    },
    {
      "cell_type": "markdown",
      "metadata": {
        "colab_type": "text",
        "id": "GwAckY62z7s9"
      },
      "source": [
        "### a- Training\n",
        "\n",
        "Since the phonemes are not aligned, there is no simple direct way to get the classification acuracy of a model. Write and test the three functions ```train_one_epoch_ctc```, ```validation_step_ctc``` and ```run_ctc``` as before but without considering the average acuracy of the model. "
      ]
    },
    {
      "cell_type": "code",
      "metadata": {
        "colab_type": "code",
        "id": "oYg5YzW8EHl4",
        "colab": {
          "base_uri": "https://localhost:8080/",
          "height": 52
        },
        "outputId": "e6a28ecb-863e-49e2-dd36-517b1c7a8dfa"
      },
      "source": [
        "from cpc.feature_loader import loadModel\n",
        "\n",
        "checkpoint_path = 'checkpoint_data/checkpoint_30.pt'\n",
        "cpc_model, HIDDEN_CONTEXT_MODEL, HIDDEN_ENCODER_MODEL = loadModel([checkpoint_path])\n",
        "cpc_model = cpc_model.cuda()\n",
        "phone_classifier = PhoneClassifier(HIDDEN_CONTEXT_MODEL, N_PHONES).to(device)"
      ],
      "execution_count": 39,
      "outputs": [
        {
          "output_type": "stream",
          "text": [
            "Loading checkpoint checkpoint_data/checkpoint_30.pt\n",
            "Loading the state dict at checkpoint_data/checkpoint_30.pt\n"
          ],
          "name": "stdout"
        }
      ]
    },
    {
      "cell_type": "code",
      "metadata": {
        "colab_type": "code",
        "id": "CFQ2g3PjErdZ",
        "colab": {}
      },
      "source": [
        "parameters = list(phone_classifier.parameters()) + list(cpc_model.parameters())\n",
        "LEARNING_RATE = 2e-4\n",
        "optimizer = torch.optim.Adam(parameters, lr=LEARNING_RATE)\n",
        "\n",
        "optimizer_frozen = torch.optim.Adam(list(phone_classifier.parameters()), lr=LEARNING_RATE)"
      ],
      "execution_count": 40,
      "outputs": []
    },
    {
      "cell_type": "code",
      "metadata": {
        "colab_type": "code",
        "id": "Zsgjv3cD0oqD",
        "colab": {}
      },
      "source": [
        "import torch.nn.functional as F\n",
        "\n",
        "def train_one_epoch_ctc(cpc_model, \n",
        "                        phone_classifier, \n",
        "                        loss_criterion, \n",
        "                        data_loader, \n",
        "                        optimizer):\n",
        "  \n",
        "  cpc_model.train()\n",
        "  loss_criterion.train()\n",
        "  \n",
        "  avg_loss = 0\n",
        "  avg_accuracy = 0\n",
        "  n_items = 0\n",
        "  for step, full_data in enumerate(data_loader):\n",
        "\n",
        "    x, x_len, y, y_len = full_data\n",
        "\n",
        "    x_batch_len = x.shape[-1]\n",
        "    x, y = x.to(device), y.to(device)\n",
        "\n",
        "    bs=x.size(0)\n",
        "    optimizer.zero_grad()\n",
        "    context_out, enc_out, _ = cpc_model(x.to(device),y.to(device))\n",
        "  \n",
        "    scores = phone_classifier(context_out)\n",
        "    scores = scores.permute(1,0,2)\n",
        "    scores = F.log_softmax(scores,2)\n",
        "    yhat_len = torch.tensor([int(scores.shape[0]*x_len[i]/x_batch_len) for i in range(scores.shape[1])]) # this is an approximation, should be good enough\n",
        "\n",
        "    loss = loss_criterion(scores,y.to(device),yhat_len,y_len)\n",
        "    loss.backward()\n",
        "    optimizer.step()\n",
        "    avg_loss+=loss.item()*bs\n",
        "    n_items+=bs\n",
        "  avg_loss/=n_items\n",
        "  return avg_loss\n",
        "\n",
        "def validation_step(cpc_model, \n",
        "                    phone_classifier, \n",
        "                    loss_criterion, \n",
        "                    data_loader):\n",
        "\n",
        "  cpc_model.eval()\n",
        "  phone_classifier.eval()\n",
        "  avg_loss = 0\n",
        "  avg_accuracy = 0\n",
        "  n_items = 0\n",
        "  with torch.no_grad():\n",
        "    for step, full_data in enumerate(data_loader):\n",
        "\n",
        "      x, x_len, y, y_len = full_data\n",
        "\n",
        "      x_batch_len = x.shape[-1]\n",
        "      x, y = x.to(device), y.to(device)\n",
        "\n",
        "      bs=x.size(0)\n",
        "      context_out, enc_out, _ = cpc_model(x.to(device),y.to(device))\n",
        "    \n",
        "      scores = phone_classifier(context_out)\n",
        "      scores = scores.permute(1,0,2)\n",
        "      scores = F.log_softmax(scores,2)\n",
        "      yhat_len = torch.tensor([int(scores.shape[0]*x_len[i]/x_batch_len) for i in range(scores.shape[1])]) # this is an approximation, should be good enough\n",
        "\n",
        "      loss = loss_criterion(scores,y.to(device),yhat_len,y_len)\n",
        "      avg_loss+=loss.item()*bs\n",
        "      n_items+=bs\n",
        "  avg_loss/=n_items\n",
        "\n",
        "  return avg_loss\n",
        "\n",
        "def run_ctc(cpc_model, \n",
        "            phone_classifier, \n",
        "            loss_criterion, \n",
        "            data_loader_train, \n",
        "            data_loader_val, \n",
        "            optimizer,\n",
        "            n_epoch):\n",
        "  t_losses = []\n",
        "  v_losses = []\n",
        "  epoches = []\n",
        "  for epoch in range(n_epoch):\n",
        "    epoches.append(epoch + 1)\n",
        "    print(f\"Running epoch {epoch + 1} / {n_epoch}\")\n",
        "    loss_train = train_one_epoch_ctc(cpc_model, phone_classifier, loss_criterion, data_loader_train, optimizer)\n",
        "    print(\"-------------------\")\n",
        "    print(f\"Training dataset :\")\n",
        "    print(f\"Average loss : {loss_train}.\")\n",
        "    t_losses.append(loss_train)\n",
        "    print(\"-------------------\")\n",
        "    print(\"Validation dataset\")\n",
        "    loss_val = validation_step(cpc_model, phone_classifier, loss_criterion, data_loader_val)\n",
        "    print(f\"Average loss : {loss_val}\")\n",
        "    v_losses.append(loss_val)\n",
        "    print(\"-------------------\")\n",
        "    print()\n",
        "  plt.plot(t_losses)\n",
        "  plt.plot(v_losses)\n",
        "  plt.title('Model Loss')\n",
        "  plt.ylabel('loss')\n",
        "  plt.xlabel('epoch')\n",
        "  plt.legend(['train', 'Validation'], loc='upper left')\n",
        "  plt.show()\n"
      ],
      "execution_count": 41,
      "outputs": []
    },
    {
      "cell_type": "code",
      "metadata": {
        "colab_type": "code",
        "id": "GSr7tcUdD72c",
        "colab": {
          "base_uri": "https://localhost:8080/",
          "height": 1000
        },
        "outputId": "91c2ef7d-bade-4d54-9096-208c18ae4943"
      },
      "source": [
        "run_ctc(cpc_model,phone_classifier,loss_ctc,data_loader_train,data_loader_val,optimizer_frozen,n_epoch=50)"
      ],
      "execution_count": 42,
      "outputs": [
        {
          "output_type": "stream",
          "text": [
            "Running epoch 1 / 50\n",
            "-------------------\n",
            "Training dataset :\n",
            "Average loss : 87.4581681860185.\n",
            "-------------------\n",
            "Validation dataset\n",
            "Average loss : 91.92626145306755\n",
            "-------------------\n",
            "\n",
            "Running epoch 2 / 50\n",
            "-------------------\n",
            "Training dataset :\n",
            "Average loss : 82.38009534191353.\n",
            "-------------------\n",
            "Validation dataset\n",
            "Average loss : 86.09259302475873\n",
            "-------------------\n",
            "\n",
            "Running epoch 3 / 50\n",
            "-------------------\n",
            "Training dataset :\n",
            "Average loss : 76.62429601259198.\n",
            "-------------------\n",
            "Validation dataset\n",
            "Average loss : 79.54997163660386\n",
            "-------------------\n",
            "\n",
            "Running epoch 4 / 50\n",
            "-------------------\n",
            "Training dataset :\n",
            "Average loss : 70.29391916945526.\n",
            "-------------------\n",
            "Validation dataset\n",
            "Average loss : 72.45169157140396\n",
            "-------------------\n",
            "\n",
            "Running epoch 5 / 50\n",
            "-------------------\n",
            "Training dataset :\n",
            "Average loss : 63.69277167727109.\n",
            "-------------------\n",
            "Validation dataset\n",
            "Average loss : 65.51811801686006\n",
            "-------------------\n",
            "\n",
            "Running epoch 6 / 50\n",
            "-------------------\n",
            "Training dataset :\n",
            "Average loss : 57.46067161690253.\n",
            "-------------------\n",
            "Validation dataset\n",
            "Average loss : 59.18080857220818\n",
            "-------------------\n",
            "\n",
            "Running epoch 7 / 50\n",
            "-------------------\n",
            "Training dataset :\n",
            "Average loss : 51.774567392498966.\n",
            "-------------------\n",
            "Validation dataset\n",
            "Average loss : 53.29566955566406\n",
            "-------------------\n",
            "\n",
            "Running epoch 8 / 50\n",
            "-------------------\n",
            "Training dataset :\n",
            "Average loss : 46.57048874422145.\n",
            "-------------------\n",
            "Validation dataset\n",
            "Average loss : 48.10919391407686\n",
            "-------------------\n",
            "\n",
            "Running epoch 9 / 50\n",
            "-------------------\n",
            "Training dataset :\n",
            "Average loss : 41.954226484070865.\n",
            "-------------------\n",
            "Validation dataset\n",
            "Average loss : 43.46692208682789\n",
            "-------------------\n",
            "\n",
            "Running epoch 10 / 50\n",
            "-------------------\n",
            "Training dataset :\n",
            "Average loss : 37.8691995444965.\n",
            "-------------------\n",
            "Validation dataset\n",
            "Average loss : 39.46615196676815\n",
            "-------------------\n",
            "\n",
            "Running epoch 11 / 50\n",
            "-------------------\n",
            "Training dataset :\n",
            "Average loss : 34.37625560825595.\n",
            "-------------------\n",
            "Validation dataset\n",
            "Average loss : 36.017533021814685\n",
            "-------------------\n",
            "\n",
            "Running epoch 12 / 50\n",
            "-------------------\n",
            "Training dataset :\n",
            "Average loss : 31.377833070201678.\n",
            "-------------------\n",
            "Validation dataset\n",
            "Average loss : 33.10456421796013\n",
            "-------------------\n",
            "\n",
            "Running epoch 13 / 50\n",
            "-------------------\n",
            "Training dataset :\n",
            "Average loss : 28.885202466424413.\n",
            "-------------------\n",
            "Validation dataset\n",
            "Average loss : 30.63576675863827\n",
            "-------------------\n",
            "\n",
            "Running epoch 14 / 50\n",
            "-------------------\n",
            "Training dataset :\n",
            "Average loss : 26.78089586459736.\n",
            "-------------------\n",
            "Validation dataset\n",
            "Average loss : 28.620933644911823\n",
            "-------------------\n",
            "\n",
            "Running epoch 15 / 50\n",
            "-------------------\n",
            "Training dataset :\n",
            "Average loss : 25.03188320719748.\n",
            "-------------------\n",
            "Validation dataset\n",
            "Average loss : 26.95750404806698\n",
            "-------------------\n",
            "\n",
            "Running epoch 16 / 50\n",
            "-------------------\n",
            "Training dataset :\n",
            "Average loss : 23.580932298211106.\n",
            "-------------------\n",
            "Validation dataset\n",
            "Average loss : 25.53918737523696\n",
            "-------------------\n",
            "\n",
            "Running epoch 17 / 50\n",
            "-------------------\n",
            "Training dataset :\n",
            "Average loss : 22.36679537385804.\n",
            "-------------------\n",
            "Validation dataset\n",
            "Average loss : 24.336527656106387\n",
            "-------------------\n",
            "\n",
            "Running epoch 18 / 50\n",
            "-------------------\n",
            "Training dataset :\n",
            "Average loss : 21.320533355348346.\n",
            "-------------------\n",
            "Validation dataset\n",
            "Average loss : 23.317190619076\n",
            "-------------------\n",
            "\n",
            "Running epoch 19 / 50\n",
            "-------------------\n",
            "Training dataset :\n",
            "Average loss : 20.4502860840677.\n",
            "-------------------\n",
            "Validation dataset\n",
            "Average loss : 22.433806587668027\n",
            "-------------------\n",
            "\n",
            "Running epoch 20 / 50\n",
            "-------------------\n",
            "Training dataset :\n",
            "Average loss : 19.6983624481097.\n",
            "-------------------\n",
            "Validation dataset\n",
            "Average loss : 21.68472110523897\n",
            "-------------------\n",
            "\n",
            "Running epoch 21 / 50\n",
            "-------------------\n",
            "Training dataset :\n",
            "Average loss : 19.052267230818295.\n",
            "-------------------\n",
            "Validation dataset\n",
            "Average loss : 21.03661840102252\n",
            "-------------------\n",
            "\n",
            "Running epoch 22 / 50\n",
            "-------------------\n",
            "Training dataset :\n",
            "Average loss : 18.48693425826245.\n",
            "-------------------\n",
            "Validation dataset\n",
            "Average loss : 20.452116573558133\n",
            "-------------------\n",
            "\n",
            "Running epoch 23 / 50\n",
            "-------------------\n",
            "Training dataset :\n",
            "Average loss : 17.991633770002032.\n",
            "-------------------\n",
            "Validation dataset\n",
            "Average loss : 19.94254908842199\n",
            "-------------------\n",
            "\n",
            "Running epoch 24 / 50\n",
            "-------------------\n",
            "Training dataset :\n",
            "Average loss : 17.560221932446996.\n",
            "-------------------\n",
            "Validation dataset\n",
            "Average loss : 19.47031576493207\n",
            "-------------------\n",
            "\n",
            "Running epoch 25 / 50\n",
            "-------------------\n",
            "Training dataset :\n",
            "Average loss : 17.173565067122006.\n",
            "-------------------\n",
            "Validation dataset\n",
            "Average loss : 19.06211134966682\n",
            "-------------------\n",
            "\n",
            "Running epoch 26 / 50\n",
            "-------------------\n",
            "Training dataset :\n",
            "Average loss : 16.82279929203385.\n",
            "-------------------\n",
            "Validation dataset\n",
            "Average loss : 18.692604682024786\n",
            "-------------------\n",
            "\n",
            "Running epoch 27 / 50\n",
            "-------------------\n",
            "Training dataset :\n",
            "Average loss : 16.512672766076825.\n",
            "-------------------\n",
            "Validation dataset\n",
            "Average loss : 18.35090940138873\n",
            "-------------------\n",
            "\n",
            "Running epoch 28 / 50\n",
            "-------------------\n",
            "Training dataset :\n",
            "Average loss : 16.23450857950152.\n",
            "-------------------\n",
            "Validation dataset\n",
            "Average loss : 18.02598992516013\n",
            "-------------------\n",
            "\n",
            "Running epoch 29 / 50\n",
            "-------------------\n",
            "Training dataset :\n",
            "Average loss : 15.98350894003598.\n",
            "-------------------\n",
            "Validation dataset\n",
            "Average loss : 17.738886328304517\n",
            "-------------------\n",
            "\n",
            "Running epoch 30 / 50\n",
            "-------------------\n",
            "Training dataset :\n",
            "Average loss : 15.755879665804397.\n",
            "-------------------\n",
            "Validation dataset\n",
            "Average loss : 17.47831501680262\n",
            "-------------------\n",
            "\n",
            "Running epoch 31 / 50\n",
            "-------------------\n",
            "Training dataset :\n",
            "Average loss : 15.553217484275635.\n",
            "-------------------\n",
            "Validation dataset\n",
            "Average loss : 17.227538838106042\n",
            "-------------------\n",
            "\n",
            "Running epoch 32 / 50\n",
            "-------------------\n",
            "Training dataset :\n",
            "Average loss : 15.36962510782704.\n",
            "-------------------\n",
            "Validation dataset\n",
            "Average loss : 17.018766178804285\n",
            "-------------------\n",
            "\n",
            "Running epoch 33 / 50\n",
            "-------------------\n",
            "Training dataset :\n",
            "Average loss : 15.214152313336577.\n",
            "-------------------\n",
            "Validation dataset\n",
            "Average loss : 16.82583932315602\n",
            "-------------------\n",
            "\n",
            "Running epoch 34 / 50\n",
            "-------------------\n",
            "Training dataset :\n",
            "Average loss : 15.061126754552431.\n",
            "-------------------\n",
            "Validation dataset\n",
            "Average loss : 16.65768819696763\n",
            "-------------------\n",
            "\n",
            "Running epoch 35 / 50\n",
            "-------------------\n",
            "Training dataset :\n",
            "Average loss : 14.923544203462047.\n",
            "-------------------\n",
            "Validation dataset\n",
            "Average loss : 16.48736302992877\n",
            "-------------------\n",
            "\n",
            "Running epoch 36 / 50\n",
            "-------------------\n",
            "Training dataset :\n",
            "Average loss : 14.801892713475146.\n",
            "-------------------\n",
            "Validation dataset\n",
            "Average loss : 16.345521253698013\n",
            "-------------------\n",
            "\n",
            "Running epoch 37 / 50\n",
            "-------------------\n",
            "Training dataset :\n",
            "Average loss : 14.6883984914005.\n",
            "-------------------\n",
            "Validation dataset\n",
            "Average loss : 16.200277665082147\n",
            "-------------------\n",
            "\n",
            "Running epoch 38 / 50\n",
            "-------------------\n",
            "Training dataset :\n",
            "Average loss : 14.589416461593055.\n",
            "-------------------\n",
            "Validation dataset\n",
            "Average loss : 16.079835106344785\n",
            "-------------------\n",
            "\n",
            "Running epoch 39 / 50\n",
            "-------------------\n",
            "Training dataset :\n",
            "Average loss : 14.497518415743988.\n",
            "-------------------\n",
            "Validation dataset\n",
            "Average loss : 15.96608049729291\n",
            "-------------------\n",
            "\n",
            "Running epoch 40 / 50\n",
            "-------------------\n",
            "Training dataset :\n",
            "Average loss : 14.413824618472988.\n",
            "-------------------\n",
            "Validation dataset\n",
            "Average loss : 15.871323641608743\n",
            "-------------------\n",
            "\n",
            "Running epoch 41 / 50\n",
            "-------------------\n",
            "Training dataset :\n",
            "Average loss : 14.350615849673952.\n",
            "-------------------\n",
            "Validation dataset\n",
            "Average loss : 15.78912488151999\n",
            "-------------------\n",
            "\n",
            "Running epoch 42 / 50\n",
            "-------------------\n",
            "Training dataset :\n",
            "Average loss : 14.26628368625055.\n",
            "-------------------\n",
            "Validation dataset\n",
            "Average loss : 15.684028625488281\n",
            "-------------------\n",
            "\n",
            "Running epoch 43 / 50\n",
            "-------------------\n",
            "Training dataset :\n",
            "Average loss : 14.20509700644952.\n",
            "-------------------\n",
            "Validation dataset\n",
            "Average loss : 15.606758117675781\n",
            "-------------------\n",
            "\n",
            "Running epoch 44 / 50\n",
            "-------------------\n",
            "Training dataset :\n",
            "Average loss : 14.153507707875743.\n",
            "-------------------\n",
            "Validation dataset\n",
            "Average loss : 15.527689428890453\n",
            "-------------------\n",
            "\n",
            "Running epoch 45 / 50\n",
            "-------------------\n",
            "Training dataset :\n",
            "Average loss : 14.09482308866221.\n",
            "-------------------\n",
            "Validation dataset\n",
            "Average loss : 15.460225161384134\n",
            "-------------------\n",
            "\n",
            "Running epoch 46 / 50\n",
            "-------------------\n",
            "Training dataset :\n",
            "Average loss : 14.045046389713223.\n",
            "-------------------\n",
            "Validation dataset\n",
            "Average loss : 15.412394130931181\n",
            "-------------------\n",
            "\n",
            "Running epoch 47 / 50\n",
            "-------------------\n",
            "Training dataset :\n",
            "Average loss : 14.002990488306247.\n",
            "-------------------\n",
            "Validation dataset\n",
            "Average loss : 15.347573785220876\n",
            "-------------------\n",
            "\n",
            "Running epoch 48 / 50\n",
            "-------------------\n",
            "Training dataset :\n",
            "Average loss : 13.958036673353801.\n",
            "-------------------\n",
            "Validation dataset\n",
            "Average loss : 15.30565979901482\n",
            "-------------------\n",
            "\n",
            "Running epoch 49 / 50\n",
            "-------------------\n",
            "Training dataset :\n",
            "Average loss : 13.917050156577048.\n",
            "-------------------\n",
            "Validation dataset\n",
            "Average loss : 15.260146702037138\n",
            "-------------------\n",
            "\n",
            "Running epoch 50 / 50\n",
            "-------------------\n",
            "Training dataset :\n",
            "Average loss : 13.883145641548236.\n",
            "-------------------\n",
            "Validation dataset\n",
            "Average loss : 15.21958205279182\n",
            "-------------------\n",
            "\n"
          ],
          "name": "stdout"
        },
        {
          "output_type": "display_data",
          "data": {
            "image/png": "[encoded data removed]",
            "text/plain": [
              "<Figure size 432x288 with 1 Axes>"
            ]
          },
          "metadata": {
            "tags": [],
            "needs_background": "light"
          }
        }
      ]
    },
    {
      "cell_type": "markdown",
      "metadata": {
        "colab_type": "text",
        "id": "TKrYW4gK1BBF"
      },
      "source": [
        "### b- Evaluation: the Phone Error Rate (PER)\n",
        "\n",
        "In order to compute the similarity between two sequences, we can use the [Levenshtein distance](https://en.wikipedia.org/wiki/Levenshtein_distance). This distance estimates the minimum number of insertion, deletion and addition to move from one sequence to another. If we normalize this distance by the number of characters in the reference sequence we get the Phone Error Rate (PER).\n",
        "\n",
        "This value can be interpreted as :\n",
        "\\\\[  PER = \\frac{S + D + I}{N} \\\\]\n",
        "\n",
        "Where:\n",
        "\n",
        "\n",
        "*   N is the number of characters in the reference\n",
        "*   S is the number of substitutiion\n",
        "*   I in the number of insertion\n",
        "*   D in the number of deletion\n",
        "\n",
        "For the best possible alignment of the two sequences.\n",
        "\n"
      ]
    },
    {
      "cell_type": "code",
      "metadata": {
        "colab_type": "code",
        "id": "RoBhsx7GNqI_",
        "colab": {}
      },
      "source": [
        "import numpy as np\n",
        "\n",
        "def get_PER_sequence(ref_seq, target_seq):\n",
        "\n",
        "  # re = g.split()\n",
        "  # h = h.split()\n",
        "  n = len(ref_seq)\n",
        "  m = len(target_seq)\n",
        "\n",
        "  D = np.zeros((n+1,m+1))\n",
        "  for i in range(1,n+1):\n",
        "    D[i,0] = D[i-1,0]+1\n",
        "  for j in range(1,m+1):\n",
        "    D[0,j] = D[0,j-1]+1\n",
        "  \n",
        "  ### TODO compute the alignment\n",
        "\n",
        "  for i in range(1,n+1):\n",
        "    for j in range(1,m+1):\n",
        "      D[i,j] = min(\n",
        "          D[i-1,j]+1,\n",
        "          D[i-1,j-1]+1,\n",
        "          D[i,j-1]+1,\n",
        "          D[i-1,j-1]+ 0 if ref_seq[i-1]==target_seq[j-1] else float(\"inf\")\n",
        "      )\n",
        "  return D[n,m]/len(ref_seq)\n",
        "  \n",
        "\n",
        "  #return PER"
      ],
      "execution_count": 43,
      "outputs": []
    },
    {
      "cell_type": "markdown",
      "metadata": {
        "colab_type": "text",
        "id": "r-hr0KK0mgcR"
      },
      "source": [
        "You can test your function below:"
      ]
    },
    {
      "cell_type": "code",
      "metadata": {
        "colab_type": "code",
        "id": "AfTb3yOQmvey",
        "colab": {
          "base_uri": "https://localhost:8080/",
          "height": 34
        },
        "outputId": "7e9f9df3-954d-459d-fee5-0488d7a18d4f"
      },
      "source": [
        "ref_seq = [0, 1, 1, 2, 0, 2, 2]\n",
        "pred_seq = [1, 1, 2, 2, 0, 0]\n",
        "\n",
        "expected_PER = 4. / 7.\n",
        "print(get_PER_sequence(ref_seq, pred_seq) == expected_PER)"
      ],
      "execution_count": 44,
      "outputs": [
        {
          "output_type": "stream",
          "text": [
            "True\n"
          ],
          "name": "stdout"
        }
      ]
    },
    {
      "cell_type": "markdown",
      "metadata": {
        "colab_type": "text",
        "id": "nHiyChl-m_k7"
      },
      "source": [
        "## c- Evaluating the PER of your model on the test dataset\n",
        "\n",
        "Evaluate the PER on the validation dataset. Please notice that you should usually use a separate dataset, called the dev dataset, to perform this operation. However for the sake of simplicity we will work with validation data in this exercise."
      ]
    },
    {
      "cell_type": "code",
      "metadata": {
        "colab_type": "code",
        "id": "DMkX0PoFnclg",
        "colab": {}
      },
      "source": [
        "import progressbar\n",
        "from multiprocessing import Pool\n",
        "\n",
        "def cut_data(seq, sizeSeq):\n",
        "    maxSeq = sizeSeq.max()\n",
        "    return seq[:, :maxSeq]\n",
        "\n",
        "\n",
        "def prepare_data(data):\n",
        "    seq, sizeSeq, phone, sizePhone = data\n",
        "    seq = seq.cuda()\n",
        "    phone = phone.cuda()\n",
        "    sizeSeq = sizeSeq.cuda().view(-1)\n",
        "    sizePhone = sizePhone.cuda().view(-1)\n",
        "\n",
        "    seq = cut_data(seq.permute(0, 2, 1), sizeSeq).permute(0, 2, 1)\n",
        "    return seq, sizeSeq, phone, sizePhone\n",
        "\n",
        "\n",
        "def get_per(test_dataloader,\n",
        "            cpc_model,\n",
        "            phone_classifier):\n",
        "\n",
        "  downsampling_factor = 160\n",
        "  cpc_model.eval()\n",
        "  phone_classifier.eval()\n",
        "\n",
        "  avgPER = 0\n",
        "  nItems = 0 \n",
        "\n",
        "  print(\"Starting the PER computation through beam search\")\n",
        "  bar = progressbar.ProgressBar(maxval=len(test_dataloader))\n",
        "  bar.start()\n",
        "\n",
        "  for index, data in enumerate(test_dataloader):\n",
        "\n",
        "    bar.update(index)\n",
        "\n",
        "    with torch.no_grad():\n",
        "      \n",
        "        seq, sizeSeq, phone, sizePhone = prepare_data(data)\n",
        "        c_feature, _, _ = cpc_model(seq.to(device),phone.to(device))\n",
        "        sizeSeq = sizeSeq / downsampling_factor\n",
        "        predictions = torch.nn.functional.softmax(\n",
        "        phone_classifier(c_feature), dim=2).cpu()\n",
        "        phone = phone.cpu()\n",
        "        sizeSeq = sizeSeq.cpu()\n",
        "        sizePhone = sizePhone.cpu()\n",
        "\n",
        "        bs = c_feature.size(0)\n",
        "        data_per = [(predictions[b].argmax(1),  phone[b]) for b in range(bs)]\n",
        "        # data_per = [(predictions[b], sizeSeq[b], phone[b], sizePhone[b],\n",
        "        #               \"criterion.module.BLANK_LABEL\") for b in range(bs)]\n",
        "\n",
        "        with Pool(bs) as p:\n",
        "            poolData = p.starmap(get_PER_sequence, data_per)\n",
        "        avgPER += sum([x for x in poolData])\n",
        "        nItems += len(poolData)\n",
        "\n",
        "  bar.finish()\n",
        "\n",
        "  avgPER /= nItems\n",
        "\n",
        "  print(f\"Average PER {avgPER}\")\n",
        "  return avgPER\n"
      ],
      "execution_count": 45,
      "outputs": []
    },
    {
      "cell_type": "code",
      "metadata": {
        "colab_type": "code",
        "id": "2hvnudh4Osb4",
        "colab": {
          "base_uri": "https://localhost:8080/",
          "height": 104
        },
        "outputId": "f6512cd0-212b-4d61-b570-1b827342971b"
      },
      "source": [
        "get_per(data_loader_val,cpc_model,phone_classifier)"
      ],
      "execution_count": 46,
      "outputs": [
        {
          "output_type": "stream",
          "text": [
            "\r                                                                               \r\rN/A% (0 of 9) |                          | Elapsed Time: 0:00:00 ETA:  --:--:--"
          ],
          "name": "stderr"
        },
        {
          "output_type": "stream",
          "text": [
            "Starting the PER computation through beam search\n"
          ],
          "name": "stdout"
        },
        {
          "output_type": "stream",
          "text": [
            "100% (9 of 9) |##########################| Elapsed Time: 0:02:43 Time:  0:02:43\n"
          ],
          "name": "stderr"
        },
        {
          "output_type": "stream",
          "text": [
            "Average PER 0.961782155026922\n"
          ],
          "name": "stdout"
        },
        {
          "output_type": "execute_result",
          "data": {
            "text/plain": [
              "0.961782155026922"
            ]
          },
          "metadata": {
            "tags": []
          },
          "execution_count": 46
        }
      ]
    },
    {
      "cell_type": "markdown",
      "metadata": {
        "colab_type": "text",
        "id": "p8e9D7g8159k"
      },
      "source": [
        "## Exercice 3 : Character error rate (CER) \n",
        "\n",
        "The Character Error Rate (CER) is an evaluation metric similar to the PER but with characters insterad of phonemes. Using the following data, run the functions you defined previously to estimate the CER of your model after fine-tuning."
      ]
    },
    {
      "cell_type": "code",
      "metadata": {
        "colab_type": "code",
        "id": "cXONmKQOuFSn",
        "colab": {
          "base_uri": "https://localhost:8080/",
          "height": 278
        },
        "outputId": "20964c7d-8b9c-4e83-9de3-61332e18666a"
      },
      "source": [
        "# Load a dataset labelled with the letters of each sequence.\n",
        "%cd /content/CPC_audio\n",
        "from cpc.eval.common_voices_eval import SingleSequenceDataset, parseSeqLabels, findAllSeqs\n",
        "path_train_data_cer = '/content/drive/My Drive/Speech Rec Project/data/train'\n",
        "path_val_data_cer = '/content/drive/My Drive/Speech Rec Project/data/validation'\n",
        "path_letter_data_cer = '/content/drive/My Drive/Speech Rec Project/data/all_sessions.txt'\n",
        "BATCH_SIZE=8\n",
        "\n",
        "letters_labels, N_LETTERS = parseSeqLabels(path_letter_data_cer)\n",
        "data_train_cer, _ = findAllSeqs(path_train_data_cer, extension='.wav')\n",
        "dataset_train_non_aligned = SingleSequenceDataset(path_train_data_cer, data_train_cer, letters_labels)\n",
        "\n",
        "\n",
        "data_val_cer, _ = findAllSeqs(path_val_data_cer, extension='.wav')\n",
        "dataset_val_non_aligned = SingleSequenceDataset(path_val_data_cer, data_val_cer, letters_labels)\n",
        "\n",
        "\n",
        "# The data loader will generate a tuple of tensors data, labels for each batch\n",
        "# data : size N x T1 x 1 : the audio sequence\n",
        "# label : size N x T2 the sequence of letters corresponding to the audio data\n",
        "# IMPORTANT NOTE: just like the PER the CER is computed with non-aligned phone data.\n",
        "data_loader_train_letters = torch.utils.data.DataLoader(dataset_train_non_aligned, batch_size=BATCH_SIZE,\n",
        "                                                shuffle=True)\n",
        "data_loader_val_letters = torch.utils.data.DataLoader(dataset_val_non_aligned, batch_size=BATCH_SIZE,\n",
        "                                              shuffle=True)"
      ],
      "execution_count": 47,
      "outputs": [
        {
          "output_type": "stream",
          "text": [
            "5it [00:00, 336.68it/s]"
          ],
          "name": "stderr"
        },
        {
          "output_type": "stream",
          "text": [
            "/content/CPC_audio\n",
            "Saved cache file at /content/drive/My Drive/Speech Rec Project/data/train/_seqs_cache.txt\n"
          ],
          "name": "stdout"
        },
        {
          "output_type": "stream",
          "text": [
            "\n",
            "3it [00:00, 321.66it/s]"
          ],
          "name": "stderr"
        },
        {
          "output_type": "stream",
          "text": [
            "Loaded 294 sequences in 2.95 seconds\n",
            "maxSizeSeq : 383691\n",
            "maxSizePhone : 149\n",
            "minSizePhone : 13\n",
            "Total size dataset 0.8135741319444444 hours\n",
            "Saved cache file at /content/drive/My Drive/Speech Rec Project/data/validation/_seqs_cache.txt\n"
          ],
          "name": "stdout"
        },
        {
          "output_type": "stream",
          "text": [
            "\n"
          ],
          "name": "stderr"
        },
        {
          "output_type": "stream",
          "text": [
            "Loaded 69 sequences in 1.87 seconds\n",
            "maxSizeSeq : 348480\n",
            "maxSizePhone : 113\n",
            "minSizePhone : 15\n",
            "Total size dataset 0.18027109375 hours\n"
          ],
          "name": "stdout"
        }
      ]
    },
    {
      "cell_type": "code",
      "metadata": {
        "colab_type": "code",
        "id": "9h07zI2LjzAU",
        "colab": {
          "base_uri": "https://localhost:8080/",
          "height": 52
        },
        "outputId": "8f02dd81-2c2b-41cf-d228-223c21c39c58"
      },
      "source": [
        "from cpc.feature_loader import loadModel\n",
        "\n",
        "checkpoint_path = 'checkpoint_data/checkpoint_30.pt'\n",
        "cpc_model, HIDDEN_CONTEXT_MODEL, HIDDEN_ENCODER_MODEL = loadModel([checkpoint_path])\n",
        "cpc_model = cpc_model.cuda()\n",
        "character_classifier = PhoneClassifier(HIDDEN_CONTEXT_MODEL, N_LETTERS).to(device)"
      ],
      "execution_count": 48,
      "outputs": [
        {
          "output_type": "stream",
          "text": [
            "Loading checkpoint checkpoint_data/checkpoint_30.pt\n",
            "Loading the state dict at checkpoint_data/checkpoint_30.pt\n"
          ],
          "name": "stdout"
        }
      ]
    },
    {
      "cell_type": "code",
      "metadata": {
        "colab_type": "code",
        "id": "rHCNg1E7lW1L",
        "colab": {}
      },
      "source": [
        "parameters = list(character_classifier.parameters()) + list(cpc_model.parameters())\n",
        "LEARNING_RATE = 2e-4\n",
        "optimizer = torch.optim.Adam(parameters, lr=LEARNING_RATE)\n",
        "\n",
        "optimizer_frozen = torch.optim.Adam(list(character_classifier.parameters()), lr=LEARNING_RATE)"
      ],
      "execution_count": 49,
      "outputs": []
    },
    {
      "cell_type": "code",
      "metadata": {
        "colab_type": "code",
        "id": "engpkljbk9hj",
        "colab": {}
      },
      "source": [
        "loss_ctc = torch.nn.CTCLoss()"
      ],
      "execution_count": 50,
      "outputs": []
    },
    {
      "cell_type": "code",
      "metadata": {
        "colab_type": "code",
        "id": "9NBHd2s2kxld",
        "colab": {
          "base_uri": "https://localhost:8080/",
          "height": 1000
        },
        "outputId": "ff76e546-f5cb-4427-da04-c105a2e65727"
      },
      "source": [
        "run_ctc(cpc_model,character_classifier,loss_ctc,data_loader_train_letters,data_loader_val_letters,optimizer_frozen,n_epoch=50)"
      ],
      "execution_count": 53,
      "outputs": [
        {
          "output_type": "stream",
          "text": [
            "Running epoch 1 / 50\n",
            "-------------------\n",
            "Training dataset :\n",
            "Average loss : 74.76268730554158.\n",
            "-------------------\n",
            "Validation dataset\n",
            "Average loss : 77.89149385340073\n",
            "-------------------\n",
            "\n",
            "Running epoch 2 / 50\n",
            "-------------------\n",
            "Training dataset :\n",
            "Average loss : 68.76425493780664.\n",
            "-------------------\n",
            "Validation dataset\n",
            "Average loss : 71.1734287037569\n",
            "-------------------\n",
            "\n",
            "Running epoch 3 / 50\n",
            "-------------------\n",
            "Training dataset :\n",
            "Average loss : 62.49975684885279.\n",
            "-------------------\n",
            "Validation dataset\n",
            "Average loss : 64.35291065889247\n",
            "-------------------\n",
            "\n",
            "Running epoch 4 / 50\n",
            "-------------------\n",
            "Training dataset :\n",
            "Average loss : 56.388662709311006.\n",
            "-------------------\n",
            "Validation dataset\n",
            "Average loss : 57.87311643712661\n",
            "-------------------\n",
            "\n",
            "Running epoch 5 / 50\n",
            "-------------------\n",
            "Training dataset :\n",
            "Average loss : 50.629259740940135.\n",
            "-------------------\n",
            "Validation dataset\n",
            "Average loss : 51.6694896922392\n",
            "-------------------\n",
            "\n",
            "Running epoch 6 / 50\n",
            "-------------------\n",
            "Training dataset :\n",
            "Average loss : 45.192375170086024.\n",
            "-------------------\n",
            "Validation dataset\n",
            "Average loss : 46.18625842823702\n",
            "-------------------\n",
            "\n",
            "Running epoch 7 / 50\n",
            "-------------------\n",
            "Training dataset :\n",
            "Average loss : 40.30786648382506.\n",
            "-------------------\n",
            "Validation dataset\n",
            "Average loss : 41.18250813203699\n",
            "-------------------\n",
            "\n",
            "Running epoch 8 / 50\n",
            "-------------------\n",
            "Training dataset :\n",
            "Average loss : 35.91621418454948.\n",
            "-------------------\n",
            "Validation dataset\n",
            "Average loss : 36.72881160062902\n",
            "-------------------\n",
            "\n",
            "Running epoch 9 / 50\n",
            "-------------------\n",
            "Training dataset :\n",
            "Average loss : 32.01227671131746.\n",
            "-------------------\n",
            "Validation dataset\n",
            "Average loss : 32.860727310180664\n",
            "-------------------\n",
            "\n",
            "Running epoch 10 / 50\n",
            "-------------------\n",
            "Training dataset :\n",
            "Average loss : 28.597709493018662.\n",
            "-------------------\n",
            "Validation dataset\n",
            "Average loss : 29.480061699362363\n",
            "-------------------\n",
            "\n",
            "Running epoch 11 / 50\n",
            "-------------------\n",
            "Training dataset :\n",
            "Average loss : 25.611790647278873.\n",
            "-------------------\n",
            "Validation dataset\n",
            "Average loss : 26.629177317899817\n",
            "-------------------\n",
            "\n",
            "Running epoch 12 / 50\n",
            "-------------------\n",
            "Training dataset :\n",
            "Average loss : 23.071154187563742.\n",
            "-------------------\n",
            "Validation dataset\n",
            "Average loss : 24.099597930908203\n",
            "-------------------\n",
            "\n",
            "Running epoch 13 / 50\n",
            "-------------------\n",
            "Training dataset :\n",
            "Average loss : 20.86201705542034.\n",
            "-------------------\n",
            "Validation dataset\n",
            "Average loss : 22.000793232637292\n",
            "-------------------\n",
            "\n",
            "Running epoch 14 / 50\n",
            "-------------------\n",
            "Training dataset :\n",
            "Average loss : 19.003607775977855.\n",
            "-------------------\n",
            "Validation dataset\n",
            "Average loss : 20.159260244930493\n",
            "-------------------\n",
            "\n",
            "Running epoch 15 / 50\n",
            "-------------------\n",
            "Training dataset :\n",
            "Average loss : 17.403144504429942.\n",
            "-------------------\n",
            "Validation dataset\n",
            "Average loss : 18.631502824671127\n",
            "-------------------\n",
            "\n",
            "Running epoch 16 / 50\n",
            "-------------------\n",
            "Training dataset :\n",
            "Average loss : 16.050554978562705.\n",
            "-------------------\n",
            "Validation dataset\n",
            "Average loss : 17.294048870311062\n",
            "-------------------\n",
            "\n",
            "Running epoch 17 / 50\n",
            "-------------------\n",
            "Training dataset :\n",
            "Average loss : 14.878603033645161.\n",
            "-------------------\n",
            "Validation dataset\n",
            "Average loss : 16.14829787086038\n",
            "-------------------\n",
            "\n",
            "Running epoch 18 / 50\n",
            "-------------------\n",
            "Training dataset :\n",
            "Average loss : 13.868375423418376.\n",
            "-------------------\n",
            "Validation dataset\n",
            "Average loss : 15.142934574800378\n",
            "-------------------\n",
            "\n",
            "Running epoch 19 / 50\n",
            "-------------------\n",
            "Training dataset :\n",
            "Average loss : 12.985330871347681.\n",
            "-------------------\n",
            "Validation dataset\n",
            "Average loss : 14.26510238647461\n",
            "-------------------\n",
            "\n",
            "Running epoch 20 / 50\n",
            "-------------------\n",
            "Training dataset :\n",
            "Average loss : 12.22353500717736.\n",
            "-------------------\n",
            "Validation dataset\n",
            "Average loss : 13.480453715604895\n",
            "-------------------\n",
            "\n",
            "Running epoch 21 / 50\n",
            "-------------------\n",
            "Training dataset :\n",
            "Average loss : 11.550721542827098.\n",
            "-------------------\n",
            "Validation dataset\n",
            "Average loss : 12.805940740248737\n",
            "-------------------\n",
            "\n",
            "Running epoch 22 / 50\n",
            "-------------------\n",
            "Training dataset :\n",
            "Average loss : 10.964343692662366.\n",
            "-------------------\n",
            "Validation dataset\n",
            "Average loss : 12.189259585212259\n",
            "-------------------\n",
            "\n",
            "Running epoch 23 / 50\n",
            "-------------------\n",
            "Training dataset :\n",
            "Average loss : 10.44572659319985.\n",
            "-------------------\n",
            "Validation dataset\n",
            "Average loss : 11.640628814697266\n",
            "-------------------\n",
            "\n",
            "Running epoch 24 / 50\n",
            "-------------------\n",
            "Training dataset :\n",
            "Average loss : 9.983878573459977.\n",
            "-------------------\n",
            "Validation dataset\n",
            "Average loss : 11.149576635921703\n",
            "-------------------\n",
            "\n",
            "Running epoch 25 / 50\n",
            "-------------------\n",
            "Training dataset :\n",
            "Average loss : 9.570655897615712.\n",
            "-------------------\n",
            "Validation dataset\n",
            "Average loss : 10.71786751466639\n",
            "-------------------\n",
            "\n",
            "Running epoch 26 / 50\n",
            "-------------------\n",
            "Training dataset :\n",
            "Average loss : 9.199352436911937.\n",
            "-------------------\n",
            "Validation dataset\n",
            "Average loss : 10.32267957575181\n",
            "-------------------\n",
            "\n",
            "Running epoch 27 / 50\n",
            "-------------------\n",
            "Training dataset :\n",
            "Average loss : 8.862949234633723.\n",
            "-------------------\n",
            "Validation dataset\n",
            "Average loss : 9.955874274758731\n",
            "-------------------\n",
            "\n",
            "Running epoch 28 / 50\n",
            "-------------------\n",
            "Training dataset :\n",
            "Average loss : 8.552696110852342.\n",
            "-------------------\n",
            "Validation dataset\n",
            "Average loss : 9.614878934972426\n",
            "-------------------\n",
            "\n",
            "Running epoch 29 / 50\n",
            "-------------------\n",
            "Training dataset :\n",
            "Average loss : 8.266132312423133.\n",
            "-------------------\n",
            "Validation dataset\n",
            "Average loss : 9.293534783756032\n",
            "-------------------\n",
            "\n",
            "Running epoch 30 / 50\n",
            "-------------------\n",
            "Training dataset :\n",
            "Average loss : 7.9958215052764166.\n",
            "-------------------\n",
            "Validation dataset\n",
            "Average loss : 8.98947177213781\n",
            "-------------------\n",
            "\n",
            "Running epoch 31 / 50\n",
            "-------------------\n",
            "Training dataset :\n",
            "Average loss : 7.738306930854459.\n",
            "-------------------\n",
            "Validation dataset\n",
            "Average loss : 8.688040004057044\n",
            "-------------------\n",
            "\n",
            "Running epoch 32 / 50\n",
            "-------------------\n",
            "Training dataset :\n",
            "Average loss : 7.488712740432687.\n",
            "-------------------\n",
            "Validation dataset\n",
            "Average loss : 8.380909583147835\n",
            "-------------------\n",
            "\n",
            "Running epoch 33 / 50\n",
            "-------------------\n",
            "Training dataset :\n",
            "Average loss : 7.243952209225287.\n",
            "-------------------\n",
            "Validation dataset\n",
            "Average loss : 8.0683733996223\n",
            "-------------------\n",
            "\n",
            "Running epoch 34 / 50\n",
            "-------------------\n",
            "Training dataset :\n",
            "Average loss : 6.994055819592785.\n",
            "-------------------\n",
            "Validation dataset\n",
            "Average loss : 7.753573417663574\n",
            "-------------------\n",
            "\n",
            "Running epoch 35 / 50\n",
            "-------------------\n",
            "Training dataset :\n",
            "Average loss : 6.748523345986324.\n",
            "-------------------\n",
            "Validation dataset\n",
            "Average loss : 7.4033598338856415\n",
            "-------------------\n",
            "\n",
            "Running epoch 36 / 50\n",
            "-------------------\n",
            "Training dataset :\n",
            "Average loss : 6.503157610779329.\n",
            "-------------------\n",
            "Validation dataset\n",
            "Average loss : 7.0638815935920265\n",
            "-------------------\n",
            "\n",
            "Running epoch 37 / 50\n",
            "-------------------\n",
            "Training dataset :\n",
            "Average loss : 6.282821067771001.\n",
            "-------------------\n",
            "Validation dataset\n",
            "Average loss : 6.767260691698859\n",
            "-------------------\n",
            "\n",
            "Running epoch 38 / 50\n",
            "-------------------\n",
            "Training dataset :\n",
            "Average loss : 6.0893169588603255.\n",
            "-------------------\n",
            "Validation dataset\n",
            "Average loss : 6.506984570447137\n",
            "-------------------\n",
            "\n",
            "Running epoch 39 / 50\n",
            "-------------------\n",
            "Training dataset :\n",
            "Average loss : 5.911511105482082.\n",
            "-------------------\n",
            "Validation dataset\n",
            "Average loss : 6.260630916146671\n",
            "-------------------\n",
            "\n",
            "Running epoch 40 / 50\n",
            "-------------------\n",
            "Training dataset :\n",
            "Average loss : 5.741009056364717.\n",
            "-------------------\n",
            "Validation dataset\n",
            "Average loss : 6.02218167922076\n",
            "-------------------\n",
            "\n",
            "Running epoch 41 / 50\n",
            "-------------------\n",
            "Training dataset :\n",
            "Average loss : 5.583525665790962.\n",
            "-------------------\n",
            "Validation dataset\n",
            "Average loss : 5.82477263843312\n",
            "-------------------\n",
            "\n",
            "Running epoch 42 / 50\n",
            "-------------------\n",
            "Training dataset :\n",
            "Average loss : 5.451827963871354.\n",
            "-------------------\n",
            "Validation dataset\n",
            "Average loss : 5.663064367630902\n",
            "-------------------\n",
            "\n",
            "Running epoch 43 / 50\n",
            "-------------------\n",
            "Training dataset :\n",
            "Average loss : 5.343585015970692.\n",
            "-------------------\n",
            "Validation dataset\n",
            "Average loss : 5.5229956963483025\n",
            "-------------------\n",
            "\n",
            "Running epoch 44 / 50\n",
            "-------------------\n",
            "Training dataset :\n",
            "Average loss : 5.252963746367054.\n",
            "-------------------\n",
            "Validation dataset\n",
            "Average loss : 5.407340049743652\n",
            "-------------------\n",
            "\n",
            "Running epoch 45 / 50\n",
            "-------------------\n",
            "Training dataset :\n",
            "Average loss : 5.176171198639853.\n",
            "-------------------\n",
            "Validation dataset\n",
            "Average loss : 5.313090745140524\n",
            "-------------------\n",
            "\n",
            "Running epoch 46 / 50\n",
            "-------------------\n",
            "Training dataset :\n",
            "Average loss : 5.111886952110525.\n",
            "-------------------\n",
            "Validation dataset\n",
            "Average loss : 5.231518913717831\n",
            "-------------------\n",
            "\n",
            "Running epoch 47 / 50\n",
            "-------------------\n",
            "Training dataset :\n",
            "Average loss : 5.0561058529407905.\n",
            "-------------------\n",
            "Validation dataset\n",
            "Average loss : 5.161150876213522\n",
            "-------------------\n",
            "\n",
            "Running epoch 48 / 50\n",
            "-------------------\n",
            "Training dataset :\n",
            "Average loss : 5.0081981603602905.\n",
            "-------------------\n",
            "Validation dataset\n",
            "Average loss : 5.098984886618221\n",
            "-------------------\n",
            "\n",
            "Running epoch 49 / 50\n",
            "-------------------\n",
            "Training dataset :\n",
            "Average loss : 4.96557183477252.\n",
            "-------------------\n",
            "Validation dataset\n",
            "Average loss : 5.0462280161240525\n",
            "-------------------\n",
            "\n",
            "Running epoch 50 / 50\n",
            "-------------------\n",
            "Training dataset :\n",
            "Average loss : 4.928608109926608.\n",
            "-------------------\n",
            "Validation dataset\n",
            "Average loss : 4.997974227456486\n",
            "-------------------\n",
            "\n"
          ],
          "name": "stdout"
        },
        {
          "output_type": "display_data",
          "data": {
            "image/png": "[encoded data removed]",
            "text/plain": [
              "<Figure size 432x288 with 1 Axes>"
            ]
          },
          "metadata": {
            "tags": [],
            "needs_background": "light"
          }
        }
      ]
    },
    {
      "cell_type": "code",
      "metadata": {
        "colab_type": "code",
        "id": "A8oxFr1jm17P",
        "colab": {
          "base_uri": "https://localhost:8080/",
          "height": 104
        },
        "outputId": "d6cb8ca7-5912-498e-b31d-7d01c1583578"
      },
      "source": [
        "    cer = get_per(data_loader_val_letters,cpc_model,character_classifier)\n",
        "print(cer)"
      ],
      "execution_count": 54,
      "outputs": [
        {
          "output_type": "stream",
          "text": [
            "\r                                                                               \r\rN/A% (0 of 9) |                          | Elapsed Time: 0:00:00 ETA:  --:--:--"
          ],
          "name": "stderr"
        },
        {
          "output_type": "stream",
          "text": [
            "Starting the PER computation through beam search\n"
          ],
          "name": "stdout"
        },
        {
          "output_type": "stream",
          "text": [
            "100% (9 of 9) |##########################| Elapsed Time: 0:02:34 Time:  0:02:34\n"
          ],
          "name": "stderr"
        },
        {
          "output_type": "stream",
          "text": [
            "Average PER 0.9575783463342669\n",
            "0.9575783463342669\n"
          ],
          "name": "stdout"
        }
      ]
    },
    {
      "cell_type": "code",
      "metadata": {
        "id": "5rZp30HEMK8d",
        "colab_type": "code",
        "colab": {}
      },
      "source": [
        ""
      ],
      "execution_count": null,
      "outputs": []
    },
    {
      "cell_type": "markdown",
      "metadata": {
        "id": "MfvEtL3zdc5-",
        "colab_type": "text"
      },
      "source": [
        "## Using Test Files"
      ]
    },
    {
      "cell_type": "markdown",
      "metadata": {
        "id": "K7ABjAvuvyFa",
        "colab_type": "text"
      },
      "source": [
        "Character Error Rate"
      ]
    },
    {
      "cell_type": "code",
      "metadata": {
        "id": "yzq8EKCWi66w",
        "colab_type": "code",
        "colab": {
          "base_uri": "https://localhost:8080/",
          "height": 139
        },
        "outputId": "32e02372-1fd1-40eb-8904-e2d9b0c5b016"
      },
      "source": [
        "from cpc.eval.common_voices_eval import SingleSequenceDataset, parseSeqLabels, findAllSeqs\n",
        "path_test_data_cer = '/content/drive/My Drive/Speech Rec Project/data/test'\n",
        "path_letter_data_cer = '/content/drive/My Drive/Speech Rec Project/data/all_sessions.txt'\n",
        "BATCH_SIZE=8\n",
        "letters_labels, N_LETTERS = parseSeqLabels(path_letter_data_cer)\n",
        "data_train_cer, _ = findAllSeqs(path_test_data_cer, extension='.wav')\n",
        "dataset_test_non_aligned = SingleSequenceDataset(path_test_data_cer, data_train_cer, letters_labels)\n",
        "# The data loader will generate a tuple of tensors data, labels for each batch\n",
        "# data : size N x T1 x 1 : the audio sequence\n",
        "# label : size N x T2 the sequence of letters corresponding to the audio data\n",
        "# IMPORTANT NOTE: just like the PER the CER is computed with non-aligned phone data.\n",
        "data_loader_test_letters = torch.utils.data.DataLoader(dataset_test_non_aligned, batch_size=BATCH_SIZE,\n",
        "                                                shuffle=True)\n"
      ],
      "execution_count": 70,
      "outputs": [
        {
          "output_type": "stream",
          "text": [
            "4it [00:00, 204.41it/s]"
          ],
          "name": "stderr"
        },
        {
          "output_type": "stream",
          "text": [
            "Saved cache file at /content/drive/My Drive/Speech Rec Project/data/test/_seqs_cache.txt\n"
          ],
          "name": "stdout"
        },
        {
          "output_type": "stream",
          "text": [
            "\n"
          ],
          "name": "stderr"
        },
        {
          "output_type": "stream",
          "text": [
            "Loaded 544 sequences in 3.80 seconds\n",
            "maxSizeSeq : 203643\n",
            "maxSizePhone : 73\n",
            "minSizePhone : 12\n",
            "Total size dataset 0.7622940798611111 hours\n"
          ],
          "name": "stdout"
        }
      ]
    },
    {
      "cell_type": "code",
      "metadata": {
        "id": "Na29__Usk9dg",
        "colab_type": "code",
        "colab": {}
      },
      "source": [
        "loss = validation_step(cpc_model,  character_classifier, loss_ctc, data_loader_test_letters)\n",
        " "
      ],
      "execution_count": 72,
      "outputs": []
    },
    {
      "cell_type": "code",
      "metadata": {
        "id": "vktrn-Ju1mx8",
        "colab_type": "code",
        "colab": {
          "base_uri": "https://localhost:8080/",
          "height": 34
        },
        "outputId": "06647e56-7b6f-4204-c43a-c6081e413954"
      },
      "source": [
        "print(f\"Average loss for test data : {loss}\")"
      ],
      "execution_count": 73,
      "outputs": [
        {
          "output_type": "stream",
          "text": [
            "Average loss for test data : 4.928450166410724\n"
          ],
          "name": "stdout"
        }
      ]
    },
    {
      "cell_type": "code",
      "metadata": {
        "id": "61aL_n0X2EDC",
        "colab_type": "code",
        "colab": {
          "base_uri": "https://localhost:8080/",
          "height": 766
        },
        "outputId": "5b9a5c54-3a5a-436a-c8ea-20fab7c82be3"
      },
      "source": [
        "from cpc.eval.common_voices_eval import SingleSequenceDataset, parseSeqLabels, findAllSeqs\n",
        "path_test_data_cer = '/content/drive/My Drive/Speech Rec Project/test'\n",
        "path_letter_data_cer = '/content/drive/My Drive/Speech Rec Project/all_sessions.txt'\n",
        "BATCH_SIZE=8\n",
        "letters_labels, N_LETTERS = parseSeqLabels(path_letter_data_cer)\n",
        "data_train_cer, _ = findAllSeqs(path_test_data_cer, extension='.wav')\n",
        "dataset_test_non_aligned = SingleSequenceDataset(path_test_data_cer, data_train_cer, letters_labels)\n",
        "# The data loader will generate a tuple of tensors data, labels for each batch\n",
        "# data : size N x T1 x 1 : the audio sequence\n",
        "# label : size N x T2 the sequence of letters corresponding to the audio data\n",
        "# IMPORTANT NOTE: just like the PER the CER is computed with non-aligned phone data.\n",
        "data_loader_test_letters = torch.utils.data.DataLoader(dataset_test_non_aligned, batch_size=BATCH_SIZE,\n",
        "                                                shuffle=True)"
      ],
      "execution_count": 75,
      "outputs": [
        {
          "output_type": "stream",
          "text": [
            "11it [00:00, 365.68it/s]"
          ],
          "name": "stderr"
        },
        {
          "output_type": "stream",
          "text": [
            "Ran in an error while saving /content/drive/My Drive/Speech Rec Project/test/_seqs_cache.txt: [Errno 1] Operation not permitted: '/content/drive/My Drive/Speech Rec Project/test/_seqs_cache.txt'\n"
          ],
          "name": "stdout"
        },
        {
          "output_type": "stream",
          "text": [
            "\n"
          ],
          "name": "stderr"
        },
        {
          "output_type": "error",
          "ename": "RuntimeError",
          "evalue": "ignored",
          "traceback": [
            "\u001b[0;31m---------------------------------------------------------------------------\u001b[0m",
            "\u001b[0;31mRemoteTraceback\u001b[0m                           Traceback (most recent call last)",
            "\u001b[0;31mRemoteTraceback\u001b[0m: \n\"\"\"\nTraceback (most recent call last):\n  File \"/usr/lib/python3.6/multiprocessing/pool.py\", line 119, in worker\n    result = (True, func(*args, **kwds))\n  File \"/usr/lib/python3.6/multiprocessing/pool.py\", line 44, in mapstar\n    return list(map(*args))\n  File \"/content/CPC_audio/cpc/eval/common_voices_eval.py\", line 28, in load\n    data = torchaudio.load(str(path_item))[0].view(1, -1)\n  File \"/usr/local/lib/python3.6/dist-packages/torchaudio/__init__.py\", line 85, in load\n    filetype=filetype,\n  File \"/usr/local/lib/python3.6/dist-packages/torchaudio/_sox_backend.py\", line 47, in load\n    filetype\nRuntimeError: Error opening audio file\n\"\"\"",
            "\nThe above exception was the direct cause of the following exception:\n",
            "\u001b[0;31mRuntimeError\u001b[0m                              Traceback (most recent call last)",
            "\u001b[0;32m<ipython-input-75-a3849cea5559>\u001b[0m in \u001b[0;36m<module>\u001b[0;34m()\u001b[0m\n\u001b[1;32m      5\u001b[0m \u001b[0mletters_labels\u001b[0m\u001b[0;34m,\u001b[0m \u001b[0mN_LETTERS\u001b[0m \u001b[0;34m=\u001b[0m \u001b[0mparseSeqLabels\u001b[0m\u001b[0;34m(\u001b[0m\u001b[0mpath_letter_data_cer\u001b[0m\u001b[0;34m)\u001b[0m\u001b[0;34m\u001b[0m\u001b[0;34m\u001b[0m\u001b[0m\n\u001b[1;32m      6\u001b[0m \u001b[0mdata_train_cer\u001b[0m\u001b[0;34m,\u001b[0m \u001b[0m_\u001b[0m \u001b[0;34m=\u001b[0m \u001b[0mfindAllSeqs\u001b[0m\u001b[0;34m(\u001b[0m\u001b[0mpath_test_data_cer\u001b[0m\u001b[0;34m,\u001b[0m \u001b[0mextension\u001b[0m\u001b[0;34m=\u001b[0m\u001b[0;34m'.wav'\u001b[0m\u001b[0;34m)\u001b[0m\u001b[0;34m\u001b[0m\u001b[0;34m\u001b[0m\u001b[0m\n\u001b[0;32m----> 7\u001b[0;31m \u001b[0mdataset_test_non_aligned\u001b[0m \u001b[0;34m=\u001b[0m \u001b[0mSingleSequenceDataset\u001b[0m\u001b[0;34m(\u001b[0m\u001b[0mpath_test_data_cer\u001b[0m\u001b[0;34m,\u001b[0m \u001b[0mdata_train_cer\u001b[0m\u001b[0;34m,\u001b[0m \u001b[0mletters_labels\u001b[0m\u001b[0;34m)\u001b[0m\u001b[0;34m\u001b[0m\u001b[0;34m\u001b[0m\u001b[0m\n\u001b[0m\u001b[1;32m      8\u001b[0m \u001b[0;31m# The data loader will generate a tuple of tensors data, labels for each batch\u001b[0m\u001b[0;34m\u001b[0m\u001b[0;34m\u001b[0m\u001b[0;34m\u001b[0m\u001b[0m\n\u001b[1;32m      9\u001b[0m \u001b[0;31m# data : size N x T1 x 1 : the audio sequence\u001b[0m\u001b[0;34m\u001b[0m\u001b[0;34m\u001b[0m\u001b[0;34m\u001b[0m\u001b[0m\n",
            "\u001b[0;32m/content/CPC_audio/cpc/eval/common_voices_eval.py\u001b[0m in \u001b[0;36m__init__\u001b[0;34m(self, pathDB, seqNames, phoneLabelsDict, inDim, transpose)\u001b[0m\n\u001b[1;32m     55\u001b[0m         \u001b[0mself\u001b[0m\u001b[0;34m.\u001b[0m\u001b[0minDim\u001b[0m \u001b[0;34m=\u001b[0m \u001b[0minDim\u001b[0m\u001b[0;34m\u001b[0m\u001b[0;34m\u001b[0m\u001b[0m\n\u001b[1;32m     56\u001b[0m         \u001b[0mself\u001b[0m\u001b[0;34m.\u001b[0m\u001b[0mtranspose\u001b[0m \u001b[0;34m=\u001b[0m \u001b[0mtranspose\u001b[0m\u001b[0;34m\u001b[0m\u001b[0;34m\u001b[0m\u001b[0m\n\u001b[0;32m---> 57\u001b[0;31m         \u001b[0mself\u001b[0m\u001b[0;34m.\u001b[0m\u001b[0mloadSeqs\u001b[0m\u001b[0;34m(\u001b[0m\u001b[0;34m)\u001b[0m\u001b[0;34m\u001b[0m\u001b[0;34m\u001b[0m\u001b[0m\n\u001b[0m\u001b[1;32m     58\u001b[0m \u001b[0;34m\u001b[0m\u001b[0m\n\u001b[1;32m     59\u001b[0m     \u001b[0;32mdef\u001b[0m \u001b[0mloadSeqs\u001b[0m\u001b[0;34m(\u001b[0m\u001b[0mself\u001b[0m\u001b[0;34m)\u001b[0m\u001b[0;34m:\u001b[0m\u001b[0;34m\u001b[0m\u001b[0;34m\u001b[0m\u001b[0m\n",
            "\u001b[0;32m/content/CPC_audio/cpc/eval/common_voices_eval.py\u001b[0m in \u001b[0;36mloadSeqs\u001b[0;34m(self)\u001b[0m\n\u001b[1;32m     75\u001b[0m \u001b[0;34m\u001b[0m\u001b[0m\n\u001b[1;32m     76\u001b[0m         \u001b[0;32mwith\u001b[0m \u001b[0mPool\u001b[0m\u001b[0;34m(\u001b[0m\u001b[0mnprocess\u001b[0m\u001b[0;34m)\u001b[0m \u001b[0;32mas\u001b[0m \u001b[0mp\u001b[0m\u001b[0;34m:\u001b[0m\u001b[0;34m\u001b[0m\u001b[0;34m\u001b[0m\u001b[0m\n\u001b[0;32m---> 77\u001b[0;31m             \u001b[0mpoolData\u001b[0m \u001b[0;34m=\u001b[0m \u001b[0mp\u001b[0m\u001b[0;34m.\u001b[0m\u001b[0mmap\u001b[0m\u001b[0;34m(\u001b[0m\u001b[0mload\u001b[0m\u001b[0;34m,\u001b[0m \u001b[0mto_load\u001b[0m\u001b[0;34m)\u001b[0m\u001b[0;34m\u001b[0m\u001b[0;34m\u001b[0m\u001b[0m\n\u001b[0m\u001b[1;32m     78\u001b[0m \u001b[0;34m\u001b[0m\u001b[0m\n\u001b[1;32m     79\u001b[0m         \u001b[0mtmpData\u001b[0m \u001b[0;34m=\u001b[0m \u001b[0;34m[\u001b[0m\u001b[0;34m]\u001b[0m\u001b[0;34m\u001b[0m\u001b[0;34m\u001b[0m\u001b[0m\n",
            "\u001b[0;32m/usr/lib/python3.6/multiprocessing/pool.py\u001b[0m in \u001b[0;36mmap\u001b[0;34m(self, func, iterable, chunksize)\u001b[0m\n\u001b[1;32m    264\u001b[0m         \u001b[0;32min\u001b[0m \u001b[0ma\u001b[0m \u001b[0mlist\u001b[0m \u001b[0mthat\u001b[0m \u001b[0;32mis\u001b[0m \u001b[0mreturned\u001b[0m\u001b[0;34m.\u001b[0m\u001b[0;34m\u001b[0m\u001b[0;34m\u001b[0m\u001b[0m\n\u001b[1;32m    265\u001b[0m         '''\n\u001b[0;32m--> 266\u001b[0;31m         \u001b[0;32mreturn\u001b[0m \u001b[0mself\u001b[0m\u001b[0;34m.\u001b[0m\u001b[0m_map_async\u001b[0m\u001b[0;34m(\u001b[0m\u001b[0mfunc\u001b[0m\u001b[0;34m,\u001b[0m \u001b[0miterable\u001b[0m\u001b[0;34m,\u001b[0m \u001b[0mmapstar\u001b[0m\u001b[0;34m,\u001b[0m \u001b[0mchunksize\u001b[0m\u001b[0;34m)\u001b[0m\u001b[0;34m.\u001b[0m\u001b[0mget\u001b[0m\u001b[0;34m(\u001b[0m\u001b[0;34m)\u001b[0m\u001b[0;34m\u001b[0m\u001b[0;34m\u001b[0m\u001b[0m\n\u001b[0m\u001b[1;32m    267\u001b[0m \u001b[0;34m\u001b[0m\u001b[0m\n\u001b[1;32m    268\u001b[0m     \u001b[0;32mdef\u001b[0m \u001b[0mstarmap\u001b[0m\u001b[0;34m(\u001b[0m\u001b[0mself\u001b[0m\u001b[0;34m,\u001b[0m \u001b[0mfunc\u001b[0m\u001b[0;34m,\u001b[0m \u001b[0miterable\u001b[0m\u001b[0;34m,\u001b[0m \u001b[0mchunksize\u001b[0m\u001b[0;34m=\u001b[0m\u001b[0;32mNone\u001b[0m\u001b[0;34m)\u001b[0m\u001b[0;34m:\u001b[0m\u001b[0;34m\u001b[0m\u001b[0;34m\u001b[0m\u001b[0m\n",
            "\u001b[0;32m/usr/lib/python3.6/multiprocessing/pool.py\u001b[0m in \u001b[0;36mget\u001b[0;34m(self, timeout)\u001b[0m\n\u001b[1;32m    642\u001b[0m             \u001b[0;32mreturn\u001b[0m \u001b[0mself\u001b[0m\u001b[0;34m.\u001b[0m\u001b[0m_value\u001b[0m\u001b[0;34m\u001b[0m\u001b[0;34m\u001b[0m\u001b[0m\n\u001b[1;32m    643\u001b[0m         \u001b[0;32melse\u001b[0m\u001b[0;34m:\u001b[0m\u001b[0;34m\u001b[0m\u001b[0;34m\u001b[0m\u001b[0m\n\u001b[0;32m--> 644\u001b[0;31m             \u001b[0;32mraise\u001b[0m \u001b[0mself\u001b[0m\u001b[0;34m.\u001b[0m\u001b[0m_value\u001b[0m\u001b[0;34m\u001b[0m\u001b[0;34m\u001b[0m\u001b[0m\n\u001b[0m\u001b[1;32m    645\u001b[0m \u001b[0;34m\u001b[0m\u001b[0m\n\u001b[1;32m    646\u001b[0m     \u001b[0;32mdef\u001b[0m \u001b[0m_set\u001b[0m\u001b[0;34m(\u001b[0m\u001b[0mself\u001b[0m\u001b[0;34m,\u001b[0m \u001b[0mi\u001b[0m\u001b[0;34m,\u001b[0m \u001b[0mobj\u001b[0m\u001b[0;34m)\u001b[0m\u001b[0;34m:\u001b[0m\u001b[0;34m\u001b[0m\u001b[0;34m\u001b[0m\u001b[0m\n",
            "\u001b[0;31mRuntimeError\u001b[0m: Error opening audio file"
          ]
        }
      ]
    },
    {
      "cell_type": "code",
      "metadata": {
        "id": "-Srvo5ap41v4",
        "colab_type": "code",
        "colab": {}
      },
      "source": [
        "loss = validation_step(cpc_model,  character_classifier, loss_ctc, data_loader_test_letters)\n",
        " "
      ],
      "execution_count": null,
      "outputs": []
    },
    {
      "cell_type": "code",
      "metadata": {
        "id": "Fc6pqe6f44wp",
        "colab_type": "code",
        "colab": {}
      },
      "source": [
        "print(f\"Average loss for test data : {loss}\")"
      ],
      "execution_count": null,
      "outputs": []
    }
  ]
}